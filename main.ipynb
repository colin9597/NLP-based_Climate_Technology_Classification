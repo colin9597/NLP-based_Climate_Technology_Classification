{
  "nbformat": 4,
  "nbformat_minor": 5,
  "metadata": {
    "colab": {
      "name": "eda.ipynb",
      "provenance": [],
      "collapsed_sections": []
    },
    "kernelspec": {
      "display_name": "Python 3",
      "language": "python",
      "name": "python3"
    },
    "language_info": {
      "codemirror_mode": {
        "name": "ipython",
        "version": 3
      },
      "file_extension": ".py",
      "mimetype": "text/x-python",
      "name": "python",
      "nbconvert_exporter": "python",
      "pygments_lexer": "ipython3",
      "version": "3.8.10"
    }
  },
  "cells": [
    {
      "cell_type": "markdown",
      "metadata": {
        "id": "uAmW5MkN6oxE"
      },
      "source": [
        "## mecab 설치"
      ],
      "id": "uAmW5MkN6oxE"
    },
    {
      "cell_type": "code",
      "metadata": {
        "colab": {
          "base_uri": "https://localhost:8080/"
        },
        "id": "tatv_cw0Hydh",
        "outputId": "4405d0d0-d125-4b6e-b53a-677f84b21685"
      },
      "source": [
        "%%bash\n",
        "apt-get update\n",
        "apt-get install g++ openjdk-8-jdk python-dev python3-dev\n",
        "pip3 install JPype1"
      ],
      "id": "tatv_cw0Hydh",
      "execution_count": null,
      "outputs": [
        {
          "output_type": "stream",
          "text": [
            "Get:1 http://security.ubuntu.com/ubuntu bionic-security InRelease [88.7 kB]\n",
            "Get:2 https://cloud.r-project.org/bin/linux/ubuntu bionic-cran40/ InRelease [3,626 B]\n",
            "Get:3 http://ppa.launchpad.net/c2d4u.team/c2d4u4.0+/ubuntu bionic InRelease [15.9 kB]\n",
            "Ign:4 https://developer.download.nvidia.com/compute/cuda/repos/ubuntu1804/x86_64  InRelease\n",
            "Hit:5 http://archive.ubuntu.com/ubuntu bionic InRelease\n",
            "Ign:6 https://developer.download.nvidia.com/compute/machine-learning/repos/ubuntu1804/x86_64  InRelease\n",
            "Hit:7 https://developer.download.nvidia.com/compute/cuda/repos/ubuntu1804/x86_64  Release\n",
            "Hit:8 https://developer.download.nvidia.com/compute/machine-learning/repos/ubuntu1804/x86_64  Release\n",
            "Get:9 http://archive.ubuntu.com/ubuntu bionic-updates InRelease [88.7 kB]\n",
            "Hit:10 http://ppa.launchpad.net/cran/libgit2/ubuntu bionic InRelease\n",
            "Get:11 http://security.ubuntu.com/ubuntu bionic-security/restricted amd64 Packages [543 kB]\n",
            "Hit:12 http://ppa.launchpad.net/deadsnakes/ppa/ubuntu bionic InRelease\n",
            "Get:13 http://security.ubuntu.com/ubuntu bionic-security/universe amd64 Packages [1,421 kB]\n",
            "Get:14 http://archive.ubuntu.com/ubuntu bionic-backports InRelease [74.6 kB]\n",
            "Get:15 http://security.ubuntu.com/ubuntu bionic-security/main amd64 Packages [2,294 kB]\n",
            "Hit:16 http://ppa.launchpad.net/graphics-drivers/ppa/ubuntu bionic InRelease\n",
            "Get:17 http://ppa.launchpad.net/c2d4u.team/c2d4u4.0+/ubuntu bionic/main Sources [1,792 kB]\n",
            "Get:20 http://ppa.launchpad.net/c2d4u.team/c2d4u4.0+/ubuntu bionic/main amd64 Packages [917 kB]\n",
            "Get:21 http://archive.ubuntu.com/ubuntu bionic-updates/main amd64 Packages [2,730 kB]\n",
            "Get:22 http://archive.ubuntu.com/ubuntu bionic-updates/multiverse amd64 Packages [34.4 kB]\n",
            "Get:23 http://archive.ubuntu.com/ubuntu bionic-updates/restricted amd64 Packages [575 kB]\n",
            "Get:24 http://archive.ubuntu.com/ubuntu bionic-updates/universe amd64 Packages [2,196 kB]\n",
            "Fetched 12.8 MB in 4s (3,255 kB/s)\n",
            "Reading package lists...\n",
            "Reading package lists...\n",
            "Building dependency tree...\n",
            "Reading state information...\n",
            "python-dev is already the newest version (2.7.15~rc1-1).\n",
            "g++ is already the newest version (4:7.4.0-1ubuntu2.3).\n",
            "g++ set to manually installed.\n",
            "python3-dev is already the newest version (3.6.7-1~18.04).\n",
            "python3-dev set to manually installed.\n",
            "The following package was automatically installed and is no longer required:\n",
            "  libnvidia-common-460\n",
            "Use 'apt autoremove' to remove it.\n",
            "The following additional packages will be installed:\n",
            "  fonts-dejavu-core fonts-dejavu-extra libatk-wrapper-java\n",
            "  libatk-wrapper-java-jni libgail-common libgail18 libgtk2.0-0 libgtk2.0-bin\n",
            "  libgtk2.0-common libxxf86dga1 openjdk-8-jdk-headless openjdk-8-jre\n",
            "  openjdk-8-jre-headless x11-utils\n",
            "Suggested packages:\n",
            "  gvfs openjdk-8-demo openjdk-8-source visualvm icedtea-8-plugin libnss-mdns\n",
            "  fonts-ipafont-gothic fonts-ipafont-mincho fonts-wqy-microhei\n",
            "  fonts-wqy-zenhei fonts-indic mesa-utils\n",
            "The following NEW packages will be installed:\n",
            "  fonts-dejavu-core fonts-dejavu-extra libatk-wrapper-java\n",
            "  libatk-wrapper-java-jni libgail-common libgail18 libgtk2.0-0 libgtk2.0-bin\n",
            "  libgtk2.0-common libxxf86dga1 openjdk-8-jdk openjdk-8-jdk-headless\n",
            "  openjdk-8-jre openjdk-8-jre-headless x11-utils\n",
            "0 upgraded, 15 newly installed, 0 to remove and 49 not upgraded.\n",
            "Need to get 43.5 MB of archives.\n",
            "After this operation, 163 MB of additional disk space will be used.\n",
            "Get:1 http://archive.ubuntu.com/ubuntu bionic/main amd64 libxxf86dga1 amd64 2:1.1.4-1 [13.7 kB]\n",
            "Get:2 http://archive.ubuntu.com/ubuntu bionic/main amd64 fonts-dejavu-core all 2.37-1 [1,041 kB]\n",
            "Get:3 http://archive.ubuntu.com/ubuntu bionic/main amd64 fonts-dejavu-extra all 2.37-1 [1,953 kB]\n",
            "Get:4 http://archive.ubuntu.com/ubuntu bionic/main amd64 x11-utils amd64 7.7+3build1 [196 kB]\n",
            "Get:5 http://archive.ubuntu.com/ubuntu bionic/main amd64 libatk-wrapper-java all 0.33.3-20ubuntu0.1 [34.7 kB]\n",
            "Get:6 http://archive.ubuntu.com/ubuntu bionic/main amd64 libatk-wrapper-java-jni amd64 0.33.3-20ubuntu0.1 [28.3 kB]\n",
            "Get:7 http://archive.ubuntu.com/ubuntu bionic/main amd64 libgtk2.0-common all 2.24.32-1ubuntu1 [125 kB]\n",
            "Get:8 http://archive.ubuntu.com/ubuntu bionic/main amd64 libgtk2.0-0 amd64 2.24.32-1ubuntu1 [1,769 kB]\n",
            "Get:9 http://archive.ubuntu.com/ubuntu bionic/main amd64 libgail18 amd64 2.24.32-1ubuntu1 [14.2 kB]\n",
            "Get:10 http://archive.ubuntu.com/ubuntu bionic/main amd64 libgail-common amd64 2.24.32-1ubuntu1 [112 kB]\n",
            "Get:11 http://archive.ubuntu.com/ubuntu bionic/main amd64 libgtk2.0-bin amd64 2.24.32-1ubuntu1 [7,536 B]\n",
            "Get:12 http://archive.ubuntu.com/ubuntu bionic-updates/universe amd64 openjdk-8-jre-headless amd64 8u292-b10-0ubuntu1~18.04 [28.2 MB]\n",
            "Get:13 http://archive.ubuntu.com/ubuntu bionic-updates/universe amd64 openjdk-8-jre amd64 8u292-b10-0ubuntu1~18.04 [69.6 kB]\n",
            "Get:14 http://archive.ubuntu.com/ubuntu bionic-updates/universe amd64 openjdk-8-jdk-headless amd64 8u292-b10-0ubuntu1~18.04 [8,284 kB]\n",
            "Get:15 http://archive.ubuntu.com/ubuntu bionic-updates/universe amd64 openjdk-8-jdk amd64 8u292-b10-0ubuntu1~18.04 [1,644 kB]\n",
            "Fetched 43.5 MB in 2s (19.6 MB/s)\n",
            "Selecting previously unselected package libxxf86dga1:amd64.\r\n",
            "(Reading database ... \r(Reading database ... 5%\r(Reading database ... 10%\r(Reading database ... 15%\r(Reading database ... 20%\r(Reading database ... 25%\r(Reading database ... 30%\r(Reading database ... 35%\r(Reading database ... 40%\r(Reading database ... 45%\r(Reading database ... 50%\r(Reading database ... 55%\r(Reading database ... 60%\r(Reading database ... 65%\r(Reading database ... 70%\r(Reading database ... 75%\r(Reading database ... 80%\r(Reading database ... 85%\r(Reading database ... 90%\r(Reading database ... 95%\r(Reading database ... 100%\r(Reading database ... 148486 files and directories currently installed.)\r\n",
            "Preparing to unpack .../00-libxxf86dga1_2%3a1.1.4-1_amd64.deb ...\r\n",
            "Unpacking libxxf86dga1:amd64 (2:1.1.4-1) ...\r\n",
            "Selecting previously unselected package fonts-dejavu-core.\r\n",
            "Preparing to unpack .../01-fonts-dejavu-core_2.37-1_all.deb ...\r\n",
            "Unpacking fonts-dejavu-core (2.37-1) ...\r\n",
            "Selecting previously unselected package fonts-dejavu-extra.\r\n",
            "Preparing to unpack .../02-fonts-dejavu-extra_2.37-1_all.deb ...\r\n",
            "Unpacking fonts-dejavu-extra (2.37-1) ...\r\n",
            "Selecting previously unselected package x11-utils.\r\n",
            "Preparing to unpack .../03-x11-utils_7.7+3build1_amd64.deb ...\r\n",
            "Unpacking x11-utils (7.7+3build1) ...\r\n",
            "Selecting previously unselected package libatk-wrapper-java.\r\n",
            "Preparing to unpack .../04-libatk-wrapper-java_0.33.3-20ubuntu0.1_all.deb ...\r\n",
            "Unpacking libatk-wrapper-java (0.33.3-20ubuntu0.1) ...\r\n",
            "Selecting previously unselected package libatk-wrapper-java-jni:amd64.\r\n",
            "Preparing to unpack .../05-libatk-wrapper-java-jni_0.33.3-20ubuntu0.1_amd64.deb ...\r\n",
            "Unpacking libatk-wrapper-java-jni:amd64 (0.33.3-20ubuntu0.1) ...\r\n",
            "Selecting previously unselected package libgtk2.0-common.\r\n",
            "Preparing to unpack .../06-libgtk2.0-common_2.24.32-1ubuntu1_all.deb ...\r\n",
            "Unpacking libgtk2.0-common (2.24.32-1ubuntu1) ...\r\n",
            "Selecting previously unselected package libgtk2.0-0:amd64.\r\n",
            "Preparing to unpack .../07-libgtk2.0-0_2.24.32-1ubuntu1_amd64.deb ...\r\n",
            "Unpacking libgtk2.0-0:amd64 (2.24.32-1ubuntu1) ...\r\n",
            "Selecting previously unselected package libgail18:amd64.\r\n",
            "Preparing to unpack .../08-libgail18_2.24.32-1ubuntu1_amd64.deb ...\r\n",
            "Unpacking libgail18:amd64 (2.24.32-1ubuntu1) ...\r\n",
            "Selecting previously unselected package libgail-common:amd64.\r\n",
            "Preparing to unpack .../09-libgail-common_2.24.32-1ubuntu1_amd64.deb ...\r\n",
            "Unpacking libgail-common:amd64 (2.24.32-1ubuntu1) ...\r\n",
            "Selecting previously unselected package libgtk2.0-bin.\r\n",
            "Preparing to unpack .../10-libgtk2.0-bin_2.24.32-1ubuntu1_amd64.deb ...\r\n",
            "Unpacking libgtk2.0-bin (2.24.32-1ubuntu1) ...\r\n",
            "Selecting previously unselected package openjdk-8-jre-headless:amd64.\r\n",
            "Preparing to unpack .../11-openjdk-8-jre-headless_8u292-b10-0ubuntu1~18.04_amd64.deb ...\r\n",
            "Unpacking openjdk-8-jre-headless:amd64 (8u292-b10-0ubuntu1~18.04) ...\r\n",
            "Selecting previously unselected package openjdk-8-jre:amd64.\r\n",
            "Preparing to unpack .../12-openjdk-8-jre_8u292-b10-0ubuntu1~18.04_amd64.deb ...\r\n",
            "Unpacking openjdk-8-jre:amd64 (8u292-b10-0ubuntu1~18.04) ...\r\n",
            "Selecting previously unselected package openjdk-8-jdk-headless:amd64.\r\n",
            "Preparing to unpack .../13-openjdk-8-jdk-headless_8u292-b10-0ubuntu1~18.04_amd64.deb ...\r\n",
            "Unpacking openjdk-8-jdk-headless:amd64 (8u292-b10-0ubuntu1~18.04) ...\r\n",
            "Selecting previously unselected package openjdk-8-jdk:amd64.\r\n",
            "Preparing to unpack .../14-openjdk-8-jdk_8u292-b10-0ubuntu1~18.04_amd64.deb ...\r\n",
            "Unpacking openjdk-8-jdk:amd64 (8u292-b10-0ubuntu1~18.04) ...\r\n",
            "Setting up libgtk2.0-common (2.24.32-1ubuntu1) ...\r\n",
            "Setting up fonts-dejavu-core (2.37-1) ...\r\n",
            "Setting up libxxf86dga1:amd64 (2:1.1.4-1) ...\r\n",
            "Setting up fonts-dejavu-extra (2.37-1) ...\r\n",
            "Setting up openjdk-8-jre-headless:amd64 (8u292-b10-0ubuntu1~18.04) ...\r\n",
            "update-alternatives: using /usr/lib/jvm/java-8-openjdk-amd64/jre/bin/orbd to provide /usr/bin/orbd (orbd) in auto mode\r\n",
            "update-alternatives: using /usr/lib/jvm/java-8-openjdk-amd64/jre/bin/servertool to provide /usr/bin/servertool (servertool) in auto mode\r\n",
            "update-alternatives: using /usr/lib/jvm/java-8-openjdk-amd64/jre/bin/tnameserv to provide /usr/bin/tnameserv (tnameserv) in auto mode\r\n",
            "Setting up libgtk2.0-0:amd64 (2.24.32-1ubuntu1) ...\r\n",
            "Setting up libgail18:amd64 (2.24.32-1ubuntu1) ...\r\n",
            "Setting up openjdk-8-jdk-headless:amd64 (8u292-b10-0ubuntu1~18.04) ...\r\n",
            "update-alternatives: using /usr/lib/jvm/java-8-openjdk-amd64/bin/idlj to provide /usr/bin/idlj (idlj) in auto mode\r\n",
            "update-alternatives: using /usr/lib/jvm/java-8-openjdk-amd64/bin/wsimport to provide /usr/bin/wsimport (wsimport) in auto mode\r\n",
            "update-alternatives: using /usr/lib/jvm/java-8-openjdk-amd64/bin/jsadebugd to provide /usr/bin/jsadebugd (jsadebugd) in auto mode\r\n",
            "update-alternatives: using /usr/lib/jvm/java-8-openjdk-amd64/bin/native2ascii to provide /usr/bin/native2ascii (native2ascii) in auto mode\r\n",
            "update-alternatives: using /usr/lib/jvm/java-8-openjdk-amd64/bin/javah to provide /usr/bin/javah (javah) in auto mode\r\n",
            "update-alternatives: using /usr/lib/jvm/java-8-openjdk-amd64/bin/hsdb to provide /usr/bin/hsdb (hsdb) in auto mode\r\n",
            "update-alternatives: using /usr/lib/jvm/java-8-openjdk-amd64/bin/clhsdb to provide /usr/bin/clhsdb (clhsdb) in auto mode\r\n",
            "update-alternatives: using /usr/lib/jvm/java-8-openjdk-amd64/bin/extcheck to provide /usr/bin/extcheck (extcheck) in auto mode\r\n",
            "update-alternatives: using /usr/lib/jvm/java-8-openjdk-amd64/bin/schemagen to provide /usr/bin/schemagen (schemagen) in auto mode\r\n",
            "update-alternatives: using /usr/lib/jvm/java-8-openjdk-amd64/bin/xjc to provide /usr/bin/xjc (xjc) in auto mode\r\n",
            "update-alternatives: using /usr/lib/jvm/java-8-openjdk-amd64/bin/jhat to provide /usr/bin/jhat (jhat) in auto mode\r\n",
            "update-alternatives: using /usr/lib/jvm/java-8-openjdk-amd64/bin/wsgen to provide /usr/bin/wsgen (wsgen) in auto mode\r\n",
            "Setting up x11-utils (7.7+3build1) ...\r\n",
            "Setting up libgail-common:amd64 (2.24.32-1ubuntu1) ...\r\n",
            "Setting up libatk-wrapper-java (0.33.3-20ubuntu0.1) ...\r\n",
            "Setting up libgtk2.0-bin (2.24.32-1ubuntu1) ...\r\n",
            "Setting up libatk-wrapper-java-jni:amd64 (0.33.3-20ubuntu0.1) ...\r\n",
            "Setting up openjdk-8-jre:amd64 (8u292-b10-0ubuntu1~18.04) ...\r\n",
            "update-alternatives: using /usr/lib/jvm/java-8-openjdk-amd64/jre/bin/policytool to provide /usr/bin/policytool (policytool) in auto mode\r\n",
            "Setting up openjdk-8-jdk:amd64 (8u292-b10-0ubuntu1~18.04) ...\r\n",
            "update-alternatives: using /usr/lib/jvm/java-8-openjdk-amd64/bin/appletviewer to provide /usr/bin/appletviewer (appletviewer) in auto mode\r\n",
            "update-alternatives: using /usr/lib/jvm/java-8-openjdk-amd64/bin/jconsole to provide /usr/bin/jconsole (jconsole) in auto mode\r\n",
            "Processing triggers for man-db (2.8.3-2ubuntu0.1) ...\r\n",
            "Processing triggers for hicolor-icon-theme (0.17-2) ...\r\n",
            "Processing triggers for fontconfig (2.12.6-0ubuntu2) ...\r\n",
            "Processing triggers for mime-support (3.60ubuntu1) ...\r\n",
            "Processing triggers for libc-bin (2.27-3ubuntu1.2) ...\r\n",
            "/sbin/ldconfig.real: /usr/local/lib/python3.7/dist-packages/ideep4py/lib/libmkldnn.so.0 is not a symbolic link\r\n",
            "\r\n",
            "Collecting JPype1\n",
            "  Downloading JPype1-1.3.0-cp37-cp37m-manylinux_2_5_x86_64.manylinux1_x86_64.whl (448 kB)\n",
            "Requirement already satisfied: typing-extensions in /usr/local/lib/python3.7/dist-packages (from JPype1) (3.7.4.3)\n",
            "Installing collected packages: JPype1\n",
            "Successfully installed JPype1-1.3.0\n"
          ],
          "name": "stdout"
        }
      ]
    },
    {
      "cell_type": "code",
      "metadata": {
        "colab": {
          "base_uri": "https://localhost:8080/"
        },
        "id": "-ADSeY_fH1n4",
        "outputId": "b794219f-3d7b-4ab2-ced1-bce9c7c53adb"
      },
      "source": [
        "%env JAVA_HOME \"/usr/lib/jvm/java-8-openjdk-amd64\""
      ],
      "id": "-ADSeY_fH1n4",
      "execution_count": null,
      "outputs": [
        {
          "output_type": "stream",
          "text": [
            "env: JAVA_HOME=\"/usr/lib/jvm/java-8-openjdk-amd64\"\n"
          ],
          "name": "stdout"
        }
      ]
    },
    {
      "cell_type": "code",
      "metadata": {
        "colab": {
          "base_uri": "https://localhost:8080/"
        },
        "id": "zoI8Pg5zH4if",
        "outputId": "3dc43a3f-411d-4c90-829b-9feeeec4c616"
      },
      "source": [
        "%%bash\n",
        "bash <(curl -s https://raw.githubusercontent.com/konlpy/konlpy/master/scripts/mecab.sh)\n",
        "pip3 install /tmp/mecab-python-0.996"
      ],
      "id": "zoI8Pg5zH4if",
      "execution_count": null,
      "outputs": [
        {
          "output_type": "stream",
          "text": [
            "Installing automake (A dependency for mecab-ko)\n",
            "Hit:1 http://security.ubuntu.com/ubuntu bionic-security InRelease\n",
            "Ign:2 https://developer.download.nvidia.com/compute/cuda/repos/ubuntu1804/x86_64  InRelease\n",
            "Hit:3 https://cloud.r-project.org/bin/linux/ubuntu bionic-cran40/ InRelease\n",
            "Hit:4 http://ppa.launchpad.net/c2d4u.team/c2d4u4.0+/ubuntu bionic InRelease\n",
            "Ign:5 https://developer.download.nvidia.com/compute/machine-learning/repos/ubuntu1804/x86_64  InRelease\n",
            "Hit:6 http://archive.ubuntu.com/ubuntu bionic InRelease\n",
            "Hit:7 https://developer.download.nvidia.com/compute/cuda/repos/ubuntu1804/x86_64  Release\n",
            "Hit:8 https://developer.download.nvidia.com/compute/machine-learning/repos/ubuntu1804/x86_64  Release\n",
            "Hit:9 http://archive.ubuntu.com/ubuntu bionic-updates InRelease\n",
            "Hit:10 http://ppa.launchpad.net/cran/libgit2/ubuntu bionic InRelease\n",
            "Hit:11 http://archive.ubuntu.com/ubuntu bionic-backports InRelease\n",
            "Hit:12 http://ppa.launchpad.net/deadsnakes/ppa/ubuntu bionic InRelease\n",
            "Hit:15 http://ppa.launchpad.net/graphics-drivers/ppa/ubuntu bionic InRelease\n",
            "Reading package lists...\n",
            "Reading package lists...\n",
            "Building dependency tree...\n",
            "Reading state information...\n",
            "The following package was automatically installed and is no longer required:\n",
            "  libnvidia-common-460\n",
            "Use 'sudo apt autoremove' to remove it.\n",
            "The following additional packages will be installed:\n",
            "  autoconf autotools-dev libsigsegv2 m4\n",
            "Suggested packages:\n",
            "  autoconf-archive gnu-standards autoconf-doc libtool gettext m4-doc\n",
            "The following NEW packages will be installed:\n",
            "  autoconf automake autotools-dev libsigsegv2 m4\n",
            "0 upgraded, 5 newly installed, 0 to remove and 49 not upgraded.\n",
            "Need to get 1,082 kB of archives.\n",
            "After this operation, 3,994 kB of additional disk space will be used.\n",
            "Get:1 http://archive.ubuntu.com/ubuntu bionic/main amd64 libsigsegv2 amd64 2.12-1 [14.7 kB]\n",
            "Get:2 http://archive.ubuntu.com/ubuntu bionic/main amd64 m4 amd64 1.4.18-1 [197 kB]\n",
            "Get:3 http://archive.ubuntu.com/ubuntu bionic/main amd64 autoconf all 2.69-11 [322 kB]\n",
            "Get:4 http://archive.ubuntu.com/ubuntu bionic/main amd64 autotools-dev all 20180224.1 [39.6 kB]\n",
            "Get:5 http://archive.ubuntu.com/ubuntu bionic/main amd64 automake all 1:1.15.1-3ubuntu2 [509 kB]\n",
            "Fetched 1,082 kB in 1s (1,237 kB/s)\n",
            "Selecting previously unselected package libsigsegv2:amd64.\r\n",
            "(Reading database ... \r(Reading database ... 5%\r(Reading database ... 10%\r(Reading database ... 15%\r(Reading database ... 20%\r(Reading database ... 25%\r(Reading database ... 30%\r(Reading database ... 35%\r(Reading database ... 40%\r(Reading database ... 45%\r(Reading database ... 50%\r(Reading database ... 55%\r(Reading database ... 60%\r(Reading database ... 65%\r(Reading database ... 70%\r(Reading database ... 75%\r(Reading database ... 80%\r(Reading database ... 85%\r(Reading database ... 90%\r(Reading database ... 95%\r(Reading database ... 100%\r(Reading database ... 149062 files and directories currently installed.)\r\n",
            "Preparing to unpack .../libsigsegv2_2.12-1_amd64.deb ...\r\n",
            "Unpacking libsigsegv2:amd64 (2.12-1) ...\r\n",
            "Selecting previously unselected package m4.\r\n",
            "Preparing to unpack .../archives/m4_1.4.18-1_amd64.deb ...\r\n",
            "Unpacking m4 (1.4.18-1) ...\r\n",
            "Selecting previously unselected package autoconf.\r\n",
            "Preparing to unpack .../autoconf_2.69-11_all.deb ...\r\n",
            "Unpacking autoconf (2.69-11) ...\r\n",
            "Selecting previously unselected package autotools-dev.\r\n",
            "Preparing to unpack .../autotools-dev_20180224.1_all.deb ...\r\n",
            "Unpacking autotools-dev (20180224.1) ...\r\n",
            "Selecting previously unselected package automake.\r\n",
            "Preparing to unpack .../automake_1%3a1.15.1-3ubuntu2_all.deb ...\r\n",
            "Unpacking automake (1:1.15.1-3ubuntu2) ...\r\n",
            "Setting up libsigsegv2:amd64 (2.12-1) ...\r\n",
            "Setting up m4 (1.4.18-1) ...\r\n",
            "Setting up autotools-dev (20180224.1) ...\r\n",
            "Setting up autoconf (2.69-11) ...\r\n",
            "Setting up automake (1:1.15.1-3ubuntu2) ...\r\n",
            "update-alternatives: using /usr/bin/automake-1.15 to provide /usr/bin/automake (automake) in auto mode\r\n",
            "Processing triggers for libc-bin (2.27-3ubuntu1.2) ...\r\n",
            "/sbin/ldconfig.real: /usr/local/lib/python3.7/dist-packages/ideep4py/lib/libmkldnn.so.0 is not a symbolic link\r\n",
            "\r\n",
            "Processing triggers for man-db (2.8.3-2ubuntu0.1) ...\r\n",
            "Install mecab-ko-dic\n",
            "mecab-0.996-ko-0.9.2/\n",
            "mecab-0.996-ko-0.9.2/example/\n",
            "mecab-0.996-ko-0.9.2/example/example.cpp\n",
            "mecab-0.996-ko-0.9.2/example/example_lattice.cpp\n",
            "mecab-0.996-ko-0.9.2/example/example_lattice.c\n",
            "mecab-0.996-ko-0.9.2/example/example.c\n",
            "mecab-0.996-ko-0.9.2/example/thread_test.cpp\n",
            "mecab-0.996-ko-0.9.2/mecab-config.in\n",
            "mecab-0.996-ko-0.9.2/man/\n",
            "mecab-0.996-ko-0.9.2/man/Makefile.am\n",
            "mecab-0.996-ko-0.9.2/man/mecab.1\n",
            "mecab-0.996-ko-0.9.2/man/Makefile.in\n",
            "mecab-0.996-ko-0.9.2/mecab.iss.in\n",
            "mecab-0.996-ko-0.9.2/config.guess\n",
            "mecab-0.996-ko-0.9.2/README\n",
            "mecab-0.996-ko-0.9.2/COPYING\n",
            "mecab-0.996-ko-0.9.2/CHANGES.md\n",
            "mecab-0.996-ko-0.9.2/README.md\n",
            "mecab-0.996-ko-0.9.2/INSTALL\n",
            "mecab-0.996-ko-0.9.2/config.sub\n",
            "mecab-0.996-ko-0.9.2/configure.in\n",
            "mecab-0.996-ko-0.9.2/swig/\n",
            "mecab-0.996-ko-0.9.2/swig/Makefile\n",
            "mecab-0.996-ko-0.9.2/swig/version.h.in\n",
            "mecab-0.996-ko-0.9.2/swig/version.h\n",
            "mecab-0.996-ko-0.9.2/swig/MeCab.i\n",
            "mecab-0.996-ko-0.9.2/aclocal.m4\n",
            "mecab-0.996-ko-0.9.2/LGPL\n",
            "mecab-0.996-ko-0.9.2/Makefile.am\n",
            "mecab-0.996-ko-0.9.2/configure\n",
            "mecab-0.996-ko-0.9.2/tests/\n",
            "mecab-0.996-ko-0.9.2/tests/autolink/\n",
            "mecab-0.996-ko-0.9.2/tests/autolink/unk.def\n",
            "mecab-0.996-ko-0.9.2/tests/autolink/dicrc\n",
            "mecab-0.996-ko-0.9.2/tests/autolink/dic.csv\n",
            "mecab-0.996-ko-0.9.2/tests/autolink/test\n",
            "mecab-0.996-ko-0.9.2/tests/autolink/char.def\n",
            "mecab-0.996-ko-0.9.2/tests/autolink/matrix.def\n",
            "mecab-0.996-ko-0.9.2/tests/autolink/test.gld\n",
            "mecab-0.996-ko-0.9.2/tests/t9/\n",
            "mecab-0.996-ko-0.9.2/tests/t9/unk.def\n",
            "mecab-0.996-ko-0.9.2/tests/t9/ipadic.pl\n",
            "mecab-0.996-ko-0.9.2/tests/t9/dicrc\n",
            "mecab-0.996-ko-0.9.2/tests/t9/dic.csv\n",
            "mecab-0.996-ko-0.9.2/tests/t9/test\n",
            "mecab-0.996-ko-0.9.2/tests/t9/char.def\n",
            "mecab-0.996-ko-0.9.2/tests/t9/matrix.def\n",
            "mecab-0.996-ko-0.9.2/tests/t9/mkdic.pl\n",
            "mecab-0.996-ko-0.9.2/tests/t9/test.gld\n",
            "mecab-0.996-ko-0.9.2/tests/cost-train/\n",
            "mecab-0.996-ko-0.9.2/tests/cost-train/ipa.train\n",
            "mecab-0.996-ko-0.9.2/tests/cost-train/ipa.test\n",
            "mecab-0.996-ko-0.9.2/tests/cost-train/seed/\n",
            "mecab-0.996-ko-0.9.2/tests/cost-train/seed/rewrite.def\n",
            "mecab-0.996-ko-0.9.2/tests/cost-train/seed/feature.def\n",
            "mecab-0.996-ko-0.9.2/tests/cost-train/seed/unk.def\n",
            "mecab-0.996-ko-0.9.2/tests/cost-train/seed/dicrc\n",
            "mecab-0.996-ko-0.9.2/tests/cost-train/seed/dic.csv\n",
            "mecab-0.996-ko-0.9.2/tests/cost-train/seed/char.def\n",
            "mecab-0.996-ko-0.9.2/tests/cost-train/seed/matrix.def\n",
            "mecab-0.996-ko-0.9.2/tests/run-eval.sh\n",
            "mecab-0.996-ko-0.9.2/tests/run-cost-train.sh\n",
            "mecab-0.996-ko-0.9.2/tests/Makefile.am\n",
            "mecab-0.996-ko-0.9.2/tests/katakana/\n",
            "mecab-0.996-ko-0.9.2/tests/katakana/unk.def\n",
            "mecab-0.996-ko-0.9.2/tests/katakana/dicrc\n",
            "mecab-0.996-ko-0.9.2/tests/katakana/dic.csv\n",
            "mecab-0.996-ko-0.9.2/tests/katakana/test\n",
            "mecab-0.996-ko-0.9.2/tests/katakana/char.def\n",
            "mecab-0.996-ko-0.9.2/tests/katakana/matrix.def\n",
            "mecab-0.996-ko-0.9.2/tests/katakana/test.gld\n",
            "mecab-0.996-ko-0.9.2/tests/eval/\n",
            "mecab-0.996-ko-0.9.2/tests/eval/answer\n",
            "mecab-0.996-ko-0.9.2/tests/eval/system\n",
            "mecab-0.996-ko-0.9.2/tests/eval/test.gld\n",
            "mecab-0.996-ko-0.9.2/tests/shiin/\n",
            "mecab-0.996-ko-0.9.2/tests/shiin/unk.def\n",
            "mecab-0.996-ko-0.9.2/tests/shiin/dicrc\n",
            "mecab-0.996-ko-0.9.2/tests/shiin/dic.csv\n",
            "mecab-0.996-ko-0.9.2/tests/shiin/test\n",
            "mecab-0.996-ko-0.9.2/tests/shiin/char.def\n",
            "mecab-0.996-ko-0.9.2/tests/shiin/matrix.def\n",
            "mecab-0.996-ko-0.9.2/tests/shiin/mkdic.pl\n",
            "mecab-0.996-ko-0.9.2/tests/shiin/test.gld\n",
            "mecab-0.996-ko-0.9.2/tests/latin/\n",
            "mecab-0.996-ko-0.9.2/tests/latin/unk.def\n",
            "mecab-0.996-ko-0.9.2/tests/latin/dicrc\n",
            "mecab-0.996-ko-0.9.2/tests/latin/dic.csv\n",
            "mecab-0.996-ko-0.9.2/tests/latin/test\n",
            "mecab-0.996-ko-0.9.2/tests/latin/char.def\n",
            "mecab-0.996-ko-0.9.2/tests/latin/matrix.def\n",
            "mecab-0.996-ko-0.9.2/tests/latin/test.gld\n",
            "mecab-0.996-ko-0.9.2/tests/chartype/\n",
            "mecab-0.996-ko-0.9.2/tests/chartype/unk.def\n",
            "mecab-0.996-ko-0.9.2/tests/chartype/dicrc\n",
            "mecab-0.996-ko-0.9.2/tests/chartype/dic.csv\n",
            "mecab-0.996-ko-0.9.2/tests/chartype/test\n",
            "mecab-0.996-ko-0.9.2/tests/chartype/char.def\n",
            "mecab-0.996-ko-0.9.2/tests/chartype/matrix.def\n",
            "mecab-0.996-ko-0.9.2/tests/chartype/test.gld\n",
            "mecab-0.996-ko-0.9.2/tests/run-dics.sh\n",
            "mecab-0.996-ko-0.9.2/tests/ngram/\n",
            "mecab-0.996-ko-0.9.2/tests/ngram/unk.def\n",
            "mecab-0.996-ko-0.9.2/tests/ngram/dicrc\n",
            "mecab-0.996-ko-0.9.2/tests/ngram/dic.csv\n",
            "mecab-0.996-ko-0.9.2/tests/ngram/test\n",
            "mecab-0.996-ko-0.9.2/tests/ngram/char.def\n",
            "mecab-0.996-ko-0.9.2/tests/ngram/matrix.def\n",
            "mecab-0.996-ko-0.9.2/tests/ngram/test.gld\n",
            "mecab-0.996-ko-0.9.2/tests/Makefile.in\n",
            "mecab-0.996-ko-0.9.2/ltmain.sh\n",
            "mecab-0.996-ko-0.9.2/config.rpath\n",
            "mecab-0.996-ko-0.9.2/config.h.in\n",
            "mecab-0.996-ko-0.9.2/mecabrc.in\n",
            "mecab-0.996-ko-0.9.2/GPL\n",
            "mecab-0.996-ko-0.9.2/Makefile.train\n",
            "mecab-0.996-ko-0.9.2/ChangeLog\n",
            "mecab-0.996-ko-0.9.2/install-sh\n",
            "mecab-0.996-ko-0.9.2/AUTHORS\n",
            "mecab-0.996-ko-0.9.2/doc/\n",
            "mecab-0.996-ko-0.9.2/doc/bindings.html\n",
            "mecab-0.996-ko-0.9.2/doc/posid.html\n",
            "mecab-0.996-ko-0.9.2/doc/unk.html\n",
            "mecab-0.996-ko-0.9.2/doc/learn.html\n",
            "mecab-0.996-ko-0.9.2/doc/format.html\n",
            "mecab-0.996-ko-0.9.2/doc/libmecab.html\n",
            "mecab-0.996-ko-0.9.2/doc/mecab.css\n",
            "mecab-0.996-ko-0.9.2/doc/feature.html\n",
            "mecab-0.996-ko-0.9.2/doc/Makefile.am\n",
            "mecab-0.996-ko-0.9.2/doc/soft.html\n",
            "mecab-0.996-ko-0.9.2/doc/en/\n",
            "mecab-0.996-ko-0.9.2/doc/en/bindings.html\n",
            "mecab-0.996-ko-0.9.2/doc/dic-detail.html\n",
            "mecab-0.996-ko-0.9.2/doc/flow.png\n",
            "mecab-0.996-ko-0.9.2/doc/mecab.html\n",
            "mecab-0.996-ko-0.9.2/doc/index.html\n",
            "mecab-0.996-ko-0.9.2/doc/result.png\n",
            "mecab-0.996-ko-0.9.2/doc/doxygen/\n",
            "mecab-0.996-ko-0.9.2/doc/doxygen/tab_a.png\n",
            "mecab-0.996-ko-0.9.2/doc/doxygen/globals_eval.html\n",
            "mecab-0.996-ko-0.9.2/doc/doxygen/classMeCab_1_1Tagger-members.html\n",
            "mecab-0.996-ko-0.9.2/doc/doxygen/functions_vars.html\n",
            "mecab-0.996-ko-0.9.2/doc/doxygen/doxygen.css\n",
            "mecab-0.996-ko-0.9.2/doc/doxygen/tab_r.gif\n",
            "mecab-0.996-ko-0.9.2/doc/doxygen/classMeCab_1_1Lattice.html\n",
            "mecab-0.996-ko-0.9.2/doc/doxygen/functions.html\n",
            "mecab-0.996-ko-0.9.2/doc/doxygen/classMeCab_1_1Tagger.html\n",
            "mecab-0.996-ko-0.9.2/doc/doxygen/mecab_8h_source.html\n",
            "mecab-0.996-ko-0.9.2/doc/doxygen/tabs.css\n",
            "mecab-0.996-ko-0.9.2/doc/doxygen/nav_f.png\n",
            "mecab-0.996-ko-0.9.2/doc/doxygen/tab_b.png\n",
            "mecab-0.996-ko-0.9.2/doc/doxygen/globals.html\n",
            "mecab-0.996-ko-0.9.2/doc/doxygen/nav_h.png\n",
            "mecab-0.996-ko-0.9.2/doc/doxygen/tab_h.png\n",
            "mecab-0.996-ko-0.9.2/doc/doxygen/classMeCab_1_1Model.html\n",
            "mecab-0.996-ko-0.9.2/doc/doxygen/globals_func.html\n",
            "mecab-0.996-ko-0.9.2/doc/doxygen/closed.png\n",
            "mecab-0.996-ko-0.9.2/doc/doxygen/tab_l.gif\n",
            "mecab-0.996-ko-0.9.2/doc/doxygen/structmecab__path__t-members.html\n",
            "mecab-0.996-ko-0.9.2/doc/doxygen/functions_func.html\n",
            "mecab-0.996-ko-0.9.2/doc/doxygen/globals_type.html\n",
            "mecab-0.996-ko-0.9.2/doc/doxygen/classMeCab_1_1Lattice-members.html\n",
            "mecab-0.996-ko-0.9.2/doc/doxygen/structmecab__node__t.html\n",
            "mecab-0.996-ko-0.9.2/doc/doxygen/namespacemembers_func.html\n",
            "mecab-0.996-ko-0.9.2/doc/doxygen/tab_s.png\n",
            "mecab-0.996-ko-0.9.2/doc/doxygen/structmecab__dictionary__info__t-members.html\n",
            "mecab-0.996-ko-0.9.2/doc/doxygen/namespacemembers_type.html\n",
            "mecab-0.996-ko-0.9.2/doc/doxygen/classMeCab_1_1Model-members.html\n",
            "mecab-0.996-ko-0.9.2/doc/doxygen/structmecab__dictionary__info__t.html\n",
            "mecab-0.996-ko-0.9.2/doc/doxygen/namespaces.html\n",
            "mecab-0.996-ko-0.9.2/doc/doxygen/namespacemembers.html\n",
            "mecab-0.996-ko-0.9.2/doc/doxygen/namespaceMeCab.html\n",
            "mecab-0.996-ko-0.9.2/doc/doxygen/structmecab__path__t.html\n",
            "mecab-0.996-ko-0.9.2/doc/doxygen/files.html\n",
            "mecab-0.996-ko-0.9.2/doc/doxygen/structmecab__node__t-members.html\n",
            "mecab-0.996-ko-0.9.2/doc/doxygen/index.html\n",
            "mecab-0.996-ko-0.9.2/doc/doxygen/annotated.html\n",
            "mecab-0.996-ko-0.9.2/doc/doxygen/globals_defs.html\n",
            "mecab-0.996-ko-0.9.2/doc/doxygen/classes.html\n",
            "mecab-0.996-ko-0.9.2/doc/doxygen/mecab_8h-source.html\n",
            "mecab-0.996-ko-0.9.2/doc/doxygen/doxygen.png\n",
            "mecab-0.996-ko-0.9.2/doc/doxygen/tab_b.gif\n",
            "mecab-0.996-ko-0.9.2/doc/doxygen/bc_s.png\n",
            "mecab-0.996-ko-0.9.2/doc/doxygen/open.png\n",
            "mecab-0.996-ko-0.9.2/doc/doxygen/mecab_8h.html\n",
            "mecab-0.996-ko-0.9.2/doc/dic.html\n",
            "mecab-0.996-ko-0.9.2/doc/partial.html\n",
            "mecab-0.996-ko-0.9.2/doc/feature.png\n",
            "mecab-0.996-ko-0.9.2/doc/Makefile.in\n",
            "mecab-0.996-ko-0.9.2/missing\n",
            "mecab-0.996-ko-0.9.2/BSD\n",
            "mecab-0.996-ko-0.9.2/NEWS\n",
            "mecab-0.996-ko-0.9.2/mkinstalldirs\n",
            "mecab-0.996-ko-0.9.2/src/\n",
            "mecab-0.996-ko-0.9.2/src/dictionary.h\n",
            "mecab-0.996-ko-0.9.2/src/writer.h\n",
            "mecab-0.996-ko-0.9.2/src/utils.h\n",
            "mecab-0.996-ko-0.9.2/src/string_buffer.cpp\n",
            "mecab-0.996-ko-0.9.2/src/tokenizer.cpp\n",
            "mecab-0.996-ko-0.9.2/src/make.bat\n",
            "mecab-0.996-ko-0.9.2/src/mecab.h\n",
            "mecab-0.996-ko-0.9.2/src/freelist.h\n",
            "mecab-0.996-ko-0.9.2/src/string_buffer.h\n",
            "mecab-0.996-ko-0.9.2/src/learner_tagger.h\n",
            "mecab-0.996-ko-0.9.2/src/dictionary_compiler.cpp\n",
            "mecab-0.996-ko-0.9.2/src/eval.cpp\n",
            "mecab-0.996-ko-0.9.2/src/mecab-system-eval.cpp\n",
            "mecab-0.996-ko-0.9.2/src/darts.h\n",
            "mecab-0.996-ko-0.9.2/src/param.h\n",
            "mecab-0.996-ko-0.9.2/src/char_property.h\n",
            "mecab-0.996-ko-0.9.2/src/learner_node.h\n",
            "mecab-0.996-ko-0.9.2/src/mecab-dict-gen.cpp\n",
            "mecab-0.996-ko-0.9.2/src/mecab-dict-index.cpp\n",
            "mecab-0.996-ko-0.9.2/src/winmain.h\n",
            "mecab-0.996-ko-0.9.2/src/thread.h\n",
            "mecab-0.996-ko-0.9.2/src/context_id.cpp\n",
            "mecab-0.996-ko-0.9.2/src/Makefile.am\n",
            "mecab-0.996-ko-0.9.2/src/connector.h\n",
            "mecab-0.996-ko-0.9.2/src/common.h\n",
            "mecab-0.996-ko-0.9.2/src/dictionary_rewriter.cpp\n",
            "mecab-0.996-ko-0.9.2/src/Makefile.msvc.in\n",
            "mecab-0.996-ko-0.9.2/src/dictionary_rewriter.h\n",
            "mecab-0.996-ko-0.9.2/src/feature_index.h\n",
            "mecab-0.996-ko-0.9.2/src/iconv_utils.cpp\n",
            "mecab-0.996-ko-0.9.2/src/char_property.cpp\n",
            "mecab-0.996-ko-0.9.2/src/mecab-test-gen.cpp\n",
            "mecab-0.996-ko-0.9.2/src/tagger.cpp\n",
            "mecab-0.996-ko-0.9.2/src/mecab-cost-train.cpp\n",
            "mecab-0.996-ko-0.9.2/src/learner.cpp\n",
            "mecab-0.996-ko-0.9.2/src/dictionary.cpp\n",
            "mecab-0.996-ko-0.9.2/src/lbfgs.cpp\n",
            "mecab-0.996-ko-0.9.2/src/ucs.h\n",
            "mecab-0.996-ko-0.9.2/src/writer.cpp\n",
            "mecab-0.996-ko-0.9.2/src/learner_tagger.cpp\n",
            "mecab-0.996-ko-0.9.2/src/lbfgs.h\n",
            "mecab-0.996-ko-0.9.2/src/libmecab.cpp\n",
            "mecab-0.996-ko-0.9.2/src/tokenizer.h\n",
            "mecab-0.996-ko-0.9.2/src/mecab.cpp\n",
            "mecab-0.996-ko-0.9.2/src/utils.cpp\n",
            "mecab-0.996-ko-0.9.2/src/dictionary_generator.cpp\n",
            "mecab-0.996-ko-0.9.2/src/param.cpp\n",
            "mecab-0.996-ko-0.9.2/src/context_id.h\n",
            "mecab-0.996-ko-0.9.2/src/mmap.h\n",
            "mecab-0.996-ko-0.9.2/src/viterbi.h\n",
            "mecab-0.996-ko-0.9.2/src/viterbi.cpp\n",
            "mecab-0.996-ko-0.9.2/src/stream_wrapper.h\n",
            "mecab-0.996-ko-0.9.2/src/feature_index.cpp\n",
            "mecab-0.996-ko-0.9.2/src/nbest_generator.h\n",
            "mecab-0.996-ko-0.9.2/src/ucstable.h\n",
            "mecab-0.996-ko-0.9.2/src/nbest_generator.cpp\n",
            "mecab-0.996-ko-0.9.2/src/iconv_utils.h\n",
            "mecab-0.996-ko-0.9.2/src/connector.cpp\n",
            "mecab-0.996-ko-0.9.2/src/Makefile.in\n",
            "mecab-0.996-ko-0.9.2/src/scoped_ptr.h\n",
            "mecab-0.996-ko-0.9.2/Makefile.in\n",
            "checking for a BSD-compatible install... /usr/bin/install -c\n",
            "checking whether build environment is sane... yes\n",
            "checking for a thread-safe mkdir -p... /bin/mkdir -p\n",
            "checking for gawk... no\n",
            "checking for mawk... mawk\n",
            "checking whether make sets $(MAKE)... yes\n",
            "checking for gcc... gcc\n",
            "checking whether the C compiler works... yes\n",
            "checking for C compiler default output file name... a.out\n",
            "checking for suffix of executables... \n",
            "checking whether we are cross compiling... no\n",
            "checking for suffix of object files... o\n",
            "checking whether we are using the GNU C compiler... yes\n",
            "checking whether gcc accepts -g... yes\n",
            "checking for gcc option to accept ISO C89... none needed\n",
            "checking for style of include used by make... GNU\n",
            "checking dependency style of gcc... none\n",
            "checking for g++... g++\n",
            "checking whether we are using the GNU C++ compiler... yes\n",
            "checking whether g++ accepts -g... yes\n",
            "checking dependency style of g++... none\n",
            "checking how to run the C preprocessor... gcc -E\n",
            "checking for grep that handles long lines and -e... /bin/grep\n",
            "checking for egrep... /bin/grep -E\n",
            "checking whether gcc needs -traditional... no\n",
            "checking whether make sets $(MAKE)... (cached) yes\n",
            "checking build system type... x86_64-unknown-linux-gnu\n",
            "checking host system type... x86_64-unknown-linux-gnu\n",
            "checking how to print strings... printf\n",
            "checking for a sed that does not truncate output... /bin/sed\n",
            "checking for fgrep... /bin/grep -F\n",
            "checking for ld used by gcc... /usr/bin/ld\n",
            "checking if the linker (/usr/bin/ld) is GNU ld... yes\n",
            "checking for BSD- or MS-compatible name lister (nm)... /usr/bin/nm -B\n",
            "checking the name lister (/usr/bin/nm -B) interface... BSD nm\n",
            "checking whether ln -s works... yes\n",
            "checking the maximum length of command line arguments... 1572864\n",
            "checking whether the shell understands some XSI constructs... yes\n",
            "checking whether the shell understands \"+=\"... yes\n",
            "checking how to convert x86_64-unknown-linux-gnu file names to x86_64-unknown-linux-gnu format... func_convert_file_noop\n",
            "checking how to convert x86_64-unknown-linux-gnu file names to toolchain format... func_convert_file_noop\n",
            "checking for /usr/bin/ld option to reload object files... -r\n",
            "checking for objdump... objdump\n",
            "checking how to recognize dependent libraries... pass_all\n",
            "checking for dlltool... dlltool\n",
            "checking how to associate runtime and link libraries... printf %s\\n\n",
            "checking for ar... ar\n",
            "checking for archiver @FILE support... @\n",
            "checking for strip... strip\n",
            "checking for ranlib... ranlib\n",
            "checking command to parse /usr/bin/nm -B output from gcc object... ok\n",
            "checking for sysroot... no\n",
            "checking for mt... no\n",
            "checking if : is a manifest tool... no\n",
            "checking for ANSI C header files... yes\n",
            "checking for sys/types.h... yes\n",
            "checking for sys/stat.h... yes\n",
            "checking for stdlib.h... yes\n",
            "checking for string.h... yes\n",
            "checking for memory.h... yes\n",
            "checking for strings.h... yes\n",
            "checking for inttypes.h... yes\n",
            "checking for stdint.h... yes\n",
            "checking for unistd.h... yes\n",
            "checking for dlfcn.h... yes\n",
            "checking for objdir... .libs\n",
            "checking if gcc supports -fno-rtti -fno-exceptions... no\n",
            "checking for gcc option to produce PIC... -fPIC -DPIC\n",
            "checking if gcc PIC flag -fPIC -DPIC works... yes\n",
            "checking if gcc static flag -static works... yes\n",
            "checking if gcc supports -c -o file.o... yes\n",
            "checking if gcc supports -c -o file.o... (cached) yes\n",
            "checking whether the gcc linker (/usr/bin/ld) supports shared libraries... yes\n",
            "checking whether -lc should be explicitly linked in... no\n",
            "checking dynamic linker characteristics... GNU/Linux ld.so\n",
            "checking how to hardcode library paths into programs... immediate\n",
            "checking whether stripping libraries is possible... yes\n",
            "checking if libtool supports shared libraries... yes\n",
            "checking whether to build shared libraries... yes\n",
            "checking whether to build static libraries... yes\n",
            "checking how to run the C++ preprocessor... g++ -E\n",
            "checking for ld used by g++... /usr/bin/ld\n",
            "checking if the linker (/usr/bin/ld) is GNU ld... yes\n",
            "checking whether the g++ linker (/usr/bin/ld) supports shared libraries... yes\n",
            "checking for g++ option to produce PIC... -fPIC -DPIC\n",
            "checking if g++ PIC flag -fPIC -DPIC works... yes\n",
            "checking if g++ static flag -static works... yes\n",
            "checking if g++ supports -c -o file.o... yes\n",
            "checking if g++ supports -c -o file.o... (cached) yes\n",
            "checking whether the g++ linker (/usr/bin/ld) supports shared libraries... yes\n",
            "checking dynamic linker characteristics... (cached) GNU/Linux ld.so\n",
            "checking how to hardcode library paths into programs... immediate\n",
            "checking for library containing strerror... none required\n",
            "checking whether byte ordering is bigendian... no\n",
            "checking for ld used by GCC... /usr/bin/ld\n",
            "checking if the linker (/usr/bin/ld) is GNU ld... yes\n",
            "checking for shared library run path origin... done\n",
            "checking for iconv... yes\n",
            "checking for working iconv... yes\n",
            "checking for iconv declaration... \n",
            "         extern size_t iconv (iconv_t cd, char * *inbuf, size_t *inbytesleft, char * *outbuf, size_t *outbytesleft);\n",
            "checking for ANSI C header files... (cached) yes\n",
            "checking for an ANSI C-conforming const... yes\n",
            "checking whether byte ordering is bigendian... (cached) no\n",
            "checking for string.h... (cached) yes\n",
            "checking for stdlib.h... (cached) yes\n",
            "checking for unistd.h... (cached) yes\n",
            "checking fcntl.h usability... yes\n",
            "checking fcntl.h presence... yes\n",
            "checking for fcntl.h... yes\n",
            "checking for stdint.h... (cached) yes\n",
            "checking for sys/stat.h... (cached) yes\n",
            "checking sys/mman.h usability... yes\n",
            "checking sys/mman.h presence... yes\n",
            "checking for sys/mman.h... yes\n",
            "checking sys/times.h usability... yes\n",
            "checking sys/times.h presence... yes\n",
            "checking for sys/times.h... yes\n",
            "checking for sys/types.h... (cached) yes\n",
            "checking dirent.h usability... yes\n",
            "checking dirent.h presence... yes\n",
            "checking for dirent.h... yes\n",
            "checking ctype.h usability... yes\n",
            "checking ctype.h presence... yes\n",
            "checking for ctype.h... yes\n",
            "checking for sys/types.h... (cached) yes\n",
            "checking io.h usability... no\n",
            "checking io.h presence... no\n",
            "checking for io.h... no\n",
            "checking windows.h usability... no\n",
            "checking windows.h presence... no\n",
            "checking for windows.h... no\n",
            "checking pthread.h usability... yes\n",
            "checking pthread.h presence... yes\n",
            "checking for pthread.h... yes\n",
            "checking for off_t... yes\n",
            "checking for size_t... yes\n",
            "checking size of char... 1\n",
            "checking size of short... 2\n",
            "checking size of int... 4\n",
            "checking size of long... 8\n",
            "checking size of long long... 8\n",
            "checking size of size_t... 8\n",
            "checking for size_t... (cached) yes\n",
            "checking for unsigned long long int... yes\n",
            "checking for stdlib.h... (cached) yes\n",
            "checking for unistd.h... (cached) yes\n",
            "checking for sys/param.h... yes\n",
            "checking for getpagesize... yes\n",
            "checking for working mmap... yes\n",
            "checking for main in -lstdc++... yes\n",
            "checking for pthread_create in -lpthread... yes\n",
            "checking for pthread_join in -lpthread... yes\n",
            "checking for getenv... yes\n",
            "checking for opendir... yes\n",
            "checking whether make is GNU Make... yes\n",
            "checking if g++ supports stl <vector> (required)... yes\n",
            "checking if g++ supports stl <list> (required)... yes\n",
            "checking if g++ supports stl <map> (required)... yes\n",
            "checking if g++ supports stl <set> (required)... yes\n",
            "checking if g++ supports stl <queue> (required)... yes\n",
            "checking if g++ supports stl <functional> (required)... yes\n",
            "checking if g++ supports stl <algorithm> (required)... yes\n",
            "checking if g++ supports stl <string> (required)... yes\n",
            "checking if g++ supports stl <iostream> (required)... yes\n",
            "checking if g++ supports stl <sstream> (required)... yes\n",
            "checking if g++ supports stl <fstream> (required)... yes\n",
            "checking if g++ supports template <class T> (required)... yes\n",
            "checking if g++ supports const_cast<> (required)... yes\n",
            "checking if g++ supports static_cast<> (required)... yes\n",
            "checking if g++ supports reinterpret_cast<> (required)... yes\n",
            "checking if g++ supports namespaces (required) ... yes\n",
            "checking if g++ supports __thread (optional)... yes\n",
            "checking if g++ supports template <class T> (required)... yes\n",
            "checking if g++ supports GCC native atomic operations (optional)... yes\n",
            "checking if g++ supports OSX native atomic operations (optional)... no\n",
            "checking if g++ environment provides all required features... yes\n",
            "configure: creating ./config.status\n",
            "config.status: creating Makefile\n",
            "config.status: creating src/Makefile\n",
            "config.status: creating src/Makefile.msvc\n",
            "config.status: creating man/Makefile\n",
            "config.status: creating doc/Makefile\n",
            "config.status: creating tests/Makefile\n",
            "config.status: creating swig/version.h\n",
            "config.status: creating mecab.iss\n",
            "config.status: creating mecab-config\n",
            "config.status: creating mecabrc\n",
            "config.status: creating config.h\n",
            "config.status: executing depfiles commands\n",
            "config.status: executing libtool commands\n",
            "config.status: executing default commands\n",
            "make  all-recursive\n",
            "make[1]: Entering directory '/tmp/mecab-0.996-ko-0.9.2'\n",
            "Making all in src\n",
            "make[2]: Entering directory '/tmp/mecab-0.996-ko-0.9.2/src'\n",
            "/bin/bash ../libtool --tag=CXX   --mode=compile g++ -DHAVE_CONFIG_H -I. -I.. -DDIC_VERSION=102   -DMECAB_DEFAULT_RC=\"\\\"/usr/local/etc/mecabrc\\\"\"    -O3 -Wall  -c -o viterbi.lo viterbi.cpp\n",
            "libtool: compile:  g++ -DHAVE_CONFIG_H -I. -I.. -DDIC_VERSION=102 -DMECAB_DEFAULT_RC=\\\"/usr/local/etc/mecabrc\\\" -O3 -Wall -c viterbi.cpp  -fPIC -DPIC -o .libs/viterbi.o\n",
            "libtool: compile:  g++ -DHAVE_CONFIG_H -I. -I.. -DDIC_VERSION=102 -DMECAB_DEFAULT_RC=\\\"/usr/local/etc/mecabrc\\\" -O3 -Wall -c viterbi.cpp -o viterbi.o >/dev/null 2>&1\n",
            "/bin/bash ../libtool --tag=CXX   --mode=compile g++ -DHAVE_CONFIG_H -I. -I.. -DDIC_VERSION=102   -DMECAB_DEFAULT_RC=\"\\\"/usr/local/etc/mecabrc\\\"\"    -O3 -Wall  -c -o tagger.lo tagger.cpp\n",
            "libtool: compile:  g++ -DHAVE_CONFIG_H -I. -I.. -DDIC_VERSION=102 -DMECAB_DEFAULT_RC=\\\"/usr/local/etc/mecabrc\\\" -O3 -Wall -c tagger.cpp  -fPIC -DPIC -o .libs/tagger.o\n",
            "libtool: compile:  g++ -DHAVE_CONFIG_H -I. -I.. -DDIC_VERSION=102 -DMECAB_DEFAULT_RC=\\\"/usr/local/etc/mecabrc\\\" -O3 -Wall -c tagger.cpp -o tagger.o >/dev/null 2>&1\n",
            "/bin/bash ../libtool --tag=CXX   --mode=compile g++ -DHAVE_CONFIG_H -I. -I.. -DDIC_VERSION=102   -DMECAB_DEFAULT_RC=\"\\\"/usr/local/etc/mecabrc\\\"\"    -O3 -Wall  -c -o utils.lo utils.cpp\n",
            "libtool: compile:  g++ -DHAVE_CONFIG_H -I. -I.. -DDIC_VERSION=102 -DMECAB_DEFAULT_RC=\\\"/usr/local/etc/mecabrc\\\" -O3 -Wall -c utils.cpp  -fPIC -DPIC -o .libs/utils.o\n",
            "libtool: compile:  g++ -DHAVE_CONFIG_H -I. -I.. -DDIC_VERSION=102 -DMECAB_DEFAULT_RC=\\\"/usr/local/etc/mecabrc\\\" -O3 -Wall -c utils.cpp -o utils.o >/dev/null 2>&1\n",
            "/bin/bash ../libtool --tag=CXX   --mode=compile g++ -DHAVE_CONFIG_H -I. -I.. -DDIC_VERSION=102   -DMECAB_DEFAULT_RC=\"\\\"/usr/local/etc/mecabrc\\\"\"    -O3 -Wall  -c -o eval.lo eval.cpp\n",
            "libtool: compile:  g++ -DHAVE_CONFIG_H -I. -I.. -DDIC_VERSION=102 -DMECAB_DEFAULT_RC=\\\"/usr/local/etc/mecabrc\\\" -O3 -Wall -c eval.cpp  -fPIC -DPIC -o .libs/eval.o\n",
            "libtool: compile:  g++ -DHAVE_CONFIG_H -I. -I.. -DDIC_VERSION=102 -DMECAB_DEFAULT_RC=\\\"/usr/local/etc/mecabrc\\\" -O3 -Wall -c eval.cpp -o eval.o >/dev/null 2>&1\n",
            "/bin/bash ../libtool --tag=CXX   --mode=compile g++ -DHAVE_CONFIG_H -I. -I.. -DDIC_VERSION=102   -DMECAB_DEFAULT_RC=\"\\\"/usr/local/etc/mecabrc\\\"\"    -O3 -Wall  -c -o iconv_utils.lo iconv_utils.cpp\n",
            "libtool: compile:  g++ -DHAVE_CONFIG_H -I. -I.. -DDIC_VERSION=102 -DMECAB_DEFAULT_RC=\\\"/usr/local/etc/mecabrc\\\" -O3 -Wall -c iconv_utils.cpp  -fPIC -DPIC -o .libs/iconv_utils.o\n",
            "libtool: compile:  g++ -DHAVE_CONFIG_H -I. -I.. -DDIC_VERSION=102 -DMECAB_DEFAULT_RC=\\\"/usr/local/etc/mecabrc\\\" -O3 -Wall -c iconv_utils.cpp -o iconv_utils.o >/dev/null 2>&1\n",
            "/bin/bash ../libtool --tag=CXX   --mode=compile g++ -DHAVE_CONFIG_H -I. -I.. -DDIC_VERSION=102   -DMECAB_DEFAULT_RC=\"\\\"/usr/local/etc/mecabrc\\\"\"    -O3 -Wall  -c -o dictionary_rewriter.lo dictionary_rewriter.cpp\n",
            "libtool: compile:  g++ -DHAVE_CONFIG_H -I. -I.. -DDIC_VERSION=102 -DMECAB_DEFAULT_RC=\\\"/usr/local/etc/mecabrc\\\" -O3 -Wall -c dictionary_rewriter.cpp  -fPIC -DPIC -o .libs/dictionary_rewriter.o\n",
            "libtool: compile:  g++ -DHAVE_CONFIG_H -I. -I.. -DDIC_VERSION=102 -DMECAB_DEFAULT_RC=\\\"/usr/local/etc/mecabrc\\\" -O3 -Wall -c dictionary_rewriter.cpp -o dictionary_rewriter.o >/dev/null 2>&1\n",
            "/bin/bash ../libtool --tag=CXX   --mode=compile g++ -DHAVE_CONFIG_H -I. -I.. -DDIC_VERSION=102   -DMECAB_DEFAULT_RC=\"\\\"/usr/local/etc/mecabrc\\\"\"    -O3 -Wall  -c -o dictionary_generator.lo dictionary_generator.cpp\n",
            "libtool: compile:  g++ -DHAVE_CONFIG_H -I. -I.. -DDIC_VERSION=102 -DMECAB_DEFAULT_RC=\\\"/usr/local/etc/mecabrc\\\" -O3 -Wall -c dictionary_generator.cpp  -fPIC -DPIC -o .libs/dictionary_generator.o\n",
            "libtool: compile:  g++ -DHAVE_CONFIG_H -I. -I.. -DDIC_VERSION=102 -DMECAB_DEFAULT_RC=\\\"/usr/local/etc/mecabrc\\\" -O3 -Wall -c dictionary_generator.cpp -o dictionary_generator.o >/dev/null 2>&1\n",
            "/bin/bash ../libtool --tag=CXX   --mode=compile g++ -DHAVE_CONFIG_H -I. -I.. -DDIC_VERSION=102   -DMECAB_DEFAULT_RC=\"\\\"/usr/local/etc/mecabrc\\\"\"    -O3 -Wall  -c -o dictionary_compiler.lo dictionary_compiler.cpp\n",
            "libtool: compile:  g++ -DHAVE_CONFIG_H -I. -I.. -DDIC_VERSION=102 -DMECAB_DEFAULT_RC=\\\"/usr/local/etc/mecabrc\\\" -O3 -Wall -c dictionary_compiler.cpp  -fPIC -DPIC -o .libs/dictionary_compiler.o\n",
            "libtool: compile:  g++ -DHAVE_CONFIG_H -I. -I.. -DDIC_VERSION=102 -DMECAB_DEFAULT_RC=\\\"/usr/local/etc/mecabrc\\\" -O3 -Wall -c dictionary_compiler.cpp -o dictionary_compiler.o >/dev/null 2>&1\n",
            "/bin/bash ../libtool --tag=CXX   --mode=compile g++ -DHAVE_CONFIG_H -I. -I.. -DDIC_VERSION=102   -DMECAB_DEFAULT_RC=\"\\\"/usr/local/etc/mecabrc\\\"\"    -O3 -Wall  -c -o context_id.lo context_id.cpp\n",
            "libtool: compile:  g++ -DHAVE_CONFIG_H -I. -I.. -DDIC_VERSION=102 -DMECAB_DEFAULT_RC=\\\"/usr/local/etc/mecabrc\\\" -O3 -Wall -c context_id.cpp  -fPIC -DPIC -o .libs/context_id.o\n",
            "libtool: compile:  g++ -DHAVE_CONFIG_H -I. -I.. -DDIC_VERSION=102 -DMECAB_DEFAULT_RC=\\\"/usr/local/etc/mecabrc\\\" -O3 -Wall -c context_id.cpp -o context_id.o >/dev/null 2>&1\n",
            "/bin/bash ../libtool --tag=CXX   --mode=compile g++ -DHAVE_CONFIG_H -I. -I.. -DDIC_VERSION=102   -DMECAB_DEFAULT_RC=\"\\\"/usr/local/etc/mecabrc\\\"\"    -O3 -Wall  -c -o connector.lo connector.cpp\n",
            "libtool: compile:  g++ -DHAVE_CONFIG_H -I. -I.. -DDIC_VERSION=102 -DMECAB_DEFAULT_RC=\\\"/usr/local/etc/mecabrc\\\" -O3 -Wall -c connector.cpp  -fPIC -DPIC -o .libs/connector.o\n",
            "libtool: compile:  g++ -DHAVE_CONFIG_H -I. -I.. -DDIC_VERSION=102 -DMECAB_DEFAULT_RC=\\\"/usr/local/etc/mecabrc\\\" -O3 -Wall -c connector.cpp -o connector.o >/dev/null 2>&1\n",
            "/bin/bash ../libtool --tag=CXX   --mode=compile g++ -DHAVE_CONFIG_H -I. -I.. -DDIC_VERSION=102   -DMECAB_DEFAULT_RC=\"\\\"/usr/local/etc/mecabrc\\\"\"    -O3 -Wall  -c -o nbest_generator.lo nbest_generator.cpp\n",
            "libtool: compile:  g++ -DHAVE_CONFIG_H -I. -I.. -DDIC_VERSION=102 -DMECAB_DEFAULT_RC=\\\"/usr/local/etc/mecabrc\\\" -O3 -Wall -c nbest_generator.cpp  -fPIC -DPIC -o .libs/nbest_generator.o\n",
            "libtool: compile:  g++ -DHAVE_CONFIG_H -I. -I.. -DDIC_VERSION=102 -DMECAB_DEFAULT_RC=\\\"/usr/local/etc/mecabrc\\\" -O3 -Wall -c nbest_generator.cpp -o nbest_generator.o >/dev/null 2>&1\n",
            "/bin/bash ../libtool --tag=CXX   --mode=compile g++ -DHAVE_CONFIG_H -I. -I.. -DDIC_VERSION=102   -DMECAB_DEFAULT_RC=\"\\\"/usr/local/etc/mecabrc\\\"\"    -O3 -Wall  -c -o writer.lo writer.cpp\n",
            "libtool: compile:  g++ -DHAVE_CONFIG_H -I. -I.. -DDIC_VERSION=102 -DMECAB_DEFAULT_RC=\\\"/usr/local/etc/mecabrc\\\" -O3 -Wall -c writer.cpp  -fPIC -DPIC -o .libs/writer.o\n",
            "libtool: compile:  g++ -DHAVE_CONFIG_H -I. -I.. -DDIC_VERSION=102 -DMECAB_DEFAULT_RC=\\\"/usr/local/etc/mecabrc\\\" -O3 -Wall -c writer.cpp -o writer.o >/dev/null 2>&1\n",
            "/bin/bash ../libtool --tag=CXX   --mode=compile g++ -DHAVE_CONFIG_H -I. -I.. -DDIC_VERSION=102   -DMECAB_DEFAULT_RC=\"\\\"/usr/local/etc/mecabrc\\\"\"    -O3 -Wall  -c -o string_buffer.lo string_buffer.cpp\n",
            "libtool: compile:  g++ -DHAVE_CONFIG_H -I. -I.. -DDIC_VERSION=102 -DMECAB_DEFAULT_RC=\\\"/usr/local/etc/mecabrc\\\" -O3 -Wall -c string_buffer.cpp  -fPIC -DPIC -o .libs/string_buffer.o\n",
            "libtool: compile:  g++ -DHAVE_CONFIG_H -I. -I.. -DDIC_VERSION=102 -DMECAB_DEFAULT_RC=\\\"/usr/local/etc/mecabrc\\\" -O3 -Wall -c string_buffer.cpp -o string_buffer.o >/dev/null 2>&1\n",
            "/bin/bash ../libtool --tag=CXX   --mode=compile g++ -DHAVE_CONFIG_H -I. -I.. -DDIC_VERSION=102   -DMECAB_DEFAULT_RC=\"\\\"/usr/local/etc/mecabrc\\\"\"    -O3 -Wall  -c -o param.lo param.cpp\n",
            "libtool: compile:  g++ -DHAVE_CONFIG_H -I. -I.. -DDIC_VERSION=102 -DMECAB_DEFAULT_RC=\\\"/usr/local/etc/mecabrc\\\" -O3 -Wall -c param.cpp  -fPIC -DPIC -o .libs/param.o\n",
            "libtool: compile:  g++ -DHAVE_CONFIG_H -I. -I.. -DDIC_VERSION=102 -DMECAB_DEFAULT_RC=\\\"/usr/local/etc/mecabrc\\\" -O3 -Wall -c param.cpp -o param.o >/dev/null 2>&1\n",
            "/bin/bash ../libtool --tag=CXX   --mode=compile g++ -DHAVE_CONFIG_H -I. -I.. -DDIC_VERSION=102   -DMECAB_DEFAULT_RC=\"\\\"/usr/local/etc/mecabrc\\\"\"    -O3 -Wall  -c -o tokenizer.lo tokenizer.cpp\n",
            "libtool: compile:  g++ -DHAVE_CONFIG_H -I. -I.. -DDIC_VERSION=102 -DMECAB_DEFAULT_RC=\\\"/usr/local/etc/mecabrc\\\" -O3 -Wall -c tokenizer.cpp  -fPIC -DPIC -o .libs/tokenizer.o\n",
            "libtool: compile:  g++ -DHAVE_CONFIG_H -I. -I.. -DDIC_VERSION=102 -DMECAB_DEFAULT_RC=\\\"/usr/local/etc/mecabrc\\\" -O3 -Wall -c tokenizer.cpp -o tokenizer.o >/dev/null 2>&1\n",
            "/bin/bash ../libtool --tag=CXX   --mode=compile g++ -DHAVE_CONFIG_H -I. -I.. -DDIC_VERSION=102   -DMECAB_DEFAULT_RC=\"\\\"/usr/local/etc/mecabrc\\\"\"    -O3 -Wall  -c -o char_property.lo char_property.cpp\n",
            "libtool: compile:  g++ -DHAVE_CONFIG_H -I. -I.. -DDIC_VERSION=102 -DMECAB_DEFAULT_RC=\\\"/usr/local/etc/mecabrc\\\" -O3 -Wall -c char_property.cpp  -fPIC -DPIC -o .libs/char_property.o\n",
            "libtool: compile:  g++ -DHAVE_CONFIG_H -I. -I.. -DDIC_VERSION=102 -DMECAB_DEFAULT_RC=\\\"/usr/local/etc/mecabrc\\\" -O3 -Wall -c char_property.cpp -o char_property.o >/dev/null 2>&1\n",
            "/bin/bash ../libtool --tag=CXX   --mode=compile g++ -DHAVE_CONFIG_H -I. -I.. -DDIC_VERSION=102   -DMECAB_DEFAULT_RC=\"\\\"/usr/local/etc/mecabrc\\\"\"    -O3 -Wall  -c -o dictionary.lo dictionary.cpp\n",
            "libtool: compile:  g++ -DHAVE_CONFIG_H -I. -I.. -DDIC_VERSION=102 -DMECAB_DEFAULT_RC=\\\"/usr/local/etc/mecabrc\\\" -O3 -Wall -c dictionary.cpp  -fPIC -DPIC -o .libs/dictionary.o\n",
            "libtool: compile:  g++ -DHAVE_CONFIG_H -I. -I.. -DDIC_VERSION=102 -DMECAB_DEFAULT_RC=\\\"/usr/local/etc/mecabrc\\\" -O3 -Wall -c dictionary.cpp -o dictionary.o >/dev/null 2>&1\n",
            "/bin/bash ../libtool --tag=CXX   --mode=compile g++ -DHAVE_CONFIG_H -I. -I.. -DDIC_VERSION=102   -DMECAB_DEFAULT_RC=\"\\\"/usr/local/etc/mecabrc\\\"\"    -O3 -Wall  -c -o feature_index.lo feature_index.cpp\n",
            "libtool: compile:  g++ -DHAVE_CONFIG_H -I. -I.. -DDIC_VERSION=102 -DMECAB_DEFAULT_RC=\\\"/usr/local/etc/mecabrc\\\" -O3 -Wall -c feature_index.cpp  -fPIC -DPIC -o .libs/feature_index.o\n",
            "libtool: compile:  g++ -DHAVE_CONFIG_H -I. -I.. -DDIC_VERSION=102 -DMECAB_DEFAULT_RC=\\\"/usr/local/etc/mecabrc\\\" -O3 -Wall -c feature_index.cpp -o feature_index.o >/dev/null 2>&1\n",
            "/bin/bash ../libtool --tag=CXX   --mode=compile g++ -DHAVE_CONFIG_H -I. -I.. -DDIC_VERSION=102   -DMECAB_DEFAULT_RC=\"\\\"/usr/local/etc/mecabrc\\\"\"    -O3 -Wall  -c -o lbfgs.lo lbfgs.cpp\n",
            "libtool: compile:  g++ -DHAVE_CONFIG_H -I. -I.. -DDIC_VERSION=102 -DMECAB_DEFAULT_RC=\\\"/usr/local/etc/mecabrc\\\" -O3 -Wall -c lbfgs.cpp  -fPIC -DPIC -o .libs/lbfgs.o\n",
            "libtool: compile:  g++ -DHAVE_CONFIG_H -I. -I.. -DDIC_VERSION=102 -DMECAB_DEFAULT_RC=\\\"/usr/local/etc/mecabrc\\\" -O3 -Wall -c lbfgs.cpp -o lbfgs.o >/dev/null 2>&1\n",
            "/bin/bash ../libtool --tag=CXX   --mode=compile g++ -DHAVE_CONFIG_H -I. -I.. -DDIC_VERSION=102   -DMECAB_DEFAULT_RC=\"\\\"/usr/local/etc/mecabrc\\\"\"    -O3 -Wall  -c -o learner_tagger.lo learner_tagger.cpp\n",
            "libtool: compile:  g++ -DHAVE_CONFIG_H -I. -I.. -DDIC_VERSION=102 -DMECAB_DEFAULT_RC=\\\"/usr/local/etc/mecabrc\\\" -O3 -Wall -c learner_tagger.cpp  -fPIC -DPIC -o .libs/learner_tagger.o\n",
            "libtool: compile:  g++ -DHAVE_CONFIG_H -I. -I.. -DDIC_VERSION=102 -DMECAB_DEFAULT_RC=\\\"/usr/local/etc/mecabrc\\\" -O3 -Wall -c learner_tagger.cpp -o learner_tagger.o >/dev/null 2>&1\n",
            "/bin/bash ../libtool --tag=CXX   --mode=compile g++ -DHAVE_CONFIG_H -I. -I.. -DDIC_VERSION=102   -DMECAB_DEFAULT_RC=\"\\\"/usr/local/etc/mecabrc\\\"\"    -O3 -Wall  -c -o learner.lo learner.cpp\n",
            "libtool: compile:  g++ -DHAVE_CONFIG_H -I. -I.. -DDIC_VERSION=102 -DMECAB_DEFAULT_RC=\\\"/usr/local/etc/mecabrc\\\" -O3 -Wall -c learner.cpp  -fPIC -DPIC -o .libs/learner.o\n",
            "libtool: compile:  g++ -DHAVE_CONFIG_H -I. -I.. -DDIC_VERSION=102 -DMECAB_DEFAULT_RC=\\\"/usr/local/etc/mecabrc\\\" -O3 -Wall -c learner.cpp -o learner.o >/dev/null 2>&1\n",
            "/bin/bash ../libtool --tag=CXX   --mode=compile g++ -DHAVE_CONFIG_H -I. -I.. -DDIC_VERSION=102   -DMECAB_DEFAULT_RC=\"\\\"/usr/local/etc/mecabrc\\\"\"    -O3 -Wall  -c -o libmecab.lo libmecab.cpp\n",
            "libtool: compile:  g++ -DHAVE_CONFIG_H -I. -I.. -DDIC_VERSION=102 -DMECAB_DEFAULT_RC=\\\"/usr/local/etc/mecabrc\\\" -O3 -Wall -c libmecab.cpp  -fPIC -DPIC -o .libs/libmecab.o\n",
            "libtool: compile:  g++ -DHAVE_CONFIG_H -I. -I.. -DDIC_VERSION=102 -DMECAB_DEFAULT_RC=\\\"/usr/local/etc/mecabrc\\\" -O3 -Wall -c libmecab.cpp -o libmecab.o >/dev/null 2>&1\n",
            "/bin/bash ../libtool --tag=CXX   --mode=link g++  -O3 -Wall  -no-undefined -version-info 2:0:0  -o libmecab.la -rpath /usr/local/lib viterbi.lo tagger.lo utils.lo eval.lo iconv_utils.lo dictionary_rewriter.lo dictionary_generator.lo dictionary_compiler.lo context_id.lo connector.lo nbest_generator.lo writer.lo string_buffer.lo param.lo tokenizer.lo char_property.lo dictionary.lo feature_index.lo lbfgs.lo learner_tagger.lo learner.lo libmecab.lo  -lpthread -lpthread  -lstdc++ \n",
            "libtool: link: g++  -fPIC -DPIC -shared -nostdlib /usr/lib/gcc/x86_64-linux-gnu/7/../../../x86_64-linux-gnu/crti.o /usr/lib/gcc/x86_64-linux-gnu/7/crtbeginS.o  .libs/viterbi.o .libs/tagger.o .libs/utils.o .libs/eval.o .libs/iconv_utils.o .libs/dictionary_rewriter.o .libs/dictionary_generator.o .libs/dictionary_compiler.o .libs/context_id.o .libs/connector.o .libs/nbest_generator.o .libs/writer.o .libs/string_buffer.o .libs/param.o .libs/tokenizer.o .libs/char_property.o .libs/dictionary.o .libs/feature_index.o .libs/lbfgs.o .libs/learner_tagger.o .libs/learner.o .libs/libmecab.o   -lpthread -L/usr/lib/gcc/x86_64-linux-gnu/7 -L/usr/lib/gcc/x86_64-linux-gnu/7/../../../x86_64-linux-gnu -L/usr/lib/gcc/x86_64-linux-gnu/7/../../../../lib -L/lib/x86_64-linux-gnu -L/lib/../lib -L/usr/lib/x86_64-linux-gnu -L/usr/lib/../lib -L/usr/local/cuda/lib64/stubs -L/usr/lib/gcc/x86_64-linux-gnu/7/../../.. -lstdc++ -lm -lc -lgcc_s /usr/lib/gcc/x86_64-linux-gnu/7/crtendS.o /usr/lib/gcc/x86_64-linux-gnu/7/../../../x86_64-linux-gnu/crtn.o  -O3   -Wl,-soname -Wl,libmecab.so.2 -o .libs/libmecab.so.2.0.0\n",
            "libtool: link: (cd \".libs\" && rm -f \"libmecab.so.2\" && ln -s \"libmecab.so.2.0.0\" \"libmecab.so.2\")\n",
            "libtool: link: (cd \".libs\" && rm -f \"libmecab.so\" && ln -s \"libmecab.so.2.0.0\" \"libmecab.so\")\n",
            "libtool: link: ar cru .libs/libmecab.a  viterbi.o tagger.o utils.o eval.o iconv_utils.o dictionary_rewriter.o dictionary_generator.o dictionary_compiler.o context_id.o connector.o nbest_generator.o writer.o string_buffer.o param.o tokenizer.o char_property.o dictionary.o feature_index.o lbfgs.o learner_tagger.o learner.o libmecab.o\n",
            "libtool: link: ranlib .libs/libmecab.a\n",
            "libtool: link: ( cd \".libs\" && rm -f \"libmecab.la\" && ln -s \"../libmecab.la\" \"libmecab.la\" )\n",
            "g++ -DHAVE_CONFIG_H -I. -I.. -DDIC_VERSION=102   -DMECAB_DEFAULT_RC=\"\\\"/usr/local/etc/mecabrc\\\"\"    -O3 -Wall  -c -o mecab.o mecab.cpp\n",
            "/bin/bash ../libtool --tag=CXX   --mode=link g++  -O3 -Wall    -o mecab mecab.o libmecab.la -lpthread -lpthread  -lstdc++ \n",
            "libtool: link: g++ -O3 -Wall -o .libs/mecab mecab.o  ./.libs/libmecab.so -lpthread -lstdc++\n",
            "g++ -DHAVE_CONFIG_H -I. -I.. -DDIC_VERSION=102   -DMECAB_DEFAULT_RC=\"\\\"/usr/local/etc/mecabrc\\\"\"    -O3 -Wall  -c -o mecab-dict-index.o mecab-dict-index.cpp\n",
            "/bin/bash ../libtool --tag=CXX   --mode=link g++  -O3 -Wall    -o mecab-dict-index mecab-dict-index.o libmecab.la -lpthread -lpthread  -lstdc++ \n",
            "libtool: link: g++ -O3 -Wall -o .libs/mecab-dict-index mecab-dict-index.o  ./.libs/libmecab.so -lpthread -lstdc++\n",
            "g++ -DHAVE_CONFIG_H -I. -I.. -DDIC_VERSION=102   -DMECAB_DEFAULT_RC=\"\\\"/usr/local/etc/mecabrc\\\"\"    -O3 -Wall  -c -o mecab-dict-gen.o mecab-dict-gen.cpp\n",
            "/bin/bash ../libtool --tag=CXX   --mode=link g++  -O3 -Wall    -o mecab-dict-gen mecab-dict-gen.o libmecab.la -lpthread -lpthread  -lstdc++ \n",
            "libtool: link: g++ -O3 -Wall -o .libs/mecab-dict-gen mecab-dict-gen.o  ./.libs/libmecab.so -lpthread -lstdc++\n",
            "g++ -DHAVE_CONFIG_H -I. -I.. -DDIC_VERSION=102   -DMECAB_DEFAULT_RC=\"\\\"/usr/local/etc/mecabrc\\\"\"    -O3 -Wall  -c -o mecab-cost-train.o mecab-cost-train.cpp\n",
            "/bin/bash ../libtool --tag=CXX   --mode=link g++  -O3 -Wall    -o mecab-cost-train mecab-cost-train.o libmecab.la -lpthread -lpthread  -lstdc++ \n",
            "libtool: link: g++ -O3 -Wall -o .libs/mecab-cost-train mecab-cost-train.o  ./.libs/libmecab.so -lpthread -lstdc++\n",
            "g++ -DHAVE_CONFIG_H -I. -I.. -DDIC_VERSION=102   -DMECAB_DEFAULT_RC=\"\\\"/usr/local/etc/mecabrc\\\"\"    -O3 -Wall  -c -o mecab-system-eval.o mecab-system-eval.cpp\n",
            "/bin/bash ../libtool --tag=CXX   --mode=link g++  -O3 -Wall    -o mecab-system-eval mecab-system-eval.o libmecab.la -lpthread -lpthread  -lstdc++ \n",
            "libtool: link: g++ -O3 -Wall -o .libs/mecab-system-eval mecab-system-eval.o  ./.libs/libmecab.so -lpthread -lstdc++\n",
            "g++ -DHAVE_CONFIG_H -I. -I.. -DDIC_VERSION=102   -DMECAB_DEFAULT_RC=\"\\\"/usr/local/etc/mecabrc\\\"\"    -O3 -Wall  -c -o mecab-test-gen.o mecab-test-gen.cpp\n",
            "/bin/bash ../libtool --tag=CXX   --mode=link g++  -O3 -Wall    -o mecab-test-gen mecab-test-gen.o libmecab.la -lpthread -lpthread  -lstdc++ \n",
            "libtool: link: g++ -O3 -Wall -o .libs/mecab-test-gen mecab-test-gen.o  ./.libs/libmecab.so -lpthread -lstdc++\n",
            "make[2]: Leaving directory '/tmp/mecab-0.996-ko-0.9.2/src'\n",
            "Making all in man\n",
            "make[2]: Entering directory '/tmp/mecab-0.996-ko-0.9.2/man'\n",
            "make[2]: Nothing to be done for 'all'.\n",
            "make[2]: Leaving directory '/tmp/mecab-0.996-ko-0.9.2/man'\n",
            "Making all in doc\n",
            "make[2]: Entering directory '/tmp/mecab-0.996-ko-0.9.2/doc'\n",
            "make[2]: Nothing to be done for 'all'.\n",
            "make[2]: Leaving directory '/tmp/mecab-0.996-ko-0.9.2/doc'\n",
            "Making all in tests\n",
            "make[2]: Entering directory '/tmp/mecab-0.996-ko-0.9.2/tests'\n",
            "make[2]: Nothing to be done for 'all'.\n",
            "make[2]: Leaving directory '/tmp/mecab-0.996-ko-0.9.2/tests'\n",
            "make[2]: Entering directory '/tmp/mecab-0.996-ko-0.9.2'\n",
            "make[2]: Leaving directory '/tmp/mecab-0.996-ko-0.9.2'\n",
            "make[1]: Leaving directory '/tmp/mecab-0.996-ko-0.9.2'\n",
            "Making check in src\n",
            "make[1]: Entering directory '/tmp/mecab-0.996-ko-0.9.2/src'\n",
            "make[1]: Nothing to be done for 'check'.\n",
            "make[1]: Leaving directory '/tmp/mecab-0.996-ko-0.9.2/src'\n",
            "Making check in man\n",
            "make[1]: Entering directory '/tmp/mecab-0.996-ko-0.9.2/man'\n",
            "make[1]: Nothing to be done for 'check'.\n",
            "make[1]: Leaving directory '/tmp/mecab-0.996-ko-0.9.2/man'\n",
            "Making check in doc\n",
            "make[1]: Entering directory '/tmp/mecab-0.996-ko-0.9.2/doc'\n",
            "make[1]: Nothing to be done for 'check'.\n",
            "make[1]: Leaving directory '/tmp/mecab-0.996-ko-0.9.2/doc'\n",
            "Making check in tests\n",
            "make[1]: Entering directory '/tmp/mecab-0.996-ko-0.9.2/tests'\n",
            "make  check-TESTS\n",
            "make[2]: Entering directory '/tmp/mecab-0.996-ko-0.9.2/tests'\n",
            "reading ./unk.def ... 2\n",
            "emitting double-array:  50% |#####################                      | \remitting double-array: 100% |###########################################| \n",
            "./model.def is not found. skipped.\n",
            "reading ./dic.csv ... 177\n",
            "emitting double-array:   1% |                                           | \remitting double-array:   3% |#                                          | \remitting double-array:   5% |##                                         | \remitting double-array:   7% |###                                        | \remitting double-array:   9% |###                                        | \remitting double-array:  11% |####                                       | \remitting double-array:  12% |#####                                      | \remitting double-array:  14% |######                                     | \remitting double-array:  16% |#######                                    | \remitting double-array:  18% |#######                                    | \remitting double-array:  20% |########                                   | \remitting double-array:  22% |#########                                  | \remitting double-array:  24% |##########                                 | \remitting double-array:  25% |###########                                | \remitting double-array:  27% |###########                                | \remitting double-array:  29% |############                               | \remitting double-array:  31% |#############                              | \remitting double-array:  33% |##############                             | \remitting double-array:  35% |###############                            | \remitting double-array:  37% |###############                            | \remitting double-array:  38% |################                           | \remitting double-array:  40% |#################                          | \remitting double-array:  42% |##################                         | \remitting double-array:  44% |###################                        | \remitting double-array:  46% |###################                        | \remitting double-array:  48% |####################                       | \remitting double-array:  50% |#####################                      | \remitting double-array:  51% |######################                     | \remitting double-array:  53% |#######################                    | \remitting double-array:  55% |#######################                    | \remitting double-array:  57% |########################                   | \remitting double-array:  59% |#########################                  | \remitting double-array:  61% |##########################                 | \remitting double-array:  62% |###########################                | \remitting double-array:  64% |###########################                | \remitting double-array:  66% |############################               | \remitting double-array:  68% |#############################              | \remitting double-array:  70% |##############################             | \remitting double-array:  72% |###############################            | \remitting double-array:  74% |###############################            | \remitting double-array:  75% |################################           | \remitting double-array:  77% |#################################          | \remitting double-array:  79% |##################################         | \remitting double-array:  81% |###################################        | \remitting double-array:  83% |###################################        | \remitting double-array:  85% |####################################       | \remitting double-array:  87% |#####################################      | \remitting double-array:  88% |######################################     | \remitting double-array:  90% |#######################################    | \remitting double-array:  92% |#######################################    | \remitting double-array:  94% |########################################   | \remitting double-array:  96% |#########################################  | \remitting double-array:  98% |########################################## | \remitting double-array: 100% |###########################################| \n",
            "reading ./matrix.def ... 178x178\n",
            "emitting matrix      :   0% |                                           | \remitting matrix      :   1% |                                           | \remitting matrix      :   2% |                                           | \remitting matrix      :   3% |#                                          | \remitting matrix      :   4% |#                                          | \remitting matrix      :   5% |##                                         | \remitting matrix      :   6% |##                                         | \remitting matrix      :   7% |###                                        | \remitting matrix      :   8% |###                                        | \remitting matrix      :   9% |####                                       | \remitting matrix      :  10% |####                                       | \remitting matrix      :  11% |####                                       | \remitting matrix      :  12% |#####                                      | \remitting matrix      :  13% |#####                                      | \remitting matrix      :  14% |######                                     | \remitting matrix      :  15% |######                                     | \remitting matrix      :  16% |#######                                    | \remitting matrix      :  17% |#######                                    | \remitting matrix      :  18% |#######                                    | \remitting matrix      :  19% |########                                   | \remitting matrix      :  20% |########                                   | \remitting matrix      :  21% |#########                                  | \remitting matrix      :  22% |#########                                  | \remitting matrix      :  23% |#########                                  | \remitting matrix      :  24% |##########                                 | \remitting matrix      :  25% |##########                                 | \remitting matrix      :  26% |###########                                | \remitting matrix      :  27% |###########                                | \remitting matrix      :  28% |############                               | \remitting matrix      :  29% |############                               | \remitting matrix      :  30% |#############                              | \remitting matrix      :  31% |#############                              | \remitting matrix      :  32% |#############                              | \remitting matrix      :  33% |##############                             | \remitting matrix      :  34% |##############                             | \remitting matrix      :  35% |###############                            | \remitting matrix      :  36% |###############                            | \remitting matrix      :  37% |###############                            | \remitting matrix      :  38% |################                           | \remitting matrix      :  39% |################                           | \remitting matrix      :  40% |#################                          | \remitting matrix      :  41% |#################                          | \remitting matrix      :  42% |##################                         | \remitting matrix      :  43% |##################                         | \remitting matrix      :  44% |###################                        | \remitting matrix      :  45% |###################                        | \remitting matrix      :  46% |###################                        | \remitting matrix      :  47% |####################                       | \remitting matrix      :  48% |####################                       | \remitting matrix      :  49% |#####################                      | \remitting matrix      :  50% |#####################                      | \remitting matrix      :  51% |#####################                      | \remitting matrix      :  52% |######################                     | \remitting matrix      :  53% |######################                     | \remitting matrix      :  54% |#######################                    | \remitting matrix      :  55% |#######################                    | \remitting matrix      :  56% |########################                   | \remitting matrix      :  57% |########################                   | \remitting matrix      :  58% |#########################                  | \remitting matrix      :  59% |#########################                  | \remitting matrix      :  60% |#########################                  | \remitting matrix      :  61% |##########################                 | \remitting matrix      :  62% |##########################                 | \remitting matrix      :  63% |###########################                | \remitting matrix      :  64% |###########################                | \remitting matrix      :  65% |############################               | \remitting matrix      :  66% |############################               | \remitting matrix      :  67% |############################               | \remitting matrix      :  68% |#############################              | \remitting matrix      :  69% |#############################              | \remitting matrix      :  70% |##############################             | \remitting matrix      :  71% |##############################             | \remitting matrix      :  72% |###############################            | \remitting matrix      :  73% |###############################            | \remitting matrix      :  74% |###############################            | \remitting matrix      :  75% |################################           | \remitting matrix      :  76% |################################           | \remitting matrix      :  77% |#################################          | \remitting matrix      :  78% |#################################          | \remitting matrix      :  79% |##################################         | \remitting matrix      :  80% |##################################         | \remitting matrix      :  81% |###################################        | \remitting matrix      :  82% |###################################        | \remitting matrix      :  83% |###################################        | \remitting matrix      :  84% |####################################       | \remitting matrix      :  85% |####################################       | \remitting matrix      :  86% |#####################################      | \remitting matrix      :  87% |#####################################      | \remitting matrix      :  88% |#####################################      | \remitting matrix      :  89% |######################################     | \remitting matrix      :  90% |######################################     | \remitting matrix      :  91% |#######################################    | \remitting matrix      :  92% |#######################################    | \remitting matrix      :  93% |########################################   | \remitting matrix      :  94% |########################################   | \remitting matrix      :  95% |#########################################  | \remitting matrix      :  96% |#########################################  | \remitting matrix      :  97% |#########################################  | \remitting matrix      :  98% |########################################## | \remitting matrix      :  99% |########################################## | \remitting matrix      : 100% |###########################################| \n",
            "\n",
            "done!\n",
            "reading ./unk.def ... 2\n",
            "emitting double-array:  50% |#####################                      | \remitting double-array: 100% |###########################################| \n",
            "./model.def is not found. skipped.\n",
            "reading ./dic.csv ... 83\n",
            "emitting double-array:  10% |####                                       | \remitting double-array:  20% |########                                   | \remitting double-array:  30% |############                               | \remitting double-array:  40% |#################                          | \remitting double-array:  50% |#####################                      | \remitting double-array:  60% |#########################                  | \remitting double-array:  70% |##############################             | \remitting double-array:  80% |##################################         | \remitting double-array:  90% |######################################     | \remitting double-array: 100% |###########################################| \n",
            "reading ./matrix.def ... 84x84\n",
            "emitting matrix      :   1% |                                           | \remitting matrix      :   2% |#                                          | \remitting matrix      :   3% |#                                          | \remitting matrix      :   4% |##                                         | \remitting matrix      :   5% |##                                         | \remitting matrix      :   7% |###                                        | \remitting matrix      :   8% |###                                        | \remitting matrix      :   9% |####                                       | \remitting matrix      :  10% |####                                       | \remitting matrix      :  11% |#####                                      | \remitting matrix      :  13% |#####                                      | \remitting matrix      :  14% |######                                     | \remitting matrix      :  15% |######                                     | \remitting matrix      :  16% |#######                                    | \remitting matrix      :  17% |#######                                    | \remitting matrix      :  19% |########                                   | \remitting matrix      :  20% |########                                   | \remitting matrix      :  21% |#########                                  | \remitting matrix      :  22% |#########                                  | \remitting matrix      :  23% |##########                                 | \remitting matrix      :  25% |##########                                 | \remitting matrix      :  26% |###########                                | \remitting matrix      :  27% |###########                                | \remitting matrix      :  28% |############                               | \remitting matrix      :  29% |############                               | \remitting matrix      :  30% |#############                              | \remitting matrix      :  32% |#############                              | \remitting matrix      :  33% |##############                             | \remitting matrix      :  34% |##############                             | \remitting matrix      :  35% |###############                            | \remitting matrix      :  36% |###############                            | \remitting matrix      :  38% |################                           | \remitting matrix      :  39% |################                           | \remitting matrix      :  40% |#################                          | \remitting matrix      :  41% |#################                          | \remitting matrix      :  42% |##################                         | \remitting matrix      :  44% |##################                         | \remitting matrix      :  45% |###################                        | \remitting matrix      :  46% |###################                        | \remitting matrix      :  47% |####################                       | \remitting matrix      :  48% |####################                       | \remitting matrix      :  50% |#####################                      | \remitting matrix      :  51% |######################                     | \remitting matrix      :  52% |######################                     | \remitting matrix      :  53% |#######################                    | \remitting matrix      :  54% |#######################                    | \remitting matrix      :  55% |########################                   | \remitting matrix      :  57% |########################                   | \remitting matrix      :  58% |#########################                  | \remitting matrix      :  59% |#########################                  | \remitting matrix      :  60% |##########################                 | \remitting matrix      :  61% |##########################                 | \remitting matrix      :  63% |###########################                | \remitting matrix      :  64% |###########################                | \remitting matrix      :  65% |############################               | \remitting matrix      :  66% |############################               | \remitting matrix      :  67% |#############################              | \remitting matrix      :  69% |#############################              | \remitting matrix      :  70% |##############################             | \remitting matrix      :  71% |##############################             | \remitting matrix      :  72% |###############################            | \remitting matrix      :  73% |###############################            | \remitting matrix      :  75% |################################           | \remitting matrix      :  76% |################################           | \remitting matrix      :  77% |#################################          | \remitting matrix      :  78% |#################################          | \remitting matrix      :  79% |##################################         | \remitting matrix      :  80% |##################################         | \remitting matrix      :  82% |###################################        | \remitting matrix      :  83% |###################################        | \remitting matrix      :  84% |####################################       | \remitting matrix      :  85% |####################################       | \remitting matrix      :  86% |#####################################      | \remitting matrix      :  88% |#####################################      | \remitting matrix      :  89% |######################################     | \remitting matrix      :  90% |######################################     | \remitting matrix      :  91% |#######################################    | \remitting matrix      :  92% |#######################################    | \remitting matrix      :  94% |########################################   | \remitting matrix      :  95% |########################################   | \remitting matrix      :  96% |#########################################  | \remitting matrix      :  97% |#########################################  | \remitting matrix      :  98% |########################################## | \remitting matrix      : 100% |###########################################| \n",
            "\n",
            "done!\n",
            "reading ./unk.def ... 2\n",
            "emitting double-array:  50% |#####################                      | \remitting double-array: 100% |###########################################| \n",
            "./model.def is not found. skipped.\n",
            "reading ./dic.csv ... 450\n",
            "emitting double-array:   0% |                                           | \remitting double-array:   1% |                                           | \remitting double-array:   2% |                                           | \remitting double-array:   3% |#                                          | \remitting double-array:   4% |#                                          | \remitting double-array:   5% |##                                         | \remitting double-array:   6% |##                                         | \remitting double-array:   7% |###                                        | \remitting double-array:   8% |###                                        | \remitting double-array:   9% |###                                        | \remitting double-array:  10% |####                                       | \remitting double-array:  11% |####                                       | \remitting double-array:  12% |#####                                      | \remitting double-array:  13% |#####                                      | \remitting double-array:  14% |######                                     | \remitting double-array:  15% |######                                     | \remitting double-array:  16% |######                                     | \remitting double-array:  17% |#######                                    | \remitting double-array:  18% |#######                                    | \remitting double-array:  19% |########                                   | \remitting double-array:  20% |########                                   | \remitting double-array:  21% |#########                                  | \remitting double-array:  22% |#########                                  | \remitting double-array:  23% |#########                                  | \remitting double-array:  24% |##########                                 | \remitting double-array:  25% |##########                                 | \remitting double-array:  26% |###########                                | \remitting double-array:  27% |###########                                | \remitting double-array:  28% |############                               | \remitting double-array:  29% |############                               | \remitting double-array:  30% |############                               | \remitting double-array:  31% |#############                              | \remitting double-array:  32% |#############                              | \remitting double-array:  33% |##############                             | \remitting double-array:  34% |##############                             | \remitting double-array:  35% |###############                            | \remitting double-array:  36% |###############                            | \remitting double-array:  37% |###############                            | \remitting double-array:  38% |################                           | \remitting double-array:  39% |################                           | \remitting double-array:  40% |#################                          | \remitting double-array:  41% |#################                          | \remitting double-array:  42% |##################                         | \remitting double-array:  43% |##################                         | \remitting double-array:  44% |##################                         | \remitting double-array:  45% |###################                        | \remitting double-array:  46% |###################                        | \remitting double-array:  47% |####################                       | \remitting double-array:  48% |####################                       | \remitting double-array:  49% |#####################                      | \remitting double-array:  50% |#####################                      | \remitting double-array:  51% |#####################                      | \remitting double-array:  52% |######################                     | \remitting double-array:  53% |######################                     | \remitting double-array:  54% |#######################                    | \remitting double-array:  55% |#######################                    | \remitting double-array:  56% |########################                   | \remitting double-array:  57% |########################                   | \remitting double-array:  58% |#########################                  | \remitting double-array:  59% |#########################                  | \remitting double-array:  60% |#########################                  | \remitting double-array:  61% |##########################                 | \remitting double-array:  62% |##########################                 | \remitting double-array:  63% |###########################                | \remitting double-array:  64% |###########################                | \remitting double-array:  65% |###########################                | \remitting double-array:  66% |############################               | \remitting double-array:  67% |############################               | \remitting double-array:  68% |#############################              | \remitting double-array:  69% |#############################              | \remitting double-array:  70% |##############################             | \remitting double-array:  71% |##############################             | \remitting double-array:  72% |##############################             | \remitting double-array:  73% |###############################            | \remitting double-array:  74% |###############################            | \remitting double-array:  75% |################################           | \remitting double-array:  76% |################################           | \remitting double-array:  77% |#################################          | \remitting double-array:  78% |#################################          | \remitting double-array:  79% |##################################         | \remitting double-array:  80% |##################################         | \remitting double-array:  81% |##################################         | \remitting double-array:  82% |###################################        | \remitting double-array:  83% |###################################        | \remitting double-array:  84% |####################################       | \remitting double-array:  85% |####################################       | \remitting double-array:  86% |#####################################      | \remitting double-array:  87% |#####################################      | \remitting double-array:  88% |#####################################      | \remitting double-array:  89% |######################################     | \remitting double-array:  90% |######################################     | \remitting double-array:  91% |#######################################    | \remitting double-array:  92% |#######################################    | \remitting double-array:  93% |########################################   | \remitting double-array:  94% |########################################   | \remitting double-array:  95% |########################################   | \remitting double-array:  96% |#########################################  | \remitting double-array:  97% |#########################################  | \remitting double-array:  98% |########################################## | \remitting double-array:  99% |########################################## | \remitting double-array: 100% |###########################################| \n",
            "reading ./matrix.def ... 1x1\n",
            "\n",
            "done!\n",
            "reading ./unk.def ... 2\n",
            "emitting double-array:  50% |#####################                      | \remitting double-array: 100% |###########################################| \n",
            "./model.def is not found. skipped.\n",
            "reading ./dic.csv ... 162\n",
            "emitting double-array:   1% |                                           | \remitting double-array:   2% |#                                          | \remitting double-array:   3% |#                                          | \remitting double-array:   4% |##                                         | \remitting double-array:   6% |##                                         | \remitting double-array:   7% |###                                        | \remitting double-array:   8% |###                                        | \remitting double-array:   9% |####                                       | \remitting double-array:  11% |####                                       | \remitting double-array:  12% |#####                                      | \remitting double-array:  13% |#####                                      | \remitting double-array:  14% |######                                     | \remitting double-array:  16% |######                                     | \remitting double-array:  17% |#######                                    | \remitting double-array:  18% |#######                                    | \remitting double-array:  19% |########                                   | \remitting double-array:  20% |#########                                  | \remitting double-array:  22% |#########                                  | \remitting double-array:  23% |##########                                 | \remitting double-array:  24% |##########                                 | \remitting double-array:  25% |###########                                | \remitting double-array:  27% |###########                                | \remitting double-array:  28% |############                               | \remitting double-array:  29% |############                               | \remitting double-array:  30% |#############                              | \remitting double-array:  32% |#############                              | \remitting double-array:  33% |##############                             | \remitting double-array:  34% |##############                             | \remitting double-array:  35% |###############                            | \remitting double-array:  37% |###############                            | \remitting double-array:  38% |################                           | \remitting double-array:  39% |################                           | \remitting double-array:  40% |#################                          | \remitting double-array:  41% |##################                         | \remitting double-array:  43% |##################                         | \remitting double-array:  44% |###################                        | \remitting double-array:  45% |###################                        | \remitting double-array:  46% |####################                       | \remitting double-array:  48% |####################                       | \remitting double-array:  49% |#####################                      | \remitting double-array:  50% |#####################                      | \remitting double-array:  51% |######################                     | \remitting double-array:  53% |######################                     | \remitting double-array:  54% |#######################                    | \remitting double-array:  55% |#######################                    | \remitting double-array:  56% |########################                   | \remitting double-array:  58% |########################                   | \remitting double-array:  59% |#########################                  | \remitting double-array:  60% |##########################                 | \remitting double-array:  61% |##########################                 | \remitting double-array:  62% |###########################                | \remitting double-array:  64% |###########################                | \remitting double-array:  65% |############################               | \remitting double-array:  66% |############################               | \remitting double-array:  67% |#############################              | \remitting double-array:  69% |#############################              | \remitting double-array:  70% |##############################             | \remitting double-array:  71% |##############################             | \remitting double-array:  72% |###############################            | \remitting double-array:  74% |###############################            | \remitting double-array:  75% |################################           | \remitting double-array:  76% |################################           | \remitting double-array:  77% |#################################          | \remitting double-array:  79% |#################################          | \remitting double-array:  80% |##################################         | \remitting double-array:  81% |###################################        | \remitting double-array:  82% |###################################        | \remitting double-array:  83% |####################################       | \remitting double-array:  85% |####################################       | \remitting double-array:  86% |#####################################      | \remitting double-array:  87% |#####################################      | \remitting double-array:  88% |######################################     | \remitting double-array:  90% |######################################     | \remitting double-array:  91% |#######################################    | \remitting double-array:  92% |#######################################    | \remitting double-array:  93% |########################################   | \remitting double-array:  95% |########################################   | \remitting double-array:  96% |#########################################  | \remitting double-array:  97% |#########################################  | \remitting double-array:  98% |########################################## | \remitting double-array: 100% |###########################################| \n",
            "reading ./matrix.def ... 3x3\n",
            "emitting matrix      :  33% |##############                             | \remitting matrix      :  66% |############################               | \remitting matrix      : 100% |###########################################| \n",
            "\n",
            "done!\n",
            "reading ./unk.def ... 2\n",
            "emitting double-array:  50% |#####################                      | \remitting double-array: 100% |###########################################| \n",
            "./model.def is not found. skipped.\n",
            "reading ./dic.csv ... 4\n",
            "emitting double-array:  25% |##########                                 | \remitting double-array:  50% |#####################                      | \remitting double-array:  75% |################################           | \remitting double-array: 100% |###########################################| \n",
            "reading ./matrix.def ... 1x1\n",
            "\n",
            "done!\n",
            "reading ./unk.def ... 11\n",
            "emitting double-array:   9% |###                                        | \remitting double-array:  18% |#######                                    | \remitting double-array:  27% |###########                                | \remitting double-array:  36% |###############                            | \remitting double-array:  45% |###################                        | \remitting double-array:  54% |#######################                    | \remitting double-array:  63% |###########################                | \remitting double-array:  72% |###############################            | \remitting double-array:  81% |###################################        | \remitting double-array:  90% |#######################################    | \remitting double-array: 100% |###########################################| \n",
            "./model.def is not found. skipped.\n",
            "reading ./dic.csv ... 1\n",
            "reading ./matrix.def ... 1x1\n",
            "\n",
            "done!\n",
            "reading ./unk.def ... 2\n",
            "emitting double-array:  50% |#####################                      | \remitting double-array: 100% |###########################################| \n",
            "./model.def is not found. skipped.\n",
            "reading ./dic.csv ... 1\n",
            "reading ./matrix.def ... 1x1\n",
            "\n",
            "done!\n",
            "PASS: run-dics.sh\n",
            "PASS: run-eval.sh\n",
            "reading seed/unk.def ... 40\n",
            "emitting double-array:   9% |###                                        | \remitting double-array:  18% |#######                                    | \remitting double-array:  27% |###########                                | \remitting double-array:  36% |###############                            | \remitting double-array:  45% |###################                        | \remitting double-array:  54% |#######################                    | \remitting double-array:  63% |###########################                | \remitting double-array:  72% |###############################            | \remitting double-array:  81% |###################################        | \remitting double-array:  90% |#######################################    | \remitting double-array: 100% |###########################################| \n",
            "seed/model.def is not found. skipped.\n",
            "reading seed/dic.csv ... 4335\n",
            "emitting double-array:   0% |                                           | \remitting double-array:   1% |                                           | \remitting double-array:   2% |                                           | \remitting double-array:   3% |#                                          | \remitting double-array:   4% |#                                          | \remitting double-array:   5% |##                                         | \remitting double-array:   6% |##                                         | \remitting double-array:   7% |###                                        | \remitting double-array:   8% |###                                        | \remitting double-array:   9% |###                                        | \remitting double-array:  10% |####                                       | \remitting double-array:  11% |####                                       | \remitting double-array:  12% |#####                                      | \remitting double-array:  13% |#####                                      | \remitting double-array:  14% |######                                     | \remitting double-array:  15% |######                                     | \remitting double-array:  16% |######                                     | \remitting double-array:  17% |#######                                    | \remitting double-array:  18% |#######                                    | \remitting double-array:  19% |########                                   | \remitting double-array:  20% |########                                   | \remitting double-array:  21% |#########                                  | \remitting double-array:  22% |#########                                  | \remitting double-array:  23% |#########                                  | \remitting double-array:  24% |##########                                 | \remitting double-array:  25% |##########                                 | \remitting double-array:  26% |###########                                | \remitting double-array:  27% |###########                                | \remitting double-array:  28% |############                               | \remitting double-array:  29% |############                               | \remitting double-array:  30% |############                               | \remitting double-array:  31% |#############                              | \remitting double-array:  32% |#############                              | \remitting double-array:  33% |##############                             | \remitting double-array:  34% |##############                             | \remitting double-array:  35% |###############                            | \remitting double-array:  36% |###############                            | \remitting double-array:  37% |###############                            | \remitting double-array:  38% |################                           | \remitting double-array:  39% |################                           | \remitting double-array:  40% |#################                          | \remitting double-array:  41% |#################                          | \remitting double-array:  42% |##################                         | \remitting double-array:  43% |##################                         | \remitting double-array:  44% |##################                         | \remitting double-array:  45% |###################                        | \remitting double-array:  46% |###################                        | \remitting double-array:  47% |####################                       | \remitting double-array:  48% |####################                       | \remitting double-array:  49% |#####################                      | \remitting double-array:  50% |#####################                      | \remitting double-array:  51% |#####################                      | \remitting double-array:  52% |######################                     | \remitting double-array:  53% |######################                     | \remitting double-array:  54% |#######################                    | \remitting double-array:  55% |#######################                    | \remitting double-array:  56% |########################                   | \remitting double-array:  57% |########################                   | \remitting double-array:  58% |########################                   | \remitting double-array:  59% |#########################                  | \remitting double-array:  60% |#########################                  | \remitting double-array:  61% |##########################                 | \remitting double-array:  62% |##########################                 | \remitting double-array:  63% |###########################                | \remitting double-array:  64% |###########################                | \remitting double-array:  65% |###########################                | \remitting double-array:  66% |############################               | \remitting double-array:  67% |############################               | \remitting double-array:  68% |#############################              | \remitting double-array:  69% |#############################              | \remitting double-array:  70% |##############################             | \remitting double-array:  71% |##############################             | \remitting double-array:  72% |##############################             | \remitting double-array:  73% |###############################            | \remitting double-array:  74% |###############################            | \remitting double-array:  75% |################################           | \remitting double-array:  76% |################################           | \remitting double-array:  77% |#################################          | \remitting double-array:  78% |#################################          | \remitting double-array:  79% |#################################          | \remitting double-array:  80% |##################################         | \remitting double-array:  81% |##################################         | \remitting double-array:  82% |###################################        | \remitting double-array:  83% |###################################        | \remitting double-array:  84% |####################################       | \remitting double-array:  85% |####################################       | \remitting double-array:  86% |#####################################      | \remitting double-array:  87% |#####################################      | \remitting double-array:  88% |#####################################      | \remitting double-array:  89% |######################################     | \remitting double-array:  90% |######################################     | \remitting double-array:  91% |#######################################    | \remitting double-array:  92% |#######################################    | \remitting double-array:  93% |########################################   | \remitting double-array:  94% |########################################   | \remitting double-array:  95% |########################################   | \remitting double-array:  96% |#########################################  | \remitting double-array:  97% |#########################################  | \remitting double-array:  98% |########################################## | \remitting double-array:  99% |########################################## | \remitting double-array: 100% |###########################################| \n",
            "reading seed/matrix.def ... 1x1\n",
            "\n",
            "done!\n",
            "reading corpus ...\n",
            "Number of sentences: 34\n",
            "Number of features:  64108\n",
            "eta:                 0.00005\n",
            "freq:                1\n",
            "eval-size:           6\n",
            "unk-eval-size:       4\n",
            "threads:             1\n",
            "charset:             EUC-JP\n",
            "C(sigma^2):          1.00000\n",
            "\n",
            "iter=0 err=1.00000 F=0.35771 target=2406.28355 diff=1.00000\n",
            "iter=1 err=0.97059 F=0.65652 target=1484.25231 diff=0.38318\n",
            "iter=2 err=0.91176 F=0.79331 target=863.32765 diff=0.41834\n",
            "iter=3 err=0.85294 F=0.89213 target=596.72480 diff=0.30881\n",
            "iter=4 err=0.61765 F=0.95467 target=336.30744 diff=0.43641\n",
            "iter=5 err=0.50000 F=0.96702 target=246.53039 diff=0.26695\n",
            "iter=6 err=0.35294 F=0.95472 target=188.93963 diff=0.23361\n",
            "iter=7 err=0.20588 F=0.99106 target=168.62665 diff=0.10751\n",
            "iter=8 err=0.05882 F=0.99777 target=158.64865 diff=0.05917\n",
            "iter=9 err=0.08824 F=0.99665 target=154.14530 diff=0.02839\n",
            "iter=10 err=0.08824 F=0.99665 target=151.94257 diff=0.01429\n",
            "iter=11 err=0.02941 F=0.99888 target=147.20825 diff=0.03116\n",
            "iter=12 err=0.00000 F=1.00000 target=147.34956 diff=0.00096\n",
            "iter=13 err=0.02941 F=0.99888 target=146.32592 diff=0.00695\n",
            "iter=14 err=0.00000 F=1.00000 target=145.77299 diff=0.00378\n",
            "iter=15 err=0.02941 F=0.99888 target=145.24641 diff=0.00361\n",
            "iter=16 err=0.00000 F=1.00000 target=144.96490 diff=0.00194\n",
            "iter=17 err=0.02941 F=0.99888 target=144.90246 diff=0.00043\n",
            "iter=18 err=0.00000 F=1.00000 target=144.75959 diff=0.00099\n",
            "iter=19 err=0.00000 F=1.00000 target=144.71727 diff=0.00029\n",
            "iter=20 err=0.00000 F=1.00000 target=144.66337 diff=0.00037\n",
            "iter=21 err=0.00000 F=1.00000 target=144.61349 diff=0.00034\n",
            "iter=22 err=0.00000 F=1.00000 target=144.62987 diff=0.00011\n",
            "iter=23 err=0.00000 F=1.00000 target=144.60060 diff=0.00020\n",
            "iter=24 err=0.00000 F=1.00000 target=144.59125 diff=0.00006\n",
            "iter=25 err=0.00000 F=1.00000 target=144.58619 diff=0.00004\n",
            "iter=26 err=0.00000 F=1.00000 target=144.58219 diff=0.00003\n",
            "iter=27 err=0.00000 F=1.00000 target=144.58059 diff=0.00001\n",
            "\n",
            "Done! writing model file ... \n",
            "model-ipadic.c1.0.f1.model is not a binary model. reopen it as text mode...\n",
            "reading seed/unk.def ... 40\n",
            "reading seed/dic.csv ... 4335\n",
            "emitting model-ipadic.c1.0.f1.dic/left-id.def/ model-ipadic.c1.0.f1.dic/right-id.def\n",
            "emitting model-ipadic.c1.0.f1.dic/unk.def ... 40\n",
            "emitting model-ipadic.c1.0.f1.dic/dic.csv ... 4335\n",
            "emitting matrix      :   1% |                                           | \remitting matrix      :   2% |                                           | \remitting matrix      :   3% |#                                          | \remitting matrix      :   4% |#                                          | \remitting matrix      :   5% |##                                         | \remitting matrix      :   6% |##                                         | \remitting matrix      :   7% |###                                        | \remitting matrix      :   8% |###                                        | \remitting matrix      :   9% |###                                        | \remitting matrix      :  10% |####                                       | \remitting matrix      :  11% |####                                       | \remitting matrix      :  12% |#####                                      | \remitting matrix      :  13% |#####                                      | \remitting matrix      :  14% |######                                     | \remitting matrix      :  15% |######                                     | \remitting matrix      :  16% |######                                     | \remitting matrix      :  17% |#######                                    | \remitting matrix      :  18% |#######                                    | \remitting matrix      :  19% |########                                   | \remitting matrix      :  20% |########                                   | \remitting matrix      :  21% |#########                                  | \remitting matrix      :  22% |#########                                  | \remitting matrix      :  23% |#########                                  | \remitting matrix      :  24% |##########                                 | \remitting matrix      :  25% |##########                                 | \remitting matrix      :  26% |###########                                | \remitting matrix      :  27% |###########                                | \remitting matrix      :  28% |############                               | \remitting matrix      :  29% |############                               | \remitting matrix      :  30% |############                               | \remitting matrix      :  31% |#############                              | \remitting matrix      :  32% |#############                              | \remitting matrix      :  33% |##############                             | \remitting matrix      :  34% |##############                             | \remitting matrix      :  35% |###############                            | \remitting matrix      :  36% |###############                            | \remitting matrix      :  37% |################                           | \remitting matrix      :  38% |################                           | \remitting matrix      :  39% |################                           | \remitting matrix      :  40% |#################                          | \remitting matrix      :  41% |#################                          | \remitting matrix      :  42% |##################                         | \remitting matrix      :  43% |##################                         | \remitting matrix      :  44% |###################                        | \remitting matrix      :  45% |###################                        | \remitting matrix      :  46% |###################                        | \remitting matrix      :  47% |####################                       | \remitting matrix      :  48% |####################                       | \remitting matrix      :  49% |#####################                      | \remitting matrix      :  50% |#####################                      | \remitting matrix      :  51% |#####################                      | \remitting matrix      :  52% |######################                     | \remitting matrix      :  53% |######################                     | \remitting matrix      :  54% |#######################                    | \remitting matrix      :  55% |#######################                    | \remitting matrix      :  56% |########################                   | \remitting matrix      :  57% |########################                   | \remitting matrix      :  58% |########################                   | \remitting matrix      :  59% |#########################                  | \remitting matrix      :  60% |#########################                  | \remitting matrix      :  61% |##########################                 | \remitting matrix      :  62% |##########################                 | \remitting matrix      :  63% |###########################                | \remitting matrix      :  64% |###########################                | \remitting matrix      :  65% |###########################                | \remitting matrix      :  66% |############################               | \remitting matrix      :  67% |############################               | \remitting matrix      :  68% |#############################              | \remitting matrix      :  69% |#############################              | \remitting matrix      :  70% |##############################             | \remitting matrix      :  71% |##############################             | \remitting matrix      :  72% |###############################            | \remitting matrix      :  73% |###############################            | \remitting matrix      :  74% |###############################            | \remitting matrix      :  75% |################################           | \remitting matrix      :  76% |################################           | \remitting matrix      :  77% |#################################          | \remitting matrix      :  78% |#################################          | \remitting matrix      :  79% |##################################         | \remitting matrix      :  80% |##################################         | \remitting matrix      :  81% |##################################         | \remitting matrix      :  82% |###################################        | \remitting matrix      :  83% |###################################        | \remitting matrix      :  84% |####################################       | \remitting matrix      :  85% |####################################       | \remitting matrix      :  86% |#####################################      | \remitting matrix      :  87% |#####################################      | \remitting matrix      :  88% |#####################################      | \remitting matrix      :  89% |######################################     | \remitting matrix      :  90% |######################################     | \remitting matrix      :  91% |#######################################    | \remitting matrix      :  92% |#######################################    | \remitting matrix      :  93% |########################################   | \remitting matrix      :  94% |########################################   | \remitting matrix      :  95% |########################################   | \remitting matrix      :  96% |#########################################  | \remitting matrix      :  97% |#########################################  | \remitting matrix      :  98% |########################################## | \remitting matrix      :  99% |########################################## | \remitting matrix      : 100% |###########################################| \n",
            "copying seed/char.def to model-ipadic.c1.0.f1.dic/char.def\n",
            "copying seed/rewrite.def to model-ipadic.c1.0.f1.dic/rewrite.def\n",
            "copying seed/dicrc to model-ipadic.c1.0.f1.dic/dicrc\n",
            "copying seed/feature.def to model-ipadic.c1.0.f1.dic/feature.def\n",
            "copying model-ipadic.c1.0.f1.model to model-ipadic.c1.0.f1.dic/model.def\n",
            "\n",
            "done!\n",
            "reading model-ipadic.c1.0.f1.dic/unk.def ... 40\n",
            "emitting double-array:   9% |###                                        | \remitting double-array:  18% |#######                                    | \remitting double-array:  27% |###########                                | \remitting double-array:  36% |###############                            | \remitting double-array:  45% |###################                        | \remitting double-array:  54% |#######################                    | \remitting double-array:  63% |###########################                | \remitting double-array:  72% |###############################            | \remitting double-array:  81% |###################################        | \remitting double-array:  90% |#######################################    | \remitting double-array: 100% |###########################################| \n",
            "reading model-ipadic.c1.0.f1.dic/dic.csv ... 4335\n",
            "emitting double-array:   0% |                                           | \remitting double-array:   1% |                                           | \remitting double-array:   2% |                                           | \remitting double-array:   3% |#                                          | \remitting double-array:   4% |#                                          | \remitting double-array:   5% |##                                         | \remitting double-array:   6% |##                                         | \remitting double-array:   7% |###                                        | \remitting double-array:   8% |###                                        | \remitting double-array:   9% |###                                        | \remitting double-array:  10% |####                                       | \remitting double-array:  11% |####                                       | \remitting double-array:  12% |#####                                      | \remitting double-array:  13% |#####                                      | \remitting double-array:  14% |######                                     | \remitting double-array:  15% |######                                     | \remitting double-array:  16% |######                                     | \remitting double-array:  17% |#######                                    | \remitting double-array:  18% |#######                                    | \remitting double-array:  19% |########                                   | \remitting double-array:  20% |########                                   | \remitting double-array:  21% |#########                                  | \remitting double-array:  22% |#########                                  | \remitting double-array:  23% |#########                                  | \remitting double-array:  24% |##########                                 | \remitting double-array:  25% |##########                                 | \remitting double-array:  26% |###########                                | \remitting double-array:  27% |###########                                | \remitting double-array:  28% |############                               | \remitting double-array:  29% |############                               | \remitting double-array:  30% |############                               | \remitting double-array:  31% |#############                              | \remitting double-array:  32% |#############                              | \remitting double-array:  33% |##############                             | \remitting double-array:  34% |##############                             | \remitting double-array:  35% |###############                            | \remitting double-array:  36% |###############                            | \remitting double-array:  37% |###############                            | \remitting double-array:  38% |################                           | \remitting double-array:  39% |################                           | \remitting double-array:  40% |#################                          | \remitting double-array:  41% |#################                          | \remitting double-array:  42% |##################                         | \remitting double-array:  43% |##################                         | \remitting double-array:  44% |##################                         | \remitting double-array:  45% |###################                        | \remitting double-array:  46% |###################                        | \remitting double-array:  47% |####################                       | \remitting double-array:  48% |####################                       | \remitting double-array:  49% |#####################                      | \remitting double-array:  50% |#####################                      | \remitting double-array:  51% |#####################                      | \remitting double-array:  52% |######################                     | \remitting double-array:  53% |######################                     | \remitting double-array:  54% |#######################                    | \remitting double-array:  55% |#######################                    | \remitting double-array:  56% |########################                   | \remitting double-array:  57% |########################                   | \remitting double-array:  58% |########################                   | \remitting double-array:  59% |#########################                  | \remitting double-array:  60% |#########################                  | \remitting double-array:  61% |##########################                 | \remitting double-array:  62% |##########################                 | \remitting double-array:  63% |###########################                | \remitting double-array:  64% |###########################                | \remitting double-array:  65% |###########################                | \remitting double-array:  66% |############################               | \remitting double-array:  67% |############################               | \remitting double-array:  68% |#############################              | \remitting double-array:  69% |#############################              | \remitting double-array:  70% |##############################             | \remitting double-array:  71% |##############################             | \remitting double-array:  72% |##############################             | \remitting double-array:  73% |###############################            | \remitting double-array:  74% |###############################            | \remitting double-array:  75% |################################           | \remitting double-array:  76% |################################           | \remitting double-array:  77% |#################################          | \remitting double-array:  78% |#################################          | \remitting double-array:  79% |#################################          | \remitting double-array:  80% |##################################         | \remitting double-array:  81% |##################################         | \remitting double-array:  82% |###################################        | \remitting double-array:  83% |###################################        | \remitting double-array:  84% |####################################       | \remitting double-array:  85% |####################################       | \remitting double-array:  86% |#####################################      | \remitting double-array:  87% |#####################################      | \remitting double-array:  88% |#####################################      | \remitting double-array:  89% |######################################     | \remitting double-array:  90% |######################################     | \remitting double-array:  91% |#######################################    | \remitting double-array:  92% |#######################################    | \remitting double-array:  93% |########################################   | \remitting double-array:  94% |########################################   | \remitting double-array:  95% |########################################   | \remitting double-array:  96% |#########################################  | \remitting double-array:  97% |#########################################  | \remitting double-array:  98% |########################################## | \remitting double-array:  99% |########################################## | \remitting double-array: 100% |###########################################| \n",
            "reading model-ipadic.c1.0.f1.dic/matrix.def ... 346x346\n",
            "emitting matrix      :   0% |                                           | \remitting matrix      :   1% |                                           | \remitting matrix      :   2% |                                           | \remitting matrix      :   3% |#                                          | \remitting matrix      :   4% |#                                          | \remitting matrix      :   5% |##                                         | \remitting matrix      :   6% |##                                         | \remitting matrix      :   7% |###                                        | \remitting matrix      :   8% |###                                        | \remitting matrix      :   9% |###                                        | \remitting matrix      :  10% |####                                       | \remitting matrix      :  11% |####                                       | \remitting matrix      :  12% |#####                                      | \remitting matrix      :  13% |#####                                      | \remitting matrix      :  14% |######                                     | \remitting matrix      :  15% |######                                     | \remitting matrix      :  16% |######                                     | \remitting matrix      :  17% |#######                                    | \remitting matrix      :  18% |#######                                    | \remitting matrix      :  19% |########                                   | \remitting matrix      :  20% |########                                   | \remitting matrix      :  21% |#########                                  | \remitting matrix      :  22% |#########                                  | \remitting matrix      :  23% |#########                                  | \remitting matrix      :  24% |##########                                 | \remitting matrix      :  25% |##########                                 | \remitting matrix      :  26% |###########                                | \remitting matrix      :  27% |###########                                | \remitting matrix      :  28% |############                               | \remitting matrix      :  29% |############                               | \remitting matrix      :  30% |############                               | \remitting matrix      :  31% |#############                              | \remitting matrix      :  32% |#############                              | \remitting matrix      :  33% |##############                             | \remitting matrix      :  34% |##############                             | \remitting matrix      :  35% |###############                            | \remitting matrix      :  36% |###############                            | \remitting matrix      :  37% |################                           | \remitting matrix      :  38% |################                           | \remitting matrix      :  39% |################                           | \remitting matrix      :  40% |#################                          | \remitting matrix      :  41% |#################                          | \remitting matrix      :  42% |##################                         | \remitting matrix      :  43% |##################                         | \remitting matrix      :  44% |###################                        | \remitting matrix      :  45% |###################                        | \remitting matrix      :  46% |###################                        | \remitting matrix      :  47% |####################                       | \remitting matrix      :  48% |####################                       | \remitting matrix      :  49% |#####################                      | \remitting matrix      :  50% |#####################                      | \remitting matrix      :  51% |#####################                      | \remitting matrix      :  52% |######################                     | \remitting matrix      :  53% |######################                     | \remitting matrix      :  54% |#######################                    | \remitting matrix      :  55% |#######################                    | \remitting matrix      :  56% |########################                   | \remitting matrix      :  57% |########################                   | \remitting matrix      :  58% |########################                   | \remitting matrix      :  59% |#########################                  | \remitting matrix      :  60% |#########################                  | \remitting matrix      :  61% |##########################                 | \remitting matrix      :  62% |##########################                 | \remitting matrix      :  63% |###########################                | \remitting matrix      :  64% |###########################                | \remitting matrix      :  65% |###########################                | \remitting matrix      :  66% |############################               | \remitting matrix      :  67% |############################               | \remitting matrix      :  68% |#############################              | \remitting matrix      :  69% |#############################              | \remitting matrix      :  70% |##############################             | \remitting matrix      :  71% |##############################             | \remitting matrix      :  72% |###############################            | \remitting matrix      :  73% |###############################            | \remitting matrix      :  74% |###############################            | \remitting matrix      :  75% |################################           | \remitting matrix      :  76% |################################           | \remitting matrix      :  77% |#################################          | \remitting matrix      :  78% |#################################          | \remitting matrix      :  79% |##################################         | \remitting matrix      :  80% |##################################         | \remitting matrix      :  81% |##################################         | \remitting matrix      :  82% |###################################        | \remitting matrix      :  83% |###################################        | \remitting matrix      :  84% |####################################       | \remitting matrix      :  85% |####################################       | \remitting matrix      :  86% |#####################################      | \remitting matrix      :  87% |#####################################      | \remitting matrix      :  88% |#####################################      | \remitting matrix      :  89% |######################################     | \remitting matrix      :  90% |######################################     | \remitting matrix      :  91% |#######################################    | \remitting matrix      :  92% |#######################################    | \remitting matrix      :  93% |########################################   | \remitting matrix      :  94% |########################################   | \remitting matrix      :  95% |########################################   | \remitting matrix      :  96% |#########################################  | \remitting matrix      :  97% |#########################################  | \remitting matrix      :  98% |########################################## | \remitting matrix      :  99% |########################################## | \remitting matrix      : 100% |###########################################| \n",
            "\n",
            "done!\n",
            "              precision          recall         F\n",
            "LEVEL 0:    12.8959(57/442) 11.8998(57/479) 12.3779\n",
            "LEVEL 1:    12.2172(54/442) 11.2735(54/479) 11.7264\n",
            "LEVEL 2:    11.7647(52/442) 10.8559(52/479) 11.2921\n",
            "LEVEL 4:    11.7647(52/442) 10.8559(52/479) 11.2921\n",
            "PASS: run-cost-train.sh\n",
            "==================\n",
            "All 3 tests passed\n",
            "==================\n",
            "make[2]: Leaving directory '/tmp/mecab-0.996-ko-0.9.2/tests'\n",
            "make[1]: Leaving directory '/tmp/mecab-0.996-ko-0.9.2/tests'\n",
            "make[1]: Entering directory '/tmp/mecab-0.996-ko-0.9.2'\n",
            "make[1]: Leaving directory '/tmp/mecab-0.996-ko-0.9.2'\n",
            "Making install in src\n",
            "make[1]: Entering directory '/tmp/mecab-0.996-ko-0.9.2/src'\n",
            "make[2]: Entering directory '/tmp/mecab-0.996-ko-0.9.2/src'\n",
            "test -z \"/usr/local/lib\" || /bin/mkdir -p \"/usr/local/lib\"\n",
            " /bin/bash ../libtool   --mode=install /usr/bin/install -c   libmecab.la '/usr/local/lib'\n",
            "libtool: install: /usr/bin/install -c .libs/libmecab.so.2.0.0 /usr/local/lib/libmecab.so.2.0.0\n",
            "libtool: install: (cd /usr/local/lib && { ln -s -f libmecab.so.2.0.0 libmecab.so.2 || { rm -f libmecab.so.2 && ln -s libmecab.so.2.0.0 libmecab.so.2; }; })\n",
            "libtool: install: (cd /usr/local/lib && { ln -s -f libmecab.so.2.0.0 libmecab.so || { rm -f libmecab.so && ln -s libmecab.so.2.0.0 libmecab.so; }; })\n",
            "libtool: install: /usr/bin/install -c .libs/libmecab.lai /usr/local/lib/libmecab.la\n",
            "libtool: install: /usr/bin/install -c .libs/libmecab.a /usr/local/lib/libmecab.a\n",
            "libtool: install: chmod 644 /usr/local/lib/libmecab.a\n",
            "libtool: install: ranlib /usr/local/lib/libmecab.a\n",
            "libtool: finish: PATH=\"/usr/local/sbin:/usr/local/bin:/usr/sbin:/usr/bin:/sbin:/bin:/snap/bin:/sbin\" ldconfig -n /usr/local/lib\n",
            "----------------------------------------------------------------------\n",
            "Libraries have been installed in:\n",
            "   /usr/local/lib\n",
            "\n",
            "If you ever happen to want to link against installed libraries\n",
            "in a given directory, LIBDIR, you must either use libtool, and\n",
            "specify the full pathname of the library, or use the `-LLIBDIR'\n",
            "flag during linking and do at least one of the following:\n",
            "   - add LIBDIR to the `LD_LIBRARY_PATH' environment variable\n",
            "     during execution\n",
            "   - add LIBDIR to the `LD_RUN_PATH' environment variable\n",
            "     during linking\n",
            "   - use the `-Wl,-rpath -Wl,LIBDIR' linker flag\n",
            "   - have your system administrator add LIBDIR to `/etc/ld.so.conf'\n",
            "\n",
            "See any operating system documentation about shared libraries for\n",
            "more information, such as the ld(1) and ld.so(8) manual pages.\n",
            "----------------------------------------------------------------------\n",
            "test -z \"/usr/local/bin\" || /bin/mkdir -p \"/usr/local/bin\"\n",
            "  /bin/bash ../libtool   --mode=install /usr/bin/install -c mecab '/usr/local/bin'\n",
            "libtool: install: /usr/bin/install -c .libs/mecab /usr/local/bin/mecab\n",
            "test -z \"/usr/local/libexec/mecab\" || /bin/mkdir -p \"/usr/local/libexec/mecab\"\n",
            "  /bin/bash ../libtool   --mode=install /usr/bin/install -c mecab-dict-index mecab-dict-gen mecab-cost-train mecab-system-eval mecab-test-gen '/usr/local/libexec/mecab'\n",
            "libtool: install: /usr/bin/install -c .libs/mecab-dict-index /usr/local/libexec/mecab/mecab-dict-index\n",
            "libtool: install: /usr/bin/install -c .libs/mecab-dict-gen /usr/local/libexec/mecab/mecab-dict-gen\n",
            "libtool: install: /usr/bin/install -c .libs/mecab-cost-train /usr/local/libexec/mecab/mecab-cost-train\n",
            "libtool: install: /usr/bin/install -c .libs/mecab-system-eval /usr/local/libexec/mecab/mecab-system-eval\n",
            "libtool: install: /usr/bin/install -c .libs/mecab-test-gen /usr/local/libexec/mecab/mecab-test-gen\n",
            "test -z \"/usr/local/include\" || /bin/mkdir -p \"/usr/local/include\"\n",
            " /usr/bin/install -c -m 644 mecab.h '/usr/local/include'\n",
            "make[2]: Leaving directory '/tmp/mecab-0.996-ko-0.9.2/src'\n",
            "make[1]: Leaving directory '/tmp/mecab-0.996-ko-0.9.2/src'\n",
            "Making install in man\n",
            "make[1]: Entering directory '/tmp/mecab-0.996-ko-0.9.2/man'\n",
            "make[2]: Entering directory '/tmp/mecab-0.996-ko-0.9.2/man'\n",
            "make[2]: Nothing to be done for 'install-exec-am'.\n",
            "test -z \"/usr/local/share/man/man1\" || /bin/mkdir -p \"/usr/local/share/man/man1\"\n",
            " /usr/bin/install -c -m 644 mecab.1 '/usr/local/share/man/man1'\n",
            "make[2]: Leaving directory '/tmp/mecab-0.996-ko-0.9.2/man'\n",
            "make[1]: Leaving directory '/tmp/mecab-0.996-ko-0.9.2/man'\n",
            "Making install in doc\n",
            "make[1]: Entering directory '/tmp/mecab-0.996-ko-0.9.2/doc'\n",
            "make[2]: Entering directory '/tmp/mecab-0.996-ko-0.9.2/doc'\n",
            "make[2]: Nothing to be done for 'install-exec-am'.\n",
            "make[2]: Nothing to be done for 'install-data-am'.\n",
            "make[2]: Leaving directory '/tmp/mecab-0.996-ko-0.9.2/doc'\n",
            "make[1]: Leaving directory '/tmp/mecab-0.996-ko-0.9.2/doc'\n",
            "Making install in tests\n",
            "make[1]: Entering directory '/tmp/mecab-0.996-ko-0.9.2/tests'\n",
            "make[2]: Entering directory '/tmp/mecab-0.996-ko-0.9.2/tests'\n",
            "make[2]: Nothing to be done for 'install-exec-am'.\n",
            "make[2]: Nothing to be done for 'install-data-am'.\n",
            "make[2]: Leaving directory '/tmp/mecab-0.996-ko-0.9.2/tests'\n",
            "make[1]: Leaving directory '/tmp/mecab-0.996-ko-0.9.2/tests'\n",
            "make[1]: Entering directory '/tmp/mecab-0.996-ko-0.9.2'\n",
            "make[2]: Entering directory '/tmp/mecab-0.996-ko-0.9.2'\n",
            "test -z \"/usr/local/bin\" || /bin/mkdir -p \"/usr/local/bin\"\n",
            " /usr/bin/install -c mecab-config '/usr/local/bin'\n",
            "test -z \"/usr/local/etc\" || /bin/mkdir -p \"/usr/local/etc\"\n",
            " /usr/bin/install -c -m 644 mecabrc '/usr/local/etc'\n",
            "make[2]: Leaving directory '/tmp/mecab-0.996-ko-0.9.2'\n",
            "make[1]: Leaving directory '/tmp/mecab-0.996-ko-0.9.2'\n",
            "Install mecab-ko-dic\n",
            "Install mecab-ko-dic\n",
            "mecab-ko-dic-2.1.1-20180720/\n",
            "mecab-ko-dic-2.1.1-20180720/configure\n",
            "mecab-ko-dic-2.1.1-20180720/COPYING\n",
            "mecab-ko-dic-2.1.1-20180720/autogen.sh\n",
            "mecab-ko-dic-2.1.1-20180720/Place-station.csv\n",
            "mecab-ko-dic-2.1.1-20180720/NNG.csv\n",
            "mecab-ko-dic-2.1.1-20180720/README\n",
            "mecab-ko-dic-2.1.1-20180720/EF.csv\n",
            "mecab-ko-dic-2.1.1-20180720/MAG.csv\n",
            "mecab-ko-dic-2.1.1-20180720/Preanalysis.csv\n",
            "mecab-ko-dic-2.1.1-20180720/NNB.csv\n",
            "mecab-ko-dic-2.1.1-20180720/Person-actor.csv\n",
            "mecab-ko-dic-2.1.1-20180720/VV.csv\n",
            "mecab-ko-dic-2.1.1-20180720/Makefile.in\n",
            "mecab-ko-dic-2.1.1-20180720/matrix.def\n",
            "mecab-ko-dic-2.1.1-20180720/EC.csv\n",
            "mecab-ko-dic-2.1.1-20180720/NNBC.csv\n",
            "mecab-ko-dic-2.1.1-20180720/clean\n",
            "mecab-ko-dic-2.1.1-20180720/ChangeLog\n",
            "mecab-ko-dic-2.1.1-20180720/J.csv\n",
            "mecab-ko-dic-2.1.1-20180720/.keep\n",
            "mecab-ko-dic-2.1.1-20180720/feature.def\n",
            "mecab-ko-dic-2.1.1-20180720/Foreign.csv\n",
            "mecab-ko-dic-2.1.1-20180720/XPN.csv\n",
            "mecab-ko-dic-2.1.1-20180720/EP.csv\n",
            "mecab-ko-dic-2.1.1-20180720/NR.csv\n",
            "mecab-ko-dic-2.1.1-20180720/left-id.def\n",
            "mecab-ko-dic-2.1.1-20180720/Place.csv\n",
            "mecab-ko-dic-2.1.1-20180720/Symbol.csv\n",
            "mecab-ko-dic-2.1.1-20180720/dicrc\n",
            "mecab-ko-dic-2.1.1-20180720/NP.csv\n",
            "mecab-ko-dic-2.1.1-20180720/ETM.csv\n",
            "mecab-ko-dic-2.1.1-20180720/IC.csv\n",
            "mecab-ko-dic-2.1.1-20180720/Place-address.csv\n",
            "mecab-ko-dic-2.1.1-20180720/Group.csv\n",
            "mecab-ko-dic-2.1.1-20180720/model.def\n",
            "mecab-ko-dic-2.1.1-20180720/XSN.csv\n",
            "mecab-ko-dic-2.1.1-20180720/INSTALL\n",
            "mecab-ko-dic-2.1.1-20180720/rewrite.def\n",
            "mecab-ko-dic-2.1.1-20180720/Inflect.csv\n",
            "mecab-ko-dic-2.1.1-20180720/configure.ac\n",
            "mecab-ko-dic-2.1.1-20180720/NNP.csv\n",
            "mecab-ko-dic-2.1.1-20180720/CoinedWord.csv\n",
            "mecab-ko-dic-2.1.1-20180720/XSV.csv\n",
            "mecab-ko-dic-2.1.1-20180720/pos-id.def\n",
            "mecab-ko-dic-2.1.1-20180720/Makefile.am\n",
            "mecab-ko-dic-2.1.1-20180720/unk.def\n",
            "mecab-ko-dic-2.1.1-20180720/missing\n",
            "mecab-ko-dic-2.1.1-20180720/VCP.csv\n",
            "mecab-ko-dic-2.1.1-20180720/install-sh\n",
            "mecab-ko-dic-2.1.1-20180720/Hanja.csv\n",
            "mecab-ko-dic-2.1.1-20180720/MAJ.csv\n",
            "mecab-ko-dic-2.1.1-20180720/XSA.csv\n",
            "mecab-ko-dic-2.1.1-20180720/Wikipedia.csv\n",
            "mecab-ko-dic-2.1.1-20180720/tools/\n",
            "mecab-ko-dic-2.1.1-20180720/tools/add-userdic.sh\n",
            "mecab-ko-dic-2.1.1-20180720/tools/mecab-bestn.sh\n",
            "mecab-ko-dic-2.1.1-20180720/tools/convert_for_using_store.sh\n",
            "mecab-ko-dic-2.1.1-20180720/user-dic/\n",
            "mecab-ko-dic-2.1.1-20180720/user-dic/nnp.csv\n",
            "mecab-ko-dic-2.1.1-20180720/user-dic/place.csv\n",
            "mecab-ko-dic-2.1.1-20180720/user-dic/person.csv\n",
            "mecab-ko-dic-2.1.1-20180720/user-dic/README.md\n",
            "mecab-ko-dic-2.1.1-20180720/NorthKorea.csv\n",
            "mecab-ko-dic-2.1.1-20180720/VX.csv\n",
            "mecab-ko-dic-2.1.1-20180720/right-id.def\n",
            "mecab-ko-dic-2.1.1-20180720/VA.csv\n",
            "mecab-ko-dic-2.1.1-20180720/char.def\n",
            "mecab-ko-dic-2.1.1-20180720/NEWS\n",
            "mecab-ko-dic-2.1.1-20180720/MM.csv\n",
            "mecab-ko-dic-2.1.1-20180720/ETN.csv\n",
            "mecab-ko-dic-2.1.1-20180720/AUTHORS\n",
            "mecab-ko-dic-2.1.1-20180720/Person.csv\n",
            "mecab-ko-dic-2.1.1-20180720/XR.csv\n",
            "mecab-ko-dic-2.1.1-20180720/VCN.csv\n",
            "Looking in current directory for macros.\n",
            "checking for a BSD-compatible install... /usr/bin/install -c\n",
            "checking whether build environment is sane... yes\n",
            "checking for a thread-safe mkdir -p... /bin/mkdir -p\n",
            "checking for gawk... no\n",
            "checking for mawk... mawk\n",
            "checking whether make sets $(MAKE)... yes\n",
            "checking whether make supports nested variables... yes\n",
            "checking for mecab-config... /usr/local/bin/mecab-config\n",
            "checking that generated files are newer than configure... done\n",
            "configure: creating ./config.status\n",
            "config.status: creating Makefile\n",
            "/usr/local/lib\n",
            "/usr/local/libexec/mecab/mecab-dict-index -d . -o . -f UTF-8 -t UTF-8\n",
            "reading ./unk.def ... 13\n",
            "emitting double-array:   7% |###                                        | \remitting double-array:  15% |######                                     | \remitting double-array:  23% |#########                                  | \remitting double-array:  30% |#############                              | \remitting double-array:  38% |################                           | \remitting double-array:  46% |###################                        | \remitting double-array:  53% |#######################                    | \remitting double-array:  61% |##########################                 | \remitting double-array:  69% |#############################              | \remitting double-array:  76% |#################################          | \remitting double-array:  84% |####################################       | \remitting double-array:  92% |#######################################    | \remitting double-array: 100% |###########################################| \n",
            "reading ./VCP.csv ... 9\n",
            "reading ./ETM.csv ... 133\n",
            "reading ./Person-actor.csv ... 99230\n",
            "reading ./CoinedWord.csv ... 148\n",
            "reading ./Foreign.csv ... 11690\n",
            "reading ./Wikipedia.csv ... 36762\n",
            "reading ./XPN.csv ... 83\n",
            "reading ./VA.csv ... 2360\n",
            "reading ./NNB.csv ... 140\n",
            "reading ./NNG.csv ... 208524\n",
            "reading ./MAJ.csv ... 240\n",
            "reading ./J.csv ... 416\n",
            "reading ./NNP.csv ... 2371\n",
            "reading ./Preanalysis.csv ... 5\n",
            "reading ./Place-address.csv ... 19301\n",
            "reading ./MM.csv ... 453\n",
            "reading ./Symbol.csv ... 16\n",
            "reading ./Inflect.csv ... 44820\n",
            "reading ./IC.csv ... 1305\n",
            "reading ./Hanja.csv ... 125750\n",
            "reading ./Place-station.csv ... 1145\n",
            "reading ./XSV.csv ... 23\n",
            "reading ./XSA.csv ... 19\n",
            "reading ./VCN.csv ... 7\n",
            "reading ./EP.csv ... 51\n",
            "reading ./EC.csv ... 2547\n",
            "reading ./Person.csv ... 196459\n",
            "reading ./NNBC.csv ... 677\n",
            "reading ./VV.csv ... 7331\n",
            "reading ./MAG.csv ... 14242\n",
            "reading ./NorthKorea.csv ... 3\n",
            "reading ./Place.csv ... 30303\n",
            "reading ./NR.csv ... 482\n",
            "reading ./XSN.csv ... 124\n",
            "reading ./XR.csv ... 3637\n",
            "reading ./EF.csv ... 1820\n",
            "reading ./Group.csv ... 3176\n",
            "reading ./ETN.csv ... 14\n",
            "reading ./NP.csv ... 342\n",
            "reading ./VX.csv ... 125\n",
            "emitting double-array:   0% |                                           | \remitting double-array:   1% |                                           | \remitting double-array:   2% |                                           | \remitting double-array:   3% |#                                          | \remitting double-array:   4% |#                                          | \remitting double-array:   5% |##                                         | \remitting double-array:   6% |##                                         | \remitting double-array:   7% |###                                        | \remitting double-array:   8% |###                                        | \remitting double-array:   9% |###                                        | \remitting double-array:  10% |####                                       | \remitting double-array:  11% |####                                       | \remitting double-array:  12% |#####                                      | \remitting double-array:  13% |#####                                      | \remitting double-array:  14% |######                                     | \remitting double-array:  15% |######                                     | \remitting double-array:  16% |######                                     | \remitting double-array:  17% |#######                                    | \remitting double-array:  18% |#######                                    | \remitting double-array:  19% |########                                   | \remitting double-array:  20% |########                                   | \remitting double-array:  21% |#########                                  | \remitting double-array:  22% |#########                                  | \remitting double-array:  23% |#########                                  | \remitting double-array:  24% |##########                                 | \remitting double-array:  25% |##########                                 | \remitting double-array:  26% |###########                                | \remitting double-array:  27% |###########                                | \remitting double-array:  28% |############                               | \remitting double-array:  29% |############                               | \remitting double-array:  30% |############                               | \remitting double-array:  31% |#############                              | \remitting double-array:  32% |#############                              | \remitting double-array:  33% |##############                             | \remitting double-array:  34% |##############                             | \remitting double-array:  35% |###############                            | \remitting double-array:  36% |###############                            | \remitting double-array:  37% |###############                            | \remitting double-array:  38% |################                           | \remitting double-array:  39% |################                           | \remitting double-array:  40% |#################                          | \remitting double-array:  41% |#################                          | \remitting double-array:  42% |##################                         | \remitting double-array:  43% |##################                         | \remitting double-array:  44% |##################                         | \remitting double-array:  45% |###################                        | \remitting double-array:  46% |###################                        | \remitting double-array:  47% |####################                       | \remitting double-array:  48% |####################                       | \remitting double-array:  49% |#####################                      | \remitting double-array:  50% |#####################                      | \remitting double-array:  51% |#####################                      | \remitting double-array:  52% |######################                     | \remitting double-array:  53% |######################                     | \remitting double-array:  54% |#######################                    | \remitting double-array:  55% |#######################                    | \remitting double-array:  56% |########################                   | \remitting double-array:  57% |########################                   | \remitting double-array:  58% |########################                   | \remitting double-array:  59% |#########################                  | \remitting double-array:  60% |#########################                  | \remitting double-array:  61% |##########################                 | \remitting double-array:  62% |##########################                 | \remitting double-array:  63% |###########################                | \remitting double-array:  64% |###########################                | \remitting double-array:  65% |###########################                | \remitting double-array:  66% |############################               | \remitting double-array:  67% |############################               | \remitting double-array:  68% |#############################              | \remitting double-array:  69% |#############################              | \remitting double-array:  70% |##############################             | \remitting double-array:  71% |##############################             | \remitting double-array:  72% |##############################             | \remitting double-array:  73% |###############################            | \remitting double-array:  74% |###############################            | \remitting double-array:  75% |################################           | \remitting double-array:  76% |################################           | \remitting double-array:  77% |#################################          | \remitting double-array:  78% |#################################          | \remitting double-array:  79% |#################################          | \remitting double-array:  80% |##################################         | \remitting double-array:  81% |##################################         | \remitting double-array:  82% |###################################        | \remitting double-array:  83% |###################################        | \remitting double-array:  84% |####################################       | \remitting double-array:  85% |####################################       | \remitting double-array:  86% |####################################       | \remitting double-array:  87% |#####################################      | \remitting double-array:  88% |#####################################      | \remitting double-array:  89% |######################################     | \remitting double-array:  90% |######################################     | \remitting double-array:  91% |#######################################    | \remitting double-array:  92% |#######################################    | \remitting double-array:  93% |#######################################    | \remitting double-array:  94% |########################################   | \remitting double-array:  95% |########################################   | \remitting double-array:  96% |#########################################  | \remitting double-array:  97% |#########################################  | \remitting double-array:  98% |########################################## | \remitting double-array:  99% |########################################## | \remitting double-array: 100% |###########################################| \n",
            "reading ./matrix.def ... 3822x2693\n",
            "emitting matrix      :   0% |                                           | \remitting matrix      :   1% |                                           | \remitting matrix      :   2% |                                           | \remitting matrix      :   3% |#                                          | \remitting matrix      :   4% |#                                          | \remitting matrix      :   5% |##                                         | \remitting matrix      :   6% |##                                         | \remitting matrix      :   7% |###                                        | \remitting matrix      :   8% |###                                        | \remitting matrix      :   9% |###                                        | \remitting matrix      :  10% |####                                       | \remitting matrix      :  11% |####                                       | \remitting matrix      :  12% |#####                                      | \remitting matrix      :  13% |#####                                      | \remitting matrix      :  14% |######                                     | \remitting matrix      :  15% |######                                     | \remitting matrix      :  16% |######                                     | \remitting matrix      :  17% |#######                                    | \remitting matrix      :  18% |#######                                    | \remitting matrix      :  19% |########                                   | \remitting matrix      :  20% |########                                   | \remitting matrix      :  21% |#########                                  | \remitting matrix      :  22% |#########                                  | \remitting matrix      :  23% |#########                                  | \remitting matrix      :  24% |##########                                 | \remitting matrix      :  25% |##########                                 | \remitting matrix      :  26% |###########                                | \remitting matrix      :  27% |###########                                | \remitting matrix      :  28% |############                               | \remitting matrix      :  29% |############                               | \remitting matrix      :  30% |############                               | \remitting matrix      :  31% |#############                              | \remitting matrix      :  32% |#############                              | \remitting matrix      :  33% |##############                             | \remitting matrix      :  34% |##############                             | \remitting matrix      :  35% |###############                            | \remitting matrix      :  36% |###############                            | \remitting matrix      :  37% |###############                            | \remitting matrix      :  38% |################                           | \remitting matrix      :  39% |################                           | \remitting matrix      :  40% |#################                          | \remitting matrix      :  41% |#################                          | \remitting matrix      :  42% |##################                         | \remitting matrix      :  43% |##################                         | \remitting matrix      :  44% |##################                         | \remitting matrix      :  45% |###################                        | \remitting matrix      :  46% |###################                        | \remitting matrix      :  47% |####################                       | \remitting matrix      :  48% |####################                       | \remitting matrix      :  49% |#####################                      | \remitting matrix      :  50% |#####################                      | \remitting matrix      :  51% |#####################                      | \remitting matrix      :  52% |######################                     | \remitting matrix      :  53% |######################                     | \remitting matrix      :  54% |#######################                    | \remitting matrix      :  55% |#######################                    | \remitting matrix      :  56% |########################                   | \remitting matrix      :  57% |########################                   | \remitting matrix      :  58% |########################                   | \remitting matrix      :  59% |#########################                  | \remitting matrix      :  60% |#########################                  | \remitting matrix      :  61% |##########################                 | \remitting matrix      :  62% |##########################                 | \remitting matrix      :  63% |###########################                | \remitting matrix      :  64% |###########################                | \remitting matrix      :  65% |###########################                | \remitting matrix      :  66% |############################               | \remitting matrix      :  67% |############################               | \remitting matrix      :  68% |#############################              | \remitting matrix      :  69% |#############################              | \remitting matrix      :  70% |##############################             | \remitting matrix      :  71% |##############################             | \remitting matrix      :  72% |##############################             | \remitting matrix      :  73% |###############################            | \remitting matrix      :  74% |###############################            | \remitting matrix      :  75% |################################           | \remitting matrix      :  76% |################################           | \remitting matrix      :  77% |#################################          | \remitting matrix      :  78% |#################################          | \remitting matrix      :  79% |#################################          | \remitting matrix      :  80% |##################################         | \remitting matrix      :  81% |##################################         | \remitting matrix      :  82% |###################################        | \remitting matrix      :  83% |###################################        | \remitting matrix      :  84% |####################################       | \remitting matrix      :  85% |####################################       | \remitting matrix      :  86% |####################################       | \remitting matrix      :  87% |#####################################      | \remitting matrix      :  88% |#####################################      | \remitting matrix      :  89% |######################################     | \remitting matrix      :  90% |######################################     | \remitting matrix      :  91% |#######################################    | \remitting matrix      :  92% |#######################################    | \remitting matrix      :  93% |#######################################    | \remitting matrix      :  94% |########################################   | \remitting matrix      :  95% |########################################   | \remitting matrix      :  96% |#########################################  | \remitting matrix      :  97% |#########################################  | \remitting matrix      :  98% |########################################## | \remitting matrix      :  99% |########################################## | \remitting matrix      : 100% |###########################################| \n",
            "\n",
            "done!\n",
            "echo To enable dictionary, rewrite /usr/local/etc/mecabrc as \\\"dicdir = /usr/local/lib/mecab/dic/mecab-ko-dic\\\"\n",
            "To enable dictionary, rewrite /usr/local/etc/mecabrc as \"dicdir = /usr/local/lib/mecab/dic/mecab-ko-dic\"\n",
            "make[1]: Entering directory '/tmp/mecab-ko-dic-2.1.1-20180720'\n",
            "make[1]: Nothing to be done for 'install-exec-am'.\n",
            " /bin/mkdir -p '/usr/local/lib/mecab/dic/mecab-ko-dic'\n",
            " /usr/bin/install -c -m 644 model.bin matrix.bin char.bin sys.dic unk.dic left-id.def right-id.def rewrite.def pos-id.def dicrc '/usr/local/lib/mecab/dic/mecab-ko-dic'\n",
            "make[1]: Leaving directory '/tmp/mecab-ko-dic-2.1.1-20180720'\n",
            "Install mecab-python\n",
            "/tmp /tmp/mecab-ko-dic-2.1.1-20180720\n",
            "/tmp/mecab-ko-dic-2.1.1-20180720\n",
            "Processing /tmp/mecab-python-0.996\n",
            "Building wheels for collected packages: mecab-python\n",
            "  Building wheel for mecab-python (setup.py): started\n",
            "  Building wheel for mecab-python (setup.py): finished with status 'done'\n",
            "  Created wheel for mecab-python: filename=mecab_python-0.996_ko_0.9.2-cp37-cp37m-linux_x86_64.whl size=141816 sha256=602c3f99235f81d237846842ab934ffa1bbf2706a24a0eea0ac041d115ad401c\n",
            "  Stored in directory: /root/.cache/pip/wheels/40/7b/9f/2922869bef86c3354ae7034f7a3647c573ee1997c2dad0290a\n",
            "Failed to build mecab-python\n",
            "Installing collected packages: mecab-python\n",
            "    Running setup.py install for mecab-python: started\n",
            "    Running setup.py install for mecab-python: finished with status 'done'\n",
            "Successfully installed mecab-python-0.996-ko-0.9.2\n",
            "Done.\n",
            "Processing /tmp/mecab-python-0.996\n",
            "Building wheels for collected packages: mecab-python\n",
            "  Building wheel for mecab-python (setup.py): started\n",
            "  Building wheel for mecab-python (setup.py): finished with status 'done'\n",
            "  Created wheel for mecab-python: filename=mecab_python-0.996_ko_0.9.2-cp37-cp37m-linux_x86_64.whl size=141817 sha256=fcb02977282c0c47c07912e26edaec82c73d78fb53ff097fc033e46dff5755cb\n",
            "  Stored in directory: /root/.cache/pip/wheels/40/7b/9f/2922869bef86c3354ae7034f7a3647c573ee1997c2dad0290a\n",
            "Failed to build mecab-python\n",
            "Installing collected packages: mecab-python\n",
            "  Attempting uninstall: mecab-python\n",
            "    Found existing installation: mecab-python 0.996-ko-0.9.2\n",
            "    Uninstalling mecab-python-0.996-ko-0.9.2:\n",
            "      Successfully uninstalled mecab-python-0.996-ko-0.9.2\n",
            "    Running setup.py install for mecab-python: started\n",
            "    Running setup.py install for mecab-python: finished with status 'done'\n",
            "Successfully installed mecab-python-0.996-ko-0.9.2\n"
          ],
          "name": "stdout"
        },
        {
          "output_type": "stream",
          "text": [
            "debconf: unable to initialize frontend: Dialog\n",
            "debconf: (No usable dialog-like program is installed, so the dialog based frontend cannot be used. at /usr/share/perl5/Debconf/FrontEnd/Dialog.pm line 76, <> line 5.)\n",
            "debconf: falling back to frontend: Readline\n",
            "debconf: unable to initialize frontend: Readline\n",
            "debconf: (This frontend requires a controlling tty.)\n",
            "debconf: falling back to frontend: Teletype\n",
            "dpkg-preconfigure: unable to re-open stdin: \n",
            "  % Total    % Received % Xferd  Average Speed   Time    Time     Time  Current\n",
            "                                 Dload  Upload   Total   Spent    Left  Speed\n",
            "\r  0     0    0     0    0     0      0      0 --:--:-- --:--:-- --:--:--     0\r  0     0    0     0    0     0      0      0 --:--:-- --:--:-- --:--:--     0\n",
            "\r100 1381k  100 1381k    0     0  2921k      0 --:--:-- --:--:-- --:--:-- 2921k\n",
            "./configure: line 7378: /usr/bin/file: No such file or directory\n",
            "In file included from viterbi.cpp:14:0:\n",
            "param.h:30:13: warning: 'Target {anonymous}::lexical_cast(Source) [with Target = std::__cxx11::basic_string<char>; Source = std::__cxx11::basic_string<char>]' defined but not used [-Wunused-function]\n",
            " std::string lexical_cast<std::string, std::string>(std::string arg) {\n",
            "             ^~~~~~~~~~~~~~~~~~~~~~~~~~~~~~~~~~~~~~\n",
            "learner_tagger.cpp:25:7: warning: 'char* MeCab::{anonymous}::mystrdup(const string&)' defined but not used [-Wunused-function]\n",
            " char *mystrdup(const std::string &str) {\n",
            "       ^~~~~~~~\n",
            "ar: `u' modifier ignored since `D' is the default (see `U')\n",
            "./pos-id.def is not found. minimum setting is used\n",
            "./pos-id.def is not found. minimum setting is used\n",
            "./pos-id.def is not found. minimum setting is used\n",
            "./pos-id.def is not found. minimum setting is used\n",
            "./pos-id.def is not found. minimum setting is used\n",
            "./pos-id.def is not found. minimum setting is used\n",
            "./pos-id.def is not found. minimum setting is used\n",
            "./pos-id.def is not found. minimum setting is used\n",
            "./pos-id.def is not found. minimum setting is used\n",
            "./pos-id.def is not found. minimum setting is used\n",
            "./pos-id.def is not found. minimum setting is used\n",
            "./pos-id.def is not found. minimum setting is used\n",
            "./pos-id.def is not found. minimum setting is used\n",
            "./pos-id.def is not found. minimum setting is used\n",
            "seed/pos-id.def is not found. minimum setting is used\n",
            "seed/pos-id.def is not found. minimum setting is used\n",
            "model-ipadic.c1.0.f1.dic/pos-id.def is not found. minimum setting is used\n",
            "model-ipadic.c1.0.f1.dic/pos-id.def is not found. minimum setting is used\n",
            "  % Total    % Received % Xferd  Average Speed   Time    Time     Time  Current\n",
            "                                 Dload  Upload   Total   Spent    Left  Speed\n",
            "\r  0     0    0     0    0     0      0      0 --:--:-- --:--:-- --:--:--     0\r  0     0    0     0    0     0      0      0 --:--:-- --:--:-- --:--:--     0\n",
            "\r 63 47.4M   63 30.0M    0     0  39.7M      0  0:00:01 --:--:--  0:00:01 39.7M\r100 47.4M  100 47.4M    0     0  53.8M      0 --:--:-- --:--:-- --:--:--  139M\n",
            "configure.ac:2: warning: AM_INIT_AUTOMAKE: two- and three-arguments forms are deprecated.  For more info, see:\n",
            "configure.ac:2: http://www.gnu.org/software/automake/manual/automake.html#Modernize-AM_005fINIT_005fAUTOMAKE-invocation\n",
            "/tmp/mecab-ko-dic-2.1.1-20180720/missing: Unknown `--is-lightweight' option\n",
            "Try `/tmp/mecab-ko-dic-2.1.1-20180720/missing --help' for more information\n",
            "configure: WARNING: 'missing' script is too old or missing\n",
            "/sbin/ldconfig.real: /usr/local/lib/python3.7/dist-packages/ideep4py/lib/libmkldnn.so.0 is not a symbolic link\n",
            "\n",
            "Cloning into 'mecab-python-0.996'...\n",
            "  DEPRECATION: A future pip version will change local packages to be built in-place without first copying to a temporary directory. We recommend you use --use-feature=in-tree-build to test your packages with this new behavior before it becomes the default.\n",
            "   pip 21.3 will remove support for this functionality. You can find discussion regarding this at https://github.com/pypa/pip/issues/7555.\n",
            "  WARNING: Built wheel for mecab-python is invalid: Metadata 1.2 mandates PEP 440 version, but '0.996-ko-0.9.2' is not\n",
            "  DEPRECATION: mecab-python was installed using the legacy 'setup.py install' method, because a wheel could not be built for it. A possible replacement is to fix the wheel build issue reported above. You can find discussion regarding this at https://github.com/pypa/pip/issues/8368.\n",
            "  DEPRECATION: A future pip version will change local packages to be built in-place without first copying to a temporary directory. We recommend you use --use-feature=in-tree-build to test your packages with this new behavior before it becomes the default.\n",
            "   pip 21.3 will remove support for this functionality. You can find discussion regarding this at https://github.com/pypa/pip/issues/7555.\n",
            "  WARNING: Built wheel for mecab-python is invalid: Metadata 1.2 mandates PEP 440 version, but '0.996-ko-0.9.2' is not\n",
            "  DEPRECATION: mecab-python was installed using the legacy 'setup.py install' method, because a wheel could not be built for it. A possible replacement is to fix the wheel build issue reported above. You can find discussion regarding this at https://github.com/pypa/pip/issues/8368.\n"
          ],
          "name": "stderr"
        }
      ]
    },
    {
      "cell_type": "markdown",
      "metadata": {
        "id": "HRfHZ2xVqQSm"
      },
      "source": [
        "# **1. 데이터 및 라이브러리 불러오기**"
      ],
      "id": "HRfHZ2xVqQSm"
    },
    {
      "cell_type": "code",
      "metadata": {
        "colab": {
          "base_uri": "https://localhost:8080/"
        },
        "id": "Xi_cfoEzh5VQ",
        "outputId": "45e4a931-d544-4045-b0ee-cd1fc7ceeea1"
      },
      "source": [
        "# konlpy 라이브러리 설치\n",
        "!pip install konlpy"
      ],
      "id": "Xi_cfoEzh5VQ",
      "execution_count": null,
      "outputs": [
        {
          "output_type": "stream",
          "text": [
            "Collecting konlpy\n",
            "  Downloading konlpy-0.5.2-py2.py3-none-any.whl (19.4 MB)\n",
            "\u001b[K     |████████████████████████████████| 19.4 MB 1.1 MB/s \n",
            "\u001b[?25hRequirement already satisfied: JPype1>=0.7.0 in /usr/local/lib/python3.7/dist-packages (from konlpy) (1.3.0)\n",
            "Collecting colorama\n",
            "  Downloading colorama-0.4.4-py2.py3-none-any.whl (16 kB)\n",
            "Requirement already satisfied: tweepy>=3.7.0 in /usr/local/lib/python3.7/dist-packages (from konlpy) (3.10.0)\n",
            "Requirement already satisfied: numpy>=1.6 in /usr/local/lib/python3.7/dist-packages (from konlpy) (1.19.5)\n",
            "Requirement already satisfied: lxml>=4.1.0 in /usr/local/lib/python3.7/dist-packages (from konlpy) (4.2.6)\n",
            "Collecting beautifulsoup4==4.6.0\n",
            "  Downloading beautifulsoup4-4.6.0-py3-none-any.whl (86 kB)\n",
            "\u001b[K     |████████████████████████████████| 86 kB 6.7 MB/s \n",
            "\u001b[?25hRequirement already satisfied: typing-extensions in /usr/local/lib/python3.7/dist-packages (from JPype1>=0.7.0->konlpy) (3.7.4.3)\n",
            "Requirement already satisfied: requests[socks]>=2.11.1 in /usr/local/lib/python3.7/dist-packages (from tweepy>=3.7.0->konlpy) (2.23.0)\n",
            "Requirement already satisfied: six>=1.10.0 in /usr/local/lib/python3.7/dist-packages (from tweepy>=3.7.0->konlpy) (1.15.0)\n",
            "Requirement already satisfied: requests-oauthlib>=0.7.0 in /usr/local/lib/python3.7/dist-packages (from tweepy>=3.7.0->konlpy) (1.3.0)\n",
            "Requirement already satisfied: oauthlib>=3.0.0 in /usr/local/lib/python3.7/dist-packages (from requests-oauthlib>=0.7.0->tweepy>=3.7.0->konlpy) (3.1.1)\n",
            "Requirement already satisfied: certifi>=2017.4.17 in /usr/local/lib/python3.7/dist-packages (from requests[socks]>=2.11.1->tweepy>=3.7.0->konlpy) (2021.5.30)\n",
            "Requirement already satisfied: urllib3!=1.25.0,!=1.25.1,<1.26,>=1.21.1 in /usr/local/lib/python3.7/dist-packages (from requests[socks]>=2.11.1->tweepy>=3.7.0->konlpy) (1.24.3)\n",
            "Requirement already satisfied: chardet<4,>=3.0.2 in /usr/local/lib/python3.7/dist-packages (from requests[socks]>=2.11.1->tweepy>=3.7.0->konlpy) (3.0.4)\n",
            "Requirement already satisfied: idna<3,>=2.5 in /usr/local/lib/python3.7/dist-packages (from requests[socks]>=2.11.1->tweepy>=3.7.0->konlpy) (2.10)\n",
            "Requirement already satisfied: PySocks!=1.5.7,>=1.5.6 in /usr/local/lib/python3.7/dist-packages (from requests[socks]>=2.11.1->tweepy>=3.7.0->konlpy) (1.7.1)\n",
            "Installing collected packages: colorama, beautifulsoup4, konlpy\n",
            "  Attempting uninstall: beautifulsoup4\n",
            "    Found existing installation: beautifulsoup4 4.6.3\n",
            "    Uninstalling beautifulsoup4-4.6.3:\n",
            "      Successfully uninstalled beautifulsoup4-4.6.3\n",
            "Successfully installed beautifulsoup4-4.6.0 colorama-0.4.4 konlpy-0.5.2\n"
          ],
          "name": "stdout"
        }
      ]
    },
    {
      "cell_type": "code",
      "metadata": {
        "id": "8cDpI9GebDGr"
      },
      "source": [
        "import konlpy\n",
        "from konlpy.tag import Okt\n",
        "from konlpy.tag import Mecab"
      ],
      "id": "8cDpI9GebDGr",
      "execution_count": null,
      "outputs": []
    },
    {
      "cell_type": "code",
      "metadata": {
        "id": "1a1c97f7"
      },
      "source": [
        "import re, tqdm, os\n",
        "import numpy as np\n",
        "import pandas as pd\n",
        "import matplotlib.pyplot as plt\n",
        "\n",
        "\n",
        "import tensorflow as tf\n",
        "from keras.models import Sequential, load_model\n",
        "from keras.layers import Embedding, GlobalAveragePooling1D, Dense\n",
        "from tensorflow.keras.utils import to_categorical\n",
        "from keras.preprocessing.text import Tokenizer\n",
        "from keras.preprocessing.sequence import pad_sequences\n",
        "from keras.callbacks import EarlyStopping, ModelCheckpoint"
      ],
      "id": "1a1c97f7",
      "execution_count": null,
      "outputs": []
    },
    {
      "cell_type": "code",
      "metadata": {
        "colab": {
          "base_uri": "https://localhost:8080/"
        },
        "id": "k7ucx5MOr0Lx",
        "outputId": "e61abeec-0b44-4c78-c729-df302cd89e03"
      },
      "source": [
        "from google.colab import drive\n",
        "drive.mount('/content/gdrive')"
      ],
      "id": "k7ucx5MOr0Lx",
      "execution_count": null,
      "outputs": [
        {
          "output_type": "stream",
          "text": [
            "Mounted at /content/gdrive\n"
          ],
          "name": "stdout"
        }
      ]
    },
    {
      "cell_type": "code",
      "metadata": {
        "id": "b84317ce"
      },
      "source": [
        "train=pd.read_csv('/content/gdrive/My Drive/Colab Notebooks/data/train.csv')\n",
        "test=pd.read_csv('/content/gdrive/My Drive/Colab Notebooks/data/test.csv')\n",
        "sample_submission=pd.read_csv('/content/gdrive/My Drive/Colab Notebooks/data/sample_submission.csv')"
      ],
      "id": "b84317ce",
      "execution_count": null,
      "outputs": []
    },
    {
      "cell_type": "markdown",
      "metadata": {
        "id": "bUUkgyzTrIlH"
      },
      "source": [
        "# **2. 데이터 EDA**"
      ],
      "id": "bUUkgyzTrIlH"
    },
    {
      "cell_type": "markdown",
      "metadata": {
        "id": "wvWUWetgsvX5"
      },
      "source": [
        "- 데이터 확인"
      ],
      "id": "wvWUWetgsvX5"
    },
    {
      "cell_type": "code",
      "metadata": {
        "colab": {
          "base_uri": "https://localhost:8080/",
          "height": 757
        },
        "id": "r5_A-GHgrO5q",
        "outputId": "f02ae543-c7a9-4abe-b2a6-504a16fe7e83"
      },
      "source": [
        "train.head(2)"
      ],
      "id": "r5_A-GHgrO5q",
      "execution_count": null,
      "outputs": [
        {
          "output_type": "execute_result",
          "data": {
            "text/html": [
              "<div>\n",
              "<style scoped>\n",
              "    .dataframe tbody tr th:only-of-type {\n",
              "        vertical-align: middle;\n",
              "    }\n",
              "\n",
              "    .dataframe tbody tr th {\n",
              "        vertical-align: top;\n",
              "    }\n",
              "\n",
              "    .dataframe thead th {\n",
              "        text-align: right;\n",
              "    }\n",
              "</style>\n",
              "<table border=\"1\" class=\"dataframe\">\n",
              "  <thead>\n",
              "    <tr style=\"text-align: right;\">\n",
              "      <th></th>\n",
              "      <th>index</th>\n",
              "      <th>제출년도</th>\n",
              "      <th>사업명</th>\n",
              "      <th>사업_부처명</th>\n",
              "      <th>계속과제여부</th>\n",
              "      <th>내역사업명</th>\n",
              "      <th>과제명</th>\n",
              "      <th>요약문_연구목표</th>\n",
              "      <th>요약문_연구내용</th>\n",
              "      <th>요약문_기대효과</th>\n",
              "      <th>요약문_한글키워드</th>\n",
              "      <th>요약문_영문키워드</th>\n",
              "      <th>label</th>\n",
              "    </tr>\n",
              "  </thead>\n",
              "  <tbody>\n",
              "    <tr>\n",
              "      <th>0</th>\n",
              "      <td>0</td>\n",
              "      <td>2016</td>\n",
              "      <td>농업기초기반연구</td>\n",
              "      <td>농촌진흥청</td>\n",
              "      <td>신규</td>\n",
              "      <td>농산물안전성연구</td>\n",
              "      <td>유전정보를 활용한 새로운 해충 분류군 동정기술 개발</td>\n",
              "      <td>○ 새로운 해충분류군의 동정기술 개발 및 유입확산 추적</td>\n",
              "      <td>(가) 외래 및 돌발해충의 발생조사 및 종 동정\\n\\n\\n    ○ 대상해충 : 최...</td>\n",
              "      <td>○ 새로운 돌발 및 외래해충의 신속, 정확한 동정법 향상\\n\\n\\n○ 돌발 및 외래...</td>\n",
              "      <td>뉴클레오티드 염기서열, 분자마커, 종 동정, 침샘, 전사체</td>\n",
              "      <td>nucleotide sequence, molecular marker, species...</td>\n",
              "      <td>24</td>\n",
              "    </tr>\n",
              "    <tr>\n",
              "      <th>1</th>\n",
              "      <td>1</td>\n",
              "      <td>2019</td>\n",
              "      <td>이공학학술연구기반구축(R&amp;D)</td>\n",
              "      <td>교육부</td>\n",
              "      <td>신규</td>\n",
              "      <td>지역대학우수과학자지원사업(1년~5년)</td>\n",
              "      <td>대장암의 TRAIL 내성 표적 인자 발굴 및 TRAIL 반응 예측 유전자 지도 구축...</td>\n",
              "      <td>최종목표:  TRAIL 감수성 표적 유전자를 발굴하고 내성제어 기전을 연구. 발굴된...</td>\n",
              "      <td>1차년도\\n1) Microarray를 통한 선천적 TRAIL 내성 표적 후보 유전자...</td>\n",
              "      <td>1) TRAIL 내성 특이적 표적분자를 발굴하고, 이를 이용한 TRAIL 효과 증진...</td>\n",
              "      <td>대장암,항암제 내성,세포사멸,유전자발굴</td>\n",
              "      <td>TRAIL,Colorectal cancer,TRAIL resistance,Apopt...</td>\n",
              "      <td>0</td>\n",
              "    </tr>\n",
              "  </tbody>\n",
              "</table>\n",
              "</div>"
            ],
            "text/plain": [
              "   index  제출년도  ...                                          요약문_영문키워드 label\n",
              "0      0  2016  ...  nucleotide sequence, molecular marker, species...    24\n",
              "1      1  2019  ...  TRAIL,Colorectal cancer,TRAIL resistance,Apopt...     0\n",
              "\n",
              "[2 rows x 13 columns]"
            ]
          },
          "metadata": {
            "tags": []
          },
          "execution_count": 9
        }
      ]
    },
    {
      "cell_type": "code",
      "metadata": {
        "colab": {
          "base_uri": "https://localhost:8080/",
          "height": 553
        },
        "id": "pniEPnDXrRtr",
        "outputId": "47540227-d591-46e4-824e-a14159c59a75"
      },
      "source": [
        "test.head(2)"
      ],
      "id": "pniEPnDXrRtr",
      "execution_count": null,
      "outputs": [
        {
          "output_type": "execute_result",
          "data": {
            "text/html": [
              "<div>\n",
              "<style scoped>\n",
              "    .dataframe tbody tr th:only-of-type {\n",
              "        vertical-align: middle;\n",
              "    }\n",
              "\n",
              "    .dataframe tbody tr th {\n",
              "        vertical-align: top;\n",
              "    }\n",
              "\n",
              "    .dataframe thead th {\n",
              "        text-align: right;\n",
              "    }\n",
              "</style>\n",
              "<table border=\"1\" class=\"dataframe\">\n",
              "  <thead>\n",
              "    <tr style=\"text-align: right;\">\n",
              "      <th></th>\n",
              "      <th>index</th>\n",
              "      <th>제출년도</th>\n",
              "      <th>사업명</th>\n",
              "      <th>사업_부처명</th>\n",
              "      <th>계속과제여부</th>\n",
              "      <th>내역사업명</th>\n",
              "      <th>과제명</th>\n",
              "      <th>요약문_연구목표</th>\n",
              "      <th>요약문_연구내용</th>\n",
              "      <th>요약문_기대효과</th>\n",
              "      <th>요약문_한글키워드</th>\n",
              "      <th>요약문_영문키워드</th>\n",
              "    </tr>\n",
              "  </thead>\n",
              "  <tbody>\n",
              "    <tr>\n",
              "      <th>0</th>\n",
              "      <td>174304</td>\n",
              "      <td>2016</td>\n",
              "      <td>경제협력권산업육성</td>\n",
              "      <td>산업통상자원부</td>\n",
              "      <td>신규</td>\n",
              "      <td>자동차융합부품</td>\n",
              "      <td>R-FSSW 기술 적용 경량 차체 부품 개발 및 품질 평가를 위한 64채널 C-SC...</td>\n",
              "      <td>○ 차체 점용접부의 품질 검사를 위한 64채널 무선 기반 C-Scan 탐촉자 개발\\...</td>\n",
              "      <td>○ 1차년도\\n\\n    . 개발 탐촉 시스템의 성능 평가 위한 표준 시편 제작 시...</td>\n",
              "      <td>○ 기술적 파급효과\\n\\n  - 본 연구에서 개발된 R-FSSW 접합 기술은 기존 ...</td>\n",
              "      <td>마찰교반점용접, 비파괴 검사, 초음파 탐상, 씨 스캔, 용접 품질 평가</td>\n",
              "      <td>Friction Stir Spot Welding, Non-destructive ev...</td>\n",
              "    </tr>\n",
              "    <tr>\n",
              "      <th>1</th>\n",
              "      <td>174305</td>\n",
              "      <td>2018</td>\n",
              "      <td>개인기초연구(과기정통부)(R&amp;D)</td>\n",
              "      <td>과학기술정보통신부</td>\n",
              "      <td>계속</td>\n",
              "      <td>신진연구(총연구비5천이상~1.5억이하)</td>\n",
              "      <td>다입자계를 묘사하는 편미분방정식에 대한 연구</td>\n",
              "      <td>자연계에는 입자의 개수가 아주 큰 다양한 다입자계가 존재한다.  이런 다입자계의 효...</td>\n",
              "      <td>연구과제1. 무한입자계의 동역학 / 작용소(operator) 방정식에 대한 연구\\n...</td>\n",
              "      <td>본 연구는 물리학에서 중요한 대상인 다입자계를 묘사하는 모델방정식의 정당성을 보장하...</td>\n",
              "      <td>다체계 방정식,동역학의 안정성,양자역학,고전역학,평균장 극한,고전극한,비상대론적 극한</td>\n",
              "      <td>many particle system,stability of dynamics,qua...</td>\n",
              "    </tr>\n",
              "  </tbody>\n",
              "</table>\n",
              "</div>"
            ],
            "text/plain": [
              "    index  ...                                          요약문_영문키워드\n",
              "0  174304  ...  Friction Stir Spot Welding, Non-destructive ev...\n",
              "1  174305  ...  many particle system,stability of dynamics,qua...\n",
              "\n",
              "[2 rows x 12 columns]"
            ]
          },
          "metadata": {
            "tags": []
          },
          "execution_count": 10
        }
      ]
    },
    {
      "cell_type": "code",
      "metadata": {
        "colab": {
          "base_uri": "https://localhost:8080/",
          "height": 204
        },
        "id": "GmN4PpZBrViQ",
        "outputId": "5f07c03d-5ec6-439b-fee5-b95f045e9bb1"
      },
      "source": [
        "sample_submission.head()"
      ],
      "id": "GmN4PpZBrViQ",
      "execution_count": null,
      "outputs": [
        {
          "output_type": "execute_result",
          "data": {
            "text/html": [
              "<div>\n",
              "<style scoped>\n",
              "    .dataframe tbody tr th:only-of-type {\n",
              "        vertical-align: middle;\n",
              "    }\n",
              "\n",
              "    .dataframe tbody tr th {\n",
              "        vertical-align: top;\n",
              "    }\n",
              "\n",
              "    .dataframe thead th {\n",
              "        text-align: right;\n",
              "    }\n",
              "</style>\n",
              "<table border=\"1\" class=\"dataframe\">\n",
              "  <thead>\n",
              "    <tr style=\"text-align: right;\">\n",
              "      <th></th>\n",
              "      <th>index</th>\n",
              "      <th>label</th>\n",
              "    </tr>\n",
              "  </thead>\n",
              "  <tbody>\n",
              "    <tr>\n",
              "      <th>0</th>\n",
              "      <td>174304</td>\n",
              "      <td>0</td>\n",
              "    </tr>\n",
              "    <tr>\n",
              "      <th>1</th>\n",
              "      <td>174305</td>\n",
              "      <td>0</td>\n",
              "    </tr>\n",
              "    <tr>\n",
              "      <th>2</th>\n",
              "      <td>174306</td>\n",
              "      <td>0</td>\n",
              "    </tr>\n",
              "    <tr>\n",
              "      <th>3</th>\n",
              "      <td>174307</td>\n",
              "      <td>0</td>\n",
              "    </tr>\n",
              "    <tr>\n",
              "      <th>4</th>\n",
              "      <td>174308</td>\n",
              "      <td>0</td>\n",
              "    </tr>\n",
              "  </tbody>\n",
              "</table>\n",
              "</div>"
            ],
            "text/plain": [
              "    index  label\n",
              "0  174304      0\n",
              "1  174305      0\n",
              "2  174306      0\n",
              "3  174307      0\n",
              "4  174308      0"
            ]
          },
          "metadata": {
            "tags": []
          },
          "execution_count": 11
        }
      ]
    },
    {
      "cell_type": "markdown",
      "metadata": {
        "id": "p3WnRrDIszVZ"
      },
      "source": [
        "- 칼럼 확인"
      ],
      "id": "p3WnRrDIszVZ"
    },
    {
      "cell_type": "code",
      "metadata": {
        "colab": {
          "base_uri": "https://localhost:8080/"
        },
        "id": "W3OUCGnSrahJ",
        "outputId": "883d1944-b665-42d9-8956-3feb6626303d"
      },
      "source": [
        "train.columns"
      ],
      "id": "W3OUCGnSrahJ",
      "execution_count": null,
      "outputs": [
        {
          "output_type": "execute_result",
          "data": {
            "text/plain": [
              "Index(['index', '제출년도', '사업명', '사업_부처명', '계속과제여부', '내역사업명', '과제명', '요약문_연구목표',\n",
              "       '요약문_연구내용', '요약문_기대효과', '요약문_한글키워드', '요약문_영문키워드', 'label'],\n",
              "      dtype='object')"
            ]
          },
          "metadata": {
            "tags": []
          },
          "execution_count": 12
        }
      ]
    },
    {
      "cell_type": "code",
      "metadata": {
        "colab": {
          "base_uri": "https://localhost:8080/"
        },
        "id": "l5czMKworaY6",
        "outputId": "8da85d15-7ba8-46e1-ac89-1e7822a26687"
      },
      "source": [
        "test.columns"
      ],
      "id": "l5czMKworaY6",
      "execution_count": null,
      "outputs": [
        {
          "output_type": "execute_result",
          "data": {
            "text/plain": [
              "Index(['index', '제출년도', '사업명', '사업_부처명', '계속과제여부', '내역사업명', '과제명', '요약문_연구목표',\n",
              "       '요약문_연구내용', '요약문_기대효과', '요약문_한글키워드', '요약문_영문키워드'],\n",
              "      dtype='object')"
            ]
          },
          "metadata": {
            "tags": []
          },
          "execution_count": 13
        }
      ]
    },
    {
      "cell_type": "markdown",
      "metadata": {
        "id": "mD2vZLlds2Te"
      },
      "source": [
        "- 결측치 확인"
      ],
      "id": "mD2vZLlds2Te"
    },
    {
      "cell_type": "code",
      "metadata": {
        "colab": {
          "base_uri": "https://localhost:8080/"
        },
        "id": "f396cddc",
        "outputId": "ed2de665-406c-4c06-bc82-1f2a69e6aa7a"
      },
      "source": [
        "# train 데이터 결측치 확인.\n",
        "train.isna().sum()"
      ],
      "id": "f396cddc",
      "execution_count": null,
      "outputs": [
        {
          "output_type": "execute_result",
          "data": {
            "text/plain": [
              "index           0\n",
              "제출년도            0\n",
              "사업명             0\n",
              "사업_부처명          0\n",
              "계속과제여부          0\n",
              "내역사업명           0\n",
              "과제명             0\n",
              "요약문_연구목표     3002\n",
              "요약문_연구내용     3001\n",
              "요약문_기대효과     3051\n",
              "요약문_한글키워드    3028\n",
              "요약문_영문키워드    3087\n",
              "label           0\n",
              "dtype: int64"
            ]
          },
          "metadata": {
            "tags": []
          },
          "execution_count": 14
        }
      ]
    },
    {
      "cell_type": "code",
      "metadata": {
        "colab": {
          "base_uri": "https://localhost:8080/"
        },
        "id": "MAiFZ4mAr_rr",
        "outputId": "c948a6ca-3f45-4494-9ba0-0c70a32e0f73"
      },
      "source": [
        "# test 데이터 결측치 확인.\n",
        "test.isna().sum()"
      ],
      "id": "MAiFZ4mAr_rr",
      "execution_count": null,
      "outputs": [
        {
          "output_type": "execute_result",
          "data": {
            "text/plain": [
              "index          0\n",
              "제출년도           0\n",
              "사업명            0\n",
              "사업_부처명         0\n",
              "계속과제여부         0\n",
              "내역사업명          0\n",
              "과제명            0\n",
              "요약문_연구목표     755\n",
              "요약문_연구내용     755\n",
              "요약문_기대효과     761\n",
              "요약문_한글키워드    760\n",
              "요약문_영문키워드    772\n",
              "dtype: int64"
            ]
          },
          "metadata": {
            "tags": []
          },
          "execution_count": 15
        }
      ]
    },
    {
      "cell_type": "markdown",
      "metadata": {
        "id": "SwxR5YUOt1pm"
      },
      "source": [
        "- 데이터 구조 파악"
      ],
      "id": "SwxR5YUOt1pm"
    },
    {
      "cell_type": "code",
      "metadata": {
        "colab": {
          "base_uri": "https://localhost:8080/"
        },
        "id": "Q4-gLM7vqK8Z",
        "outputId": "9930e16d-a840-4dbb-b4d9-2797fd18d8dd"
      },
      "source": [
        "print(\"train 데이터 :\", train.shape)\n",
        "print(\"test 데이터 :\", test.shape)\n",
        "print(\"sample_submission 데이터 :\", sample_submission.shape)\n",
        "print(\"label이 0인 train 데이터 :\", train[train[\"label\"] == 0].shape)\n",
        "print(\"label이 0이 아닌 train 데이터 :\", train[train[\"label\"] != 0].shape)"
      ],
      "id": "Q4-gLM7vqK8Z",
      "execution_count": null,
      "outputs": [
        {
          "output_type": "stream",
          "text": [
            "train 데이터 : (174304, 13)\n",
            "test 데이터 : (43576, 12)\n",
            "sample_submission 데이터 : (43576, 2)\n",
            "label이 0인 train 데이터 : (142571, 13)\n",
            "label이 0이 아닌 train 데이터 : (31733, 13)\n"
          ],
          "name": "stdout"
        }
      ]
    },
    {
      "cell_type": "code",
      "metadata": {
        "colab": {
          "base_uri": "https://localhost:8080/"
        },
        "id": "7jpsAK-zqK8Z",
        "outputId": "737c1e14-bc52-49c9-bc41-fc70d2acee63"
      },
      "source": [
        "#train 데이터는 심각한 불균형 데이터임\n",
        "train.label.value_counts(sort=False)/len(train)"
      ],
      "id": "7jpsAK-zqK8Z",
      "execution_count": null,
      "outputs": [
        {
          "output_type": "execute_result",
          "data": {
            "text/plain": [
              "0     0.817945\n",
              "1     0.007234\n",
              "2     0.001578\n",
              "3     0.000820\n",
              "4     0.000327\n",
              "5     0.009742\n",
              "6     0.000447\n",
              "7     0.000648\n",
              "8     0.001945\n",
              "9     0.000608\n",
              "10    0.003775\n",
              "11    0.001147\n",
              "12    0.001538\n",
              "13    0.003299\n",
              "14    0.009592\n",
              "15    0.000947\n",
              "16    0.002903\n",
              "17    0.000884\n",
              "18    0.008893\n",
              "19    0.028330\n",
              "20    0.006076\n",
              "21    0.002846\n",
              "22    0.000849\n",
              "23    0.010556\n",
              "24    0.020195\n",
              "25    0.004647\n",
              "26    0.001813\n",
              "27    0.003557\n",
              "28    0.002576\n",
              "29    0.005898\n",
              "30    0.001342\n",
              "31    0.005290\n",
              "32    0.001492\n",
              "33    0.003058\n",
              "34    0.003001\n",
              "35    0.001669\n",
              "36    0.006081\n",
              "37    0.001526\n",
              "38    0.001503\n",
              "39    0.001159\n",
              "40    0.002530\n",
              "41    0.000384\n",
              "42    0.000293\n",
              "43    0.002014\n",
              "44    0.000522\n",
              "45    0.006523\n",
              "Name: label, dtype: float64"
            ]
          },
          "metadata": {
            "tags": []
          },
          "execution_count": 17
        }
      ]
    },
    {
      "cell_type": "markdown",
      "metadata": {
        "id": "XTZb_gret_dY"
      },
      "source": [
        "- 시각화"
      ],
      "id": "XTZb_gret_dY"
    },
    {
      "cell_type": "code",
      "metadata": {
        "colab": {
          "base_uri": "https://localhost:8080/",
          "height": 656
        },
        "id": "Bek_pM4mucV8",
        "outputId": "7991bd99-bb46-437a-9998-c1537e43e3b9"
      },
      "source": [
        "length=train['사업명'].astype(str).apply(len)\n",
        "plt.hist(length, bins=50, alpha=0.5, color='r', label='word')\n",
        "plt.title('histogram of length of task_name')\n",
        "plt.figure(figsize=(12, 5))\n",
        "plt.boxplot(length, labels=['counts'], showmeans=True)\n",
        "print('사업명 길이 최댓값: {}'.format(np.max(length)))\n",
        "print('사업명 길이 최솟값: {}'.format(np.min(length)))\n",
        "print('사업명 길이 평균값: {}'.format(np.mean(length)))\n",
        "print('사업명 길이 중간값: {}'.format(np.median(length)))"
      ],
      "id": "Bek_pM4mucV8",
      "execution_count": null,
      "outputs": [
        {
          "output_type": "stream",
          "text": [
            "사업명 길이 최댓값: 56\n",
            "사업명 길이 최솟값: 3\n",
            "사업명 길이 평균값: 13.988187304938497\n",
            "사업명 길이 중간값: 14.0\n"
          ],
          "name": "stdout"
        },
        {
          "output_type": "display_data",
          "data": {
            "image/png": "[encoded data removed]",
            "text/plain": [
              "<Figure size 432x288 with 1 Axes>"
            ]
          },
          "metadata": {
            "tags": []
          }
        },
        {
          "output_type": "display_data",
          "data": {
            "image/png": "[encoded data removed]",
            "text/plain": [
              "<Figure size 864x360 with 1 Axes>"
            ]
          },
          "metadata": {
            "tags": []
          }
        }
      ]
    },
    {
      "cell_type": "code",
      "metadata": {
        "colab": {
          "base_uri": "https://localhost:8080/",
          "height": 656
        },
        "id": "csAdU8Z-qK8Z",
        "outputId": "b3323e47-79e5-418e-8692-6d1d068ef685"
      },
      "source": [
        "length=train['과제명'].astype(str).apply(len)\n",
        "plt.hist(length, bins=50, alpha=0.5, color='r', label='word')\n",
        "plt.title('histogram of length of task_name')\n",
        "plt.figure(figsize=(12, 5))\n",
        "plt.boxplot(length, labels=['counts'], showmeans=True)\n",
        "print('과제명 길이 최댓값: {}'.format(np.max(length)))\n",
        "print('과제명 길이 최솟값: {}'.format(np.min(length)))\n",
        "print('과제명 길이 평균값: {}'.format(np.mean(length)))\n",
        "print('과제명 길이 중간값: {}'.format(np.median(length)))"
      ],
      "id": "csAdU8Z-qK8Z",
      "execution_count": null,
      "outputs": [
        {
          "output_type": "stream",
          "text": [
            "과제명 길이 최댓값: 229\n",
            "과제명 길이 최솟값: 2\n",
            "과제명 길이 평균값: 35.84252225995961\n",
            "과제명 길이 중간값: 34.0\n"
          ],
          "name": "stdout"
        },
        {
          "output_type": "display_data",
          "data": {
            "image/png": "[encoded data removed]",
            "text/plain": [
              "<Figure size 432x288 with 1 Axes>"
            ]
          },
          "metadata": {
            "tags": []
          }
        },
        {
          "output_type": "display_data",
          "data": {
            "image/png": "[encoded data removed]",
            "text/plain": [
              "<Figure size 864x360 with 1 Axes>"
            ]
          },
          "metadata": {
            "tags": []
          }
        }
      ]
    },
    {
      "cell_type": "code",
      "metadata": {
        "colab": {
          "base_uri": "https://localhost:8080/",
          "height": 656
        },
        "id": "KkFWc5p8qK8Z",
        "outputId": "c6b60d2a-589d-4845-a6e7-d42297fcc36f"
      },
      "source": [
        "length=train['요약문_연구목표'].astype(str).apply(len)\n",
        "plt.hist(length, bins=50, alpha=0.5, color='r', label='word')\n",
        "plt.title('histogram of length of summary_object')\n",
        "plt.figure(figsize=(12, 5))\n",
        "plt.boxplot(length, labels=['counts'], showmeans=True)\n",
        "print('요약문_연구목표 길이 최댓값: {}'.format(np.max(length)))\n",
        "print('요약문_연구목표 길이 최솟값: {}'.format(np.min(length)))\n",
        "print('요약문_연구목표 길이 평균값: {}'.format(np.mean(length)))\n",
        "print('요약문_연구목표 길이 중간값: {}'.format(np.median(length)))"
      ],
      "id": "KkFWc5p8qK8Z",
      "execution_count": null,
      "outputs": [
        {
          "output_type": "stream",
          "text": [
            "요약문_연구목표 길이 최댓값: 3951\n",
            "요약문_연구목표 길이 최솟값: 1\n",
            "요약문_연구목표 길이 평균값: 318.1008066366807\n",
            "요약문_연구목표 길이 중간값: 249.0\n"
          ],
          "name": "stdout"
        },
        {
          "output_type": "display_data",
          "data": {
            "image/png": "[encoded data removed]",
            "text/plain": [
              "<Figure size 432x288 with 1 Axes>"
            ]
          },
          "metadata": {
            "tags": []
          }
        },
        {
          "output_type": "display_data",
          "data": {
            "image/png": "[encoded data removed]",
            "text/plain": [
              "<Figure size 864x360 with 1 Axes>"
            ]
          },
          "metadata": {
            "tags": []
          }
        }
      ]
    },
    {
      "cell_type": "code",
      "metadata": {
        "colab": {
          "base_uri": "https://localhost:8080/",
          "height": 656
        },
        "id": "-5qGrNb-qK8Z",
        "outputId": "2ae0d46d-4c0d-40c9-d070-86ee8329d863"
      },
      "source": [
        "length=train['요약문_연구내용'].astype(str).apply(len)\n",
        "plt.hist(length, bins=50, alpha=0.5, color='r', label='word')\n",
        "plt.title('histogram of length of summary_content')\n",
        "plt.figure(figsize=(12, 5))\n",
        "plt.boxplot(length, labels=['counts'], showmeans=True)\n",
        "print('요약문_연구내용 길이 최댓값: {}'.format(np.max(length)))\n",
        "print('요약문_연구내용 길이 최솟값: {}'.format(np.min(length)))\n",
        "print('요약문_연구내용 길이 평균값: {}'.format(np.mean(length)))\n",
        "print('요약문_연구내용 길이 중간값: {}'.format(np.median(length)))"
      ],
      "id": "-5qGrNb-qK8Z",
      "execution_count": null,
      "outputs": [
        {
          "output_type": "stream",
          "text": [
            "요약문_연구내용 길이 최댓값: 3999\n",
            "요약문_연구내용 길이 최솟값: 1\n",
            "요약문_연구내용 길이 평균값: 699.2930282724435\n",
            "요약문_연구내용 길이 중간값: 597.0\n"
          ],
          "name": "stdout"
        },
        {
          "output_type": "display_data",
          "data": {
            "image/png": "[encoded data removed]",
            "text/plain": [
              "<Figure size 432x288 with 1 Axes>"
            ]
          },
          "metadata": {
            "tags": []
          }
        },
        {
          "output_type": "display_data",
          "data": {
            "image/png": "[encoded data removed]",
            "text/plain": [
              "<Figure size 864x360 with 1 Axes>"
            ]
          },
          "metadata": {
            "tags": []
          }
        }
      ]
    },
    {
      "cell_type": "code",
      "metadata": {
        "colab": {
          "base_uri": "https://localhost:8080/",
          "height": 656
        },
        "id": "c1gx9IbgqK8a",
        "outputId": "90bb7fd6-5a73-48fb-b3d7-c9e43203ca8d"
      },
      "source": [
        "length=train['요약문_한글키워드'].astype(str).apply(len)\n",
        "plt.hist(length, bins=50, alpha=0.5, color='r', label='word')\n",
        "plt.title('histogram of length of summary_effect')\n",
        "plt.figure(figsize=(12, 5))\n",
        "plt.boxplot(length, labels=['counts'], showmeans=True)\n",
        "print('요약문_한글키워드 길이 최댓값: {}'.format(np.max(length)))\n",
        "print('요약문_한글키워드 길이 최솟값: {}'.format(np.min(length)))\n",
        "print('요약문_한글키워드 길이 평균값: {}'.format(np.mean(length)))\n",
        "print('요약문_한글키워드 길이 중간값: {}'.format(np.median(length)))"
      ],
      "id": "c1gx9IbgqK8a",
      "execution_count": null,
      "outputs": [
        {
          "output_type": "stream",
          "text": [
            "요약문_한글키워드 길이 최댓값: 307\n",
            "요약문_한글키워드 길이 최솟값: 1\n",
            "요약문_한글키워드 길이 평균값: 33.606853543234806\n",
            "요약문_한글키워드 길이 중간값: 31.0\n"
          ],
          "name": "stdout"
        },
        {
          "output_type": "display_data",
          "data": {
            "image/png": "[encoded data removed]",
            "text/plain": [
              "<Figure size 432x288 with 1 Axes>"
            ]
          },
          "metadata": {
            "tags": []
          }
        },
        {
          "output_type": "display_data",
          "data": {
            "image/png": "[encoded data removed]",
            "text/plain": [
              "<Figure size 864x360 with 1 Axes>"
            ]
          },
          "metadata": {
            "tags": []
          }
        }
      ]
    },
    {
      "cell_type": "markdown",
      "metadata": {
        "id": "yKx63YS8uxq3"
      },
      "source": [
        "# **3. 데이터 전처리**"
      ],
      "id": "yKx63YS8uxq3"
    },
    {
      "cell_type": "markdown",
      "metadata": {
        "id": "aiV4KBZIu4m3"
      },
      "source": [
        "#### [결측치 처리]"
      ],
      "id": "aiV4KBZIu4m3"
    },
    {
      "cell_type": "code",
      "metadata": {
        "id": "NrJmFiHYUM19"
      },
      "source": [
        "# 결측치를 'NaN' 문자열로 처리\n",
        "train = train.fillna(\"NaN\")\n",
        "test = test.fillna(\"NaN\")"
      ],
      "id": "NrJmFiHYUM19",
      "execution_count": null,
      "outputs": []
    },
    {
      "cell_type": "markdown",
      "metadata": {
        "id": "f3dtdkm_x9uk"
      },
      "source": [
        "#### [파생변수 생성 (피처 통합)]"
      ],
      "id": "f3dtdkm_x9uk"
    },
    {
      "cell_type": "code",
      "metadata": {
        "id": "qN3Jt2zjyDhl"
      },
      "source": [
        "# data = \"사업명\" + \"과제명\" + \"요약문_한글키워드\"\n",
        "train[\"data\"] = '사업명 : ' + train['사업명'] + ', 과제명 : ' + train['과제명'] + ', 키워드 : ' + train[\"요약문_한글키워드\"]\n",
        "test[\"data\"] = '사업명 : ' + test['사업명'] + ', 과제명 : ' + test['과제명'] + ', 키워드 : ' + test[\"요약문_한글키워드\"]"
      ],
      "id": "qN3Jt2zjyDhl",
      "execution_count": null,
      "outputs": []
    },
    {
      "cell_type": "markdown",
      "metadata": {
        "id": "cC2CRSUNvET1"
      },
      "source": [
        "#### [label 값에 따른 train 값 분리]"
      ],
      "id": "cC2CRSUNvET1"
    },
    {
      "cell_type": "code",
      "metadata": {
        "id": "DwqomxanCoHV"
      },
      "source": [
        "# label 값이 0 인 train 데이터\n",
        "train_0 = train[train[\"label\"] == 0]\n",
        "# label 값이 0이 아닌 train 데이터\n",
        "train_1 = train[train[\"label\"] != 0]"
      ],
      "id": "DwqomxanCoHV",
      "execution_count": null,
      "outputs": []
    },
    {
      "cell_type": "markdown",
      "metadata": {
        "id": "efmR72v62LFG"
      },
      "source": [
        "#### [불균형 문제 처리]"
      ],
      "id": "efmR72v62LFG"
    },
    {
      "cell_type": "markdown",
      "metadata": {
        "id": "ngENmAQp2Sd9"
      },
      "source": [
        "1) 중복 데이터 제거"
      ],
      "id": "ngENmAQp2Sd9"
    },
    {
      "cell_type": "code",
      "metadata": {
        "id": "cx04SHUjYGC-"
      },
      "source": [
        "# label 값이 0인 train 중복된 데이터 제거\n",
        "train_0 = train_0.drop_duplicates([\"data\"])"
      ],
      "id": "cx04SHUjYGC-",
      "execution_count": null,
      "outputs": []
    },
    {
      "cell_type": "markdown",
      "metadata": {
        "id": "HPZwv7x32VyY"
      },
      "source": [
        "2) Augmentation"
      ],
      "id": "HPZwv7x32VyY"
    },
    {
      "cell_type": "markdown",
      "metadata": {
        "id": "eXoXbZFFvfz6"
      },
      "source": [
        "- Augmentation 비율 구하기"
      ],
      "id": "eXoXbZFFvfz6"
    },
    {
      "cell_type": "code",
      "metadata": {
        "id": "ixBIqTnrvdfe"
      },
      "source": [
        "# 숫자 자릿수 구하는 함수\n",
        "import math\n",
        "\n",
        "def digit_length(n):\n",
        "    return int(math.log10(n)) + 1 if n else 0"
      ],
      "id": "ixBIqTnrvdfe",
      "execution_count": null,
      "outputs": []
    },
    {
      "cell_type": "code",
      "metadata": {
        "colab": {
          "base_uri": "https://localhost:8080/",
          "height": 142
        },
        "id": "1GIeiet5czq9",
        "outputId": "0fca4f98-3daa-43fd-b620-25fe2b9ae239"
      },
      "source": [
        "label_ratio = pd.DataFrame(len(train_0) / train_1[\"label\"].value_counts())\n",
        "label_ratio[\"augmentation_multiples\"] = label_ratio[\"label\"].apply(lambda x: int(round(x, -1 * (digit_length(x)-1))/5))\n",
        "label_ratio = label_ratio.reset_index().drop([\"label\"], axis=1)\n",
        "label_ratio.head(3)"
      ],
      "id": "1GIeiet5czq9",
      "execution_count": null,
      "outputs": [
        {
          "output_type": "execute_result",
          "data": {
            "text/html": [
              "<div>\n",
              "<style scoped>\n",
              "    .dataframe tbody tr th:only-of-type {\n",
              "        vertical-align: middle;\n",
              "    }\n",
              "\n",
              "    .dataframe tbody tr th {\n",
              "        vertical-align: top;\n",
              "    }\n",
              "\n",
              "    .dataframe thead th {\n",
              "        text-align: right;\n",
              "    }\n",
              "</style>\n",
              "<table border=\"1\" class=\"dataframe\">\n",
              "  <thead>\n",
              "    <tr style=\"text-align: right;\">\n",
              "      <th></th>\n",
              "      <th>index</th>\n",
              "      <th>augmentation_multiples</th>\n",
              "    </tr>\n",
              "  </thead>\n",
              "  <tbody>\n",
              "    <tr>\n",
              "      <th>0</th>\n",
              "      <td>19</td>\n",
              "      <td>4</td>\n",
              "    </tr>\n",
              "    <tr>\n",
              "      <th>1</th>\n",
              "      <td>24</td>\n",
              "      <td>6</td>\n",
              "    </tr>\n",
              "    <tr>\n",
              "      <th>2</th>\n",
              "      <td>23</td>\n",
              "      <td>14</td>\n",
              "    </tr>\n",
              "  </tbody>\n",
              "</table>\n",
              "</div>"
            ],
            "text/plain": [
              "   index  augmentation_multiples\n",
              "0     19                       4\n",
              "1     24                       6\n",
              "2     23                      14"
            ]
          },
          "metadata": {
            "tags": []
          },
          "execution_count": 38
        }
      ]
    },
    {
      "cell_type": "code",
      "metadata": {
        "colab": {
          "base_uri": "https://localhost:8080/",
          "height": 610
        },
        "id": "rgyr4nK4wPpc",
        "outputId": "746aab7a-b0da-45ec-e55a-a26fc1b6b2e4"
      },
      "source": [
        "train_1 = pd.merge(train_1, label_ratio, left_on=\"label\", right_on=\"index\", how=\"inner\").drop([\"index_y\"], axis=1)\n",
        "train_1.head(1)"
      ],
      "id": "rgyr4nK4wPpc",
      "execution_count": null,
      "outputs": [
        {
          "output_type": "execute_result",
          "data": {
            "text/html": [
              "<div>\n",
              "<style scoped>\n",
              "    .dataframe tbody tr th:only-of-type {\n",
              "        vertical-align: middle;\n",
              "    }\n",
              "\n",
              "    .dataframe tbody tr th {\n",
              "        vertical-align: top;\n",
              "    }\n",
              "\n",
              "    .dataframe thead th {\n",
              "        text-align: right;\n",
              "    }\n",
              "</style>\n",
              "<table border=\"1\" class=\"dataframe\">\n",
              "  <thead>\n",
              "    <tr style=\"text-align: right;\">\n",
              "      <th></th>\n",
              "      <th>index_x</th>\n",
              "      <th>제출년도</th>\n",
              "      <th>사업명</th>\n",
              "      <th>사업_부처명</th>\n",
              "      <th>계속과제여부</th>\n",
              "      <th>내역사업명</th>\n",
              "      <th>과제명</th>\n",
              "      <th>요약문_연구목표</th>\n",
              "      <th>요약문_연구내용</th>\n",
              "      <th>요약문_기대효과</th>\n",
              "      <th>요약문_한글키워드</th>\n",
              "      <th>요약문_영문키워드</th>\n",
              "      <th>label</th>\n",
              "      <th>data</th>\n",
              "      <th>augmentation_multiples</th>\n",
              "    </tr>\n",
              "  </thead>\n",
              "  <tbody>\n",
              "    <tr>\n",
              "      <th>0</th>\n",
              "      <td>0</td>\n",
              "      <td>2016</td>\n",
              "      <td>농업기초기반연구</td>\n",
              "      <td>농촌진흥청</td>\n",
              "      <td>신규</td>\n",
              "      <td>농산물안전성연구</td>\n",
              "      <td>유전정보를 활용한 새로운 해충 분류군 동정기술 개발</td>\n",
              "      <td>○ 새로운 해충분류군의 동정기술 개발 및 유입확산 추적</td>\n",
              "      <td>(가) 외래 및 돌발해충의 발생조사 및 종 동정\\n\\n\\n    ○ 대상해충 : 최...</td>\n",
              "      <td>○ 새로운 돌발 및 외래해충의 신속, 정확한 동정법 향상\\n\\n\\n○ 돌발 및 외래...</td>\n",
              "      <td>뉴클레오티드 염기서열, 분자마커, 종 동정, 침샘, 전사체</td>\n",
              "      <td>nucleotide sequence, molecular marker, species...</td>\n",
              "      <td>24</td>\n",
              "      <td>사업명 : 농업기초기반연구, 과제명 : 유전정보를 활용한 새로운 해충 분류군 동정기...</td>\n",
              "      <td>6</td>\n",
              "    </tr>\n",
              "  </tbody>\n",
              "</table>\n",
              "</div>"
            ],
            "text/plain": [
              "   index_x  ...  augmentation_multiples\n",
              "0        0  ...                       6\n",
              "\n",
              "[1 rows x 15 columns]"
            ]
          },
          "metadata": {
            "tags": []
          },
          "execution_count": 29
        }
      ]
    },
    {
      "cell_type": "markdown",
      "metadata": {
        "id": "ubmKdQm-49GK"
      },
      "source": [
        "- 비율(augmentation_multiples)에 따라 EDA 실행"
      ],
      "id": "ubmKdQm-49GK"
    },
    {
      "cell_type": "code",
      "metadata": {
        "colab": {
          "base_uri": "https://localhost:8080/"
        },
        "id": "hrmCKeYRGMDR",
        "outputId": "10d3163f-d9b1-4d54-df58-e5d3d4b6b6dc"
      },
      "source": [
        "# koeda 라이브러리 설치\n",
        "#!pip install koeda\n",
        "from koeda import EasyDataAugmentation\n",
        "\n",
        "\n",
        "EDA = EasyDataAugmentation(\n",
        "    morpheme_analyzer=None, alpha_sr=0.1, alpha_ri=0.1, alpha_rs=0.1, prob_rd=0.1\n",
        ")\n",
        "\n",
        "train_1_eda = []\n",
        "label_eda = []\n",
        "for d, l, m in zip(tqdm.tqdm(train_1[\"data\"]), train_1[\"label\"], train_1['augmentation_multiples']):\n",
        "  train_1_eda.append(d)\n",
        "  label_eda.append(l)\n",
        "  for _ in range(m):\n",
        "    train_1_eda.append(EDA(d))\n",
        "    label_eda.append(l)"
      ],
      "id": "hrmCKeYRGMDR",
      "execution_count": null,
      "outputs": [
        {
          "output_type": "stream",
          "text": [
            "100%|██████████| 31733/31733 [3:19:17<00:00,  2.65it/s]\n"
          ],
          "name": "stderr"
        }
      ]
    },
    {
      "cell_type": "markdown",
      "metadata": {
        "id": "fe48eNhD59pP"
      },
      "source": [
        "- EDA 결과 확인"
      ],
      "id": "fe48eNhD59pP"
    },
    {
      "cell_type": "code",
      "metadata": {
        "colab": {
          "base_uri": "https://localhost:8080/"
        },
        "id": "XOcBAmrB584g",
        "outputId": "48c5be84-ef0f-481f-9038-05fa286a72d5"
      },
      "source": [
        "# EDA된 데이터 구조 확인\n",
        "print(len(train_1_eda))\n",
        "print()\n",
        "print(len(label_eda))"
      ],
      "id": "XOcBAmrB584g",
      "execution_count": null,
      "outputs": [
        {
          "output_type": "stream",
          "text": [
            "1079205\n",
            "\n",
            "1079205\n"
          ],
          "name": "stdout"
        }
      ]
    },
    {
      "cell_type": "code",
      "metadata": {
        "colab": {
          "base_uri": "https://localhost:8080/",
          "height": 204
        },
        "id": "ecUk14STTR6i",
        "outputId": "a193e654-fca8-48c8-ecf1-d093e8185abf"
      },
      "source": [
        "# 리스트를 시리즈로 변환\n",
        "train_1_eda_series = pd.Series(train_1_eda)\n",
        "label_eda_series = pd.Series(label_eda)\n",
        "\n",
        "# 시리즈 -> 데이터프레임 (결합)\n",
        "eda_df = pd.concat([train_1_eda_series, label_eda_series], axis=1)\n",
        "eda_df.columns = [\"data\", \"label\"]\n",
        "eda_df.head()"
      ],
      "id": "ecUk14STTR6i",
      "execution_count": null,
      "outputs": [
        {
          "output_type": "execute_result",
          "data": {
            "text/html": [
              "<div>\n",
              "<style scoped>\n",
              "    .dataframe tbody tr th:only-of-type {\n",
              "        vertical-align: middle;\n",
              "    }\n",
              "\n",
              "    .dataframe tbody tr th {\n",
              "        vertical-align: top;\n",
              "    }\n",
              "\n",
              "    .dataframe thead th {\n",
              "        text-align: right;\n",
              "    }\n",
              "</style>\n",
              "<table border=\"1\" class=\"dataframe\">\n",
              "  <thead>\n",
              "    <tr style=\"text-align: right;\">\n",
              "      <th></th>\n",
              "      <th>data</th>\n",
              "      <th>label</th>\n",
              "    </tr>\n",
              "  </thead>\n",
              "  <tbody>\n",
              "    <tr>\n",
              "      <th>0</th>\n",
              "      <td>사업명 : 농업기초기반연구, 과제명 : 유전정보를 활용한 새로운 해충 분류군 동정기...</td>\n",
              "      <td>24</td>\n",
              "    </tr>\n",
              "    <tr>\n",
              "      <th>1</th>\n",
              "      <td>산업명 : 농업기초기반연구, 과제명 : 유전정보를 활용한 새로운 해충 분류군 동정기...</td>\n",
              "      <td>24</td>\n",
              "    </tr>\n",
              "    <tr>\n",
              "      <th>2</th>\n",
              "      <td>사업명 : 농업기초기반연구, 과제명 : 유전정보를 활용한 새로운 해충 분류군 동정기...</td>\n",
              "      <td>24</td>\n",
              "    </tr>\n",
              "    <tr>\n",
              "      <th>3</th>\n",
              "      <td>사업명 : 농사기초기반연구, 과제명 : 유전정보를 활용한 새로운 해충 분류군 동정기...</td>\n",
              "      <td>24</td>\n",
              "    </tr>\n",
              "    <tr>\n",
              "      <th>4</th>\n",
              "      <td>사업명 : 농업기초기반연구, 과제기술 : 유전정보를 활용한 새로운 해충 동정명 개발...</td>\n",
              "      <td>24</td>\n",
              "    </tr>\n",
              "  </tbody>\n",
              "</table>\n",
              "</div>"
            ],
            "text/plain": [
              "                                                data  label\n",
              "0  사업명 : 농업기초기반연구, 과제명 : 유전정보를 활용한 새로운 해충 분류군 동정기...     24\n",
              "1  산업명 : 농업기초기반연구, 과제명 : 유전정보를 활용한 새로운 해충 분류군 동정기...     24\n",
              "2  사업명 : 농업기초기반연구, 과제명 : 유전정보를 활용한 새로운 해충 분류군 동정기...     24\n",
              "3  사업명 : 농사기초기반연구, 과제명 : 유전정보를 활용한 새로운 해충 분류군 동정기...     24\n",
              "4  사업명 : 농업기초기반연구, 과제기술 : 유전정보를 활용한 새로운 해충 동정명 개발...     24"
            ]
          },
          "metadata": {
            "tags": []
          },
          "execution_count": 34
        }
      ]
    },
    {
      "cell_type": "markdown",
      "metadata": {
        "id": "JObV-fLQ6hOu"
      },
      "source": [
        "- EDA된 데이터 csv 파일로 저장"
      ],
      "id": "JObV-fLQ6hOu"
    },
    {
      "cell_type": "code",
      "metadata": {
        "id": "TCkI-ZXhUv07"
      },
      "source": [
        "eda_df.to_csv('/content/gdrive/My Drive/Colab Notebooks/data/eda5_data.csv', index = None, encoding='utf-8')"
      ],
      "id": "TCkI-ZXhUv07",
      "execution_count": null,
      "outputs": []
    },
    {
      "cell_type": "markdown",
      "metadata": {
        "id": "W_zR5Cj3anaZ"
      },
      "source": [
        "- EDA된 데이터 불러오기"
      ],
      "id": "W_zR5Cj3anaZ"
    },
    {
      "cell_type": "code",
      "metadata": {
        "colab": {
          "base_uri": "https://localhost:8080/",
          "height": 204
        },
        "id": "0bzwAzL0ai6z",
        "outputId": "01767ad3-d2d8-4d98-9db3-f7d6f7e3eb71"
      },
      "source": [
        "eda=pd.read_csv('/content/gdrive/My Drive/Colab Notebooks/data/eda5_data.csv')\n",
        "eda.head()"
      ],
      "id": "0bzwAzL0ai6z",
      "execution_count": null,
      "outputs": [
        {
          "output_type": "execute_result",
          "data": {
            "text/html": [
              "<div>\n",
              "<style scoped>\n",
              "    .dataframe tbody tr th:only-of-type {\n",
              "        vertical-align: middle;\n",
              "    }\n",
              "\n",
              "    .dataframe tbody tr th {\n",
              "        vertical-align: top;\n",
              "    }\n",
              "\n",
              "    .dataframe thead th {\n",
              "        text-align: right;\n",
              "    }\n",
              "</style>\n",
              "<table border=\"1\" class=\"dataframe\">\n",
              "  <thead>\n",
              "    <tr style=\"text-align: right;\">\n",
              "      <th></th>\n",
              "      <th>data</th>\n",
              "      <th>label</th>\n",
              "    </tr>\n",
              "  </thead>\n",
              "  <tbody>\n",
              "    <tr>\n",
              "      <th>0</th>\n",
              "      <td>사업명 : 농업기초기반연구, 과제명 : 유전정보를 활용한 새로운 해충 분류군 동정기...</td>\n",
              "      <td>24</td>\n",
              "    </tr>\n",
              "    <tr>\n",
              "      <th>1</th>\n",
              "      <td>산업명 : 농업기초기반연구, 과제명 : 유전정보를 활용한 새로운 해충 분류군 동정기...</td>\n",
              "      <td>24</td>\n",
              "    </tr>\n",
              "    <tr>\n",
              "      <th>2</th>\n",
              "      <td>사업명 : 농업기초기반연구, 과제명 : 유전정보를 활용한 새로운 해충 분류군 동정기...</td>\n",
              "      <td>24</td>\n",
              "    </tr>\n",
              "    <tr>\n",
              "      <th>3</th>\n",
              "      <td>사업명 : 농사기초기반연구, 과제명 : 유전정보를 활용한 새로운 해충 분류군 동정기...</td>\n",
              "      <td>24</td>\n",
              "    </tr>\n",
              "    <tr>\n",
              "      <th>4</th>\n",
              "      <td>사업명 : 농업기초기반연구, 과제기술 : 유전정보를 활용한 새로운 해충 동정명 개발...</td>\n",
              "      <td>24</td>\n",
              "    </tr>\n",
              "  </tbody>\n",
              "</table>\n",
              "</div>"
            ],
            "text/plain": [
              "                                                data  label\n",
              "0  사업명 : 농업기초기반연구, 과제명 : 유전정보를 활용한 새로운 해충 분류군 동정기...     24\n",
              "1  산업명 : 농업기초기반연구, 과제명 : 유전정보를 활용한 새로운 해충 분류군 동정기...     24\n",
              "2  사업명 : 농업기초기반연구, 과제명 : 유전정보를 활용한 새로운 해충 분류군 동정기...     24\n",
              "3  사업명 : 농사기초기반연구, 과제명 : 유전정보를 활용한 새로운 해충 분류군 동정기...     24\n",
              "4  사업명 : 농업기초기반연구, 과제기술 : 유전정보를 활용한 새로운 해충 동정명 개발...     24"
            ]
          },
          "metadata": {
            "tags": []
          },
          "execution_count": 36
        }
      ]
    },
    {
      "cell_type": "markdown",
      "metadata": {
        "id": "BJgJ7hBv7-25"
      },
      "source": [
        "- train 데이터 통합"
      ],
      "id": "BJgJ7hBv7-25"
    },
    {
      "cell_type": "code",
      "metadata": {
        "id": "c3a2246d"
      },
      "source": [
        "# label이 0인 train 데이터 + eda된 label이 0이 아닌 train 데이터\n",
        "x_train = pd.concat([train_0[\"data\"], eda[\"data\"]])\n",
        "y_train = pd.concat([train_0[\"label\"], eda[\"label\"]])"
      ],
      "id": "c3a2246d",
      "execution_count": null,
      "outputs": []
    },
    {
      "cell_type": "markdown",
      "metadata": {
        "id": "Jiv8kle09Frh"
      },
      "source": [
        "- 통합된 데이터 셔플"
      ],
      "id": "Jiv8kle09Frh"
    },
    {
      "cell_type": "code",
      "metadata": {
        "colab": {
          "base_uri": "https://localhost:8080/",
          "height": 1000
        },
        "id": "YPGN3PZ-Pg0Y",
        "outputId": "a1932798-9641-44b7-c412-782b18dbec00"
      },
      "source": [
        "df_train = pd.concat([x_train, y_train], axis=1)\n",
        "df_train = df_train.sample(frac=1).reset_index(drop=True)\n",
        "df_train.head(50)"
      ],
      "id": "YPGN3PZ-Pg0Y",
      "execution_count": null,
      "outputs": [
        {
          "output_type": "execute_result",
          "data": {
            "text/html": [
              "<div>\n",
              "<style scoped>\n",
              "    .dataframe tbody tr th:only-of-type {\n",
              "        vertical-align: middle;\n",
              "    }\n",
              "\n",
              "    .dataframe tbody tr th {\n",
              "        vertical-align: top;\n",
              "    }\n",
              "\n",
              "    .dataframe thead th {\n",
              "        text-align: right;\n",
              "    }\n",
              "</style>\n",
              "<table border=\"1\" class=\"dataframe\">\n",
              "  <thead>\n",
              "    <tr style=\"text-align: right;\">\n",
              "      <th></th>\n",
              "      <th>data</th>\n",
              "      <th>label</th>\n",
              "    </tr>\n",
              "  </thead>\n",
              "  <tbody>\n",
              "    <tr>\n",
              "      <th>0</th>\n",
              "      <td>사업명 : 고부가가치식품기술개발, 과제명 : 동충하초기능성대체식품개발, 키워드 : ...</td>\n",
              "      <td>0</td>\n",
              "    </tr>\n",
              "    <tr>\n",
              "      <th>1</th>\n",
              "      <td>사업명 개탄 : 미물 농업과학기반기술연구(R&amp;D), 과제명 : 노지재배 배추에 재해...</td>\n",
              "      <td>24</td>\n",
              "    </tr>\n",
              "    <tr>\n",
              "      <th>2</th>\n",
              "      <td>사업명 : 지역농업연구기반및전략작목육성(보조/경제), 과제명 : 유용미생물 활용 버...</td>\n",
              "      <td>0</td>\n",
              "    </tr>\n",
              "    <tr>\n",
              "      <th>3</th>\n",
              "      <td>사업명 : 산학연협력기술개발(R&amp;D), 과제명 : 고효율 방수식 수생태독성시험장치의...</td>\n",
              "      <td>27</td>\n",
              "    </tr>\n",
              "    <tr>\n",
              "      <th>4</th>\n",
              "      <td>사업명 : 산림과학연구(R&amp;D), 과제워드 :바이오인도네시아 이탄지의 목질계 바이오...</td>\n",
              "      <td>10</td>\n",
              "    </tr>\n",
              "    <tr>\n",
              "      <th>5</th>\n",
              "      <td>사업명 : 원자력기술개발사업(R&amp;D), 과제명 : 국내 고유 Level 3 PSA ...</td>\n",
              "      <td>1</td>\n",
              "    </tr>\n",
              "    <tr>\n",
              "      <th>6</th>\n",
              "      <td>사업명 : BK21플러스사업(R&amp;D), 과제명 : 광활성층 나노 모폴로지 제어 및 ...</td>\n",
              "      <td>5</td>\n",
              "    </tr>\n",
              "    <tr>\n",
              "      <th>7</th>\n",
              "      <td>사업명 : 바이오산업핵심기술개발, 과제명 : 나노 분말화 기술을 이용하여 용법 및 ...</td>\n",
              "      <td>0</td>\n",
              "    </tr>\n",
              "    <tr>\n",
              "      <th>8</th>\n",
              "      <td>사업명 : 신재생에너지기술개발, 과제 : 수문 매입 일체형 해양에너지 활용시스템 개...</td>\n",
              "      <td>41</td>\n",
              "    </tr>\n",
              "    <tr>\n",
              "      <th>9</th>\n",
              "      <td>사업명 : 신품종지역적응연구, 과제명 통제 난제 : 영양체 유전자원 보존 사령 관리...</td>\n",
              "      <td>23</td>\n",
              "    </tr>\n",
              "    <tr>\n",
              "      <th>10</th>\n",
              "      <td>사업명 : 민군기술협력개발, 과제명 : 메조공변 합성 제올라이트를 이용한 수중의 미...</td>\n",
              "      <td>29</td>\n",
              "    </tr>\n",
              "    <tr>\n",
              "      <th>11</th>\n",
              "      <td>사업명 : 수산시험연구, 과제명 : 식염수 수산생물 종 보존 및 복원 연구, 키워드...</td>\n",
              "      <td>34</td>\n",
              "    </tr>\n",
              "    <tr>\n",
              "      <th>12</th>\n",
              "      <td>사업명 : 개인기초연구(미래부), 과제명 : 증폭된 엔도좀 전달을 이용한 나노-관절...</td>\n",
              "      <td>0</td>\n",
              "    </tr>\n",
              "    <tr>\n",
              "      <th>13</th>\n",
              "      <td>사업 엔지니어링 눈 지극 명 : 이 운명 공학학술연구기반구축(R&amp;D), 과제명 : ...</td>\n",
              "      <td>29</td>\n",
              "    </tr>\n",
              "    <tr>\n",
              "      <th>14</th>\n",
              "      <td>사업명 : 중소기업상태화기술개발,R&amp;D), 과제명 : 풍력발전기 설비전기상용감시 시...</td>\n",
              "      <td>8</td>\n",
              "    </tr>\n",
              "    <tr>\n",
              "      <th>15</th>\n",
              "      <td>사업명 : 국제연구인력교류(R&amp;D), 과제명 극해역으로의 해양열유입 융빙과 괴분포에...</td>\n",
              "      <td>31</td>\n",
              "    </tr>\n",
              "    <tr>\n",
              "      <th>16</th>\n",
              "      <td>사업명 : 바이오.의료기술개발(R&amp;D), 과제명 : 줄기세포 유래 치아형성 세포원 ...</td>\n",
              "      <td>0</td>\n",
              "    </tr>\n",
              "    <tr>\n",
              "      <th>17</th>\n",
              "      <td>사업 검정 명 : 이 극한 공학학술연구기반구축(R&amp;D), 과제명 수익 : 드론을 활...</td>\n",
              "      <td>20</td>\n",
              "    </tr>\n",
              "    <tr>\n",
              "      <th>18</th>\n",
              "      <td>사업명 : 개인본거지연구(과기정통부)(R&amp;D), 과제명 : 메밀의 phenylpro...</td>\n",
              "      <td>26</td>\n",
              "    </tr>\n",
              "    <tr>\n",
              "      <th>19</th>\n",
              "      <td>사업명 : 개인기초연구(교육부매니지먼트 명 : 차세대 키용 고온형 NAS 전지 성능...</td>\n",
              "      <td>14</td>\n",
              "    </tr>\n",
              "    <tr>\n",
              "      <th>20</th>\n",
              "      <td>사업명 : 개인기초연구(과기정통부)(R&amp; 종자 D), 과제명 : 빅데이터 기반 멸종...</td>\n",
              "      <td>40</td>\n",
              "    </tr>\n",
              "    <tr>\n",
              "      <th>21</th>\n",
              "      <td>사업명 : 개인기초연구(교육부)(R&amp;D), 과제명 : 로봇 응용을위한 얇은 유연한 ...</td>\n",
              "      <td>0</td>\n",
              "    </tr>\n",
              "    <tr>\n",
              "      <th>22</th>\n",
              "      <td>사업명 : ICT융합한국형스마트팜기반기술개발, 과제 : 참외 융 1세대 스마트팜 기...</td>\n",
              "      <td>24</td>\n",
              "    </tr>\n",
              "    <tr>\n",
              "      <th>23</th>\n",
              "      <td>사업명 : 개인연구지원, 과제명 : 홀로그래피 원리 및 응용 : 중력 및 장이론 성...</td>\n",
              "      <td>0</td>\n",
              "    </tr>\n",
              "    <tr>\n",
              "      <th>24</th>\n",
              "      <td>사업명 : 개인기초연구(교과기정통부)(R&amp;D), 과제명 : 유례없는 북극 온도상승이...</td>\n",
              "      <td>32</td>\n",
              "    </tr>\n",
              "    <tr>\n",
              "      <th>25</th>\n",
              "      <td>사업명 : 중소기업기술혁신개발(R&amp;D), 과제명 : 지하 매립형 바이오에너지 발전 ...</td>\n",
              "      <td>10</td>\n",
              "    </tr>\n",
              "    <tr>\n",
              "      <th>26</th>\n",
              "      <td>사업명 : 개인연구지원, 과제명 : 이중 에너지를 활용한 CT 영상에서의 콘빔 아티...</td>\n",
              "      <td>0</td>\n",
              "    </tr>\n",
              "    <tr>\n",
              "      <th>27</th>\n",
              "      <td>기술명 : 중소기업상용화기술개발,명과제 배관: 상하수도 플랜트 배관계의 논슬램 수충...</td>\n",
              "      <td>29</td>\n",
              "    </tr>\n",
              "    <tr>\n",
              "      <th>28</th>\n",
              "      <td>사업명 : 미래해산업개발사업(R&amp;D), 과제명 : 대형 어종의 생체모방형 재현을 한...</td>\n",
              "      <td>33</td>\n",
              "    </tr>\n",
              "    <tr>\n",
              "      <th>29</th>\n",
              "      <td>사업명 : 이공학학술연구자리반구축(R&amp;D), 과제명 : 고분자전해질 연료전지의 수소...</td>\n",
              "      <td>13</td>\n",
              "    </tr>\n",
              "    <tr>\n",
              "      <th>30</th>\n",
              "      <td>사업 : 민군기술협력개발, 과제명 : 거리용 이동식 레이저 기반 무선전력전송 기술 ...</td>\n",
              "      <td>43</td>\n",
              "    </tr>\n",
              "    <tr>\n",
              "      <th>31</th>\n",
              "      <td>사업명 분류 : 수소에너지 가스 혁신기술개발(R&amp;D), 과제명 : 알칼라 이탈 인 ...</td>\n",
              "      <td>12</td>\n",
              "    </tr>\n",
              "    <tr>\n",
              "      <th>32</th>\n",
              "      <td>,명 : 신품종보급적응연구, 과제명 : 국산국화 확대를 위한 시장개척, 키워드 : ...</td>\n",
              "      <td>26</td>\n",
              "    </tr>\n",
              "    <tr>\n",
              "      <th>33</th>\n",
              "      <td>사업명 : 신재생에너지핵심기술개발, 과제명 : 70M 이상 풍력발전기 블레이드용 생...</td>\n",
              "      <td>8</td>\n",
              "    </tr>\n",
              "    <tr>\n",
              "      <th>34</th>\n",
              "      <td>사업명 창업기술개발R&amp;D), 과제명 : 두부를 소재로 한 건 제조 기술 개발, 키워...</td>\n",
              "      <td>26</td>\n",
              "    </tr>\n",
              "    <tr>\n",
              "      <th>35</th>\n",
              "      <td>사업명 : 신재생에너지핵심재주개발, 과제명 : 지열원 히트펌프식 열풍건조기 개발, ...</td>\n",
              "      <td>7</td>\n",
              "    </tr>\n",
              "    <tr>\n",
              "      <th>36</th>\n",
              "      <td>사업명 : 작물시험연구, 과제명 : 고구마 건전묘 생산을 위한 육묘방법개선, 키워드...</td>\n",
              "      <td>24</td>\n",
              "    </tr>\n",
              "    <tr>\n",
              "      <th>37</th>\n",
              "      <td>사업명 : 개인연구지원, 과제명 : 유역재해 고려한 워드을탐방로 ,지역 선정에 관한...</td>\n",
              "      <td>39</td>\n",
              "    </tr>\n",
              "    <tr>\n",
              "      <th>38</th>\n",
              "      <td>사업명 : 신재생에너지핵심기술개발, 과제명 : 해상풍력발전단지 해저전력망 설치 및 ...</td>\n",
              "      <td>8</td>\n",
              "    </tr>\n",
              "    <tr>\n",
              "      <th>39</th>\n",
              "      <td>사업명 : 용구 수법 환경산업선진화기술개발사업(R&amp;D), 과제명 : 자동차 공장에서...</td>\n",
              "      <td>45</td>\n",
              "    </tr>\n",
              "    <tr>\n",
              "      <th>40</th>\n",
              "      <td>사업명 : 이공학개인기초연구지원, 과제명 : BiFeO3 기반 친환경 비납계 강유전...</td>\n",
              "      <td>19</td>\n",
              "    </tr>\n",
              "    <tr>\n",
              "      <th>41</th>\n",
              "      <td>사업명 : 토양지하수오염방지기술개발, 과제명 : 매몰지 사후관리 평가기술 및 안전성...</td>\n",
              "      <td>40</td>\n",
              "    </tr>\n",
              "    <tr>\n",
              "      <th>42</th>\n",
              "      <td>사업명 : 개인기초(교육부)(R&amp;D), 명 : 신경괴사증바이러스()감염 위와 중화항...</td>\n",
              "      <td>34</td>\n",
              "    </tr>\n",
              "    <tr>\n",
              "      <th>43</th>\n",
              "      <td>산업명 : 이공학학술연구기반구축(R&amp;D), 과제명 : 광펄스를 이용한 신선편이 농수...</td>\n",
              "      <td>37</td>\n",
              "    </tr>\n",
              "    <tr>\n",
              "      <th>44</th>\n",
              "      <td>사업명 : 산학연협력기술개발, 과제명 : 액정폴리머 기반 신경전극 제조기술, 키워드...</td>\n",
              "      <td>0</td>\n",
              "    </tr>\n",
              "    <tr>\n",
              "      <th>45</th>\n",
              "      <td>사업명 : 제품·공정개선기술향상, 과제명 : 냄새 제거 및 자동 소화형 재떨이, 키...</td>\n",
              "      <td>19</td>\n",
              "    </tr>\n",
              "    <tr>\n",
              "      <th>46</th>\n",
              "      <td>사업명 : 개인기초연구(과기정통부)(R&amp;D), 문초 과제명 : 끄트머리 거대규모 공...</td>\n",
              "      <td>30</td>\n",
              "    </tr>\n",
              "    <tr>\n",
              "      <th>47</th>\n",
              "      <td>사업명 : 연구개발혁신지원(R&amp; ), 과제명 :D대량 수소 운송을 위한 액체 유기 ...</td>\n",
              "      <td>15</td>\n",
              "    </tr>\n",
              "    <tr>\n",
              "      <th>48</th>\n",
              "      <td>사업명 : 신재생에너지핵심기술개발, 과제명 : 상용(섬) 지역 , 공급을 파력발전한...</td>\n",
              "      <td>9</td>\n",
              "    </tr>\n",
              "    <tr>\n",
              "      <th>49</th>\n",
              "      <td>사업명 : 개인기초연구(미래부), 과제명 : 새로운 biotransformation...</td>\n",
              "      <td>0</td>\n",
              "    </tr>\n",
              "  </tbody>\n",
              "</table>\n",
              "</div>"
            ],
            "text/plain": [
              "                                                 data  label\n",
              "0   사업명 : 고부가가치식품기술개발, 과제명 : 동충하초기능성대체식품개발, 키워드 : ...      0\n",
              "1   사업명 개탄 : 미물 농업과학기반기술연구(R&D), 과제명 : 노지재배 배추에 재해...     24\n",
              "2   사업명 : 지역농업연구기반및전략작목육성(보조/경제), 과제명 : 유용미생물 활용 버...      0\n",
              "3   사업명 : 산학연협력기술개발(R&D), 과제명 : 고효율 방수식 수생태독성시험장치의...     27\n",
              "4   사업명 : 산림과학연구(R&D), 과제워드 :바이오인도네시아 이탄지의 목질계 바이오...     10\n",
              "5   사업명 : 원자력기술개발사업(R&D), 과제명 : 국내 고유 Level 3 PSA ...      1\n",
              "6   사업명 : BK21플러스사업(R&D), 과제명 : 광활성층 나노 모폴로지 제어 및 ...      5\n",
              "7   사업명 : 바이오산업핵심기술개발, 과제명 : 나노 분말화 기술을 이용하여 용법 및 ...      0\n",
              "8   사업명 : 신재생에너지기술개발, 과제 : 수문 매입 일체형 해양에너지 활용시스템 개...     41\n",
              "9   사업명 : 신품종지역적응연구, 과제명 통제 난제 : 영양체 유전자원 보존 사령 관리...     23\n",
              "10  사업명 : 민군기술협력개발, 과제명 : 메조공변 합성 제올라이트를 이용한 수중의 미...     29\n",
              "11  사업명 : 수산시험연구, 과제명 : 식염수 수산생물 종 보존 및 복원 연구, 키워드...     34\n",
              "12  사업명 : 개인기초연구(미래부), 과제명 : 증폭된 엔도좀 전달을 이용한 나노-관절...      0\n",
              "13  사업 엔지니어링 눈 지극 명 : 이 운명 공학학술연구기반구축(R&D), 과제명 : ...     29\n",
              "14  사업명 : 중소기업상태화기술개발,R&D), 과제명 : 풍력발전기 설비전기상용감시 시...      8\n",
              "15  사업명 : 국제연구인력교류(R&D), 과제명 극해역으로의 해양열유입 융빙과 괴분포에...     31\n",
              "16  사업명 : 바이오.의료기술개발(R&D), 과제명 : 줄기세포 유래 치아형성 세포원 ...      0\n",
              "17  사업 검정 명 : 이 극한 공학학술연구기반구축(R&D), 과제명 수익 : 드론을 활...     20\n",
              "18  사업명 : 개인본거지연구(과기정통부)(R&D), 과제명 : 메밀의 phenylpro...     26\n",
              "19  사업명 : 개인기초연구(교육부매니지먼트 명 : 차세대 키용 고온형 NAS 전지 성능...     14\n",
              "20  사업명 : 개인기초연구(과기정통부)(R& 종자 D), 과제명 : 빅데이터 기반 멸종...     40\n",
              "21  사업명 : 개인기초연구(교육부)(R&D), 과제명 : 로봇 응용을위한 얇은 유연한 ...      0\n",
              "22  사업명 : ICT융합한국형스마트팜기반기술개발, 과제 : 참외 융 1세대 스마트팜 기...     24\n",
              "23  사업명 : 개인연구지원, 과제명 : 홀로그래피 원리 및 응용 : 중력 및 장이론 성...      0\n",
              "24  사업명 : 개인기초연구(교과기정통부)(R&D), 과제명 : 유례없는 북극 온도상승이...     32\n",
              "25  사업명 : 중소기업기술혁신개발(R&D), 과제명 : 지하 매립형 바이오에너지 발전 ...     10\n",
              "26  사업명 : 개인연구지원, 과제명 : 이중 에너지를 활용한 CT 영상에서의 콘빔 아티...      0\n",
              "27  기술명 : 중소기업상용화기술개발,명과제 배관: 상하수도 플랜트 배관계의 논슬램 수충...     29\n",
              "28  사업명 : 미래해산업개발사업(R&D), 과제명 : 대형 어종의 생체모방형 재현을 한...     33\n",
              "29  사업명 : 이공학학술연구자리반구축(R&D), 과제명 : 고분자전해질 연료전지의 수소...     13\n",
              "30  사업 : 민군기술협력개발, 과제명 : 거리용 이동식 레이저 기반 무선전력전송 기술 ...     43\n",
              "31  사업명 분류 : 수소에너지 가스 혁신기술개발(R&D), 과제명 : 알칼라 이탈 인 ...     12\n",
              "32  ,명 : 신품종보급적응연구, 과제명 : 국산국화 확대를 위한 시장개척, 키워드 : ...     26\n",
              "33  사업명 : 신재생에너지핵심기술개발, 과제명 : 70M 이상 풍력발전기 블레이드용 생...      8\n",
              "34  사업명 창업기술개발R&D), 과제명 : 두부를 소재로 한 건 제조 기술 개발, 키워...     26\n",
              "35  사업명 : 신재생에너지핵심재주개발, 과제명 : 지열원 히트펌프식 열풍건조기 개발, ...      7\n",
              "36  사업명 : 작물시험연구, 과제명 : 고구마 건전묘 생산을 위한 육묘방법개선, 키워드...     24\n",
              "37  사업명 : 개인연구지원, 과제명 : 유역재해 고려한 워드을탐방로 ,지역 선정에 관한...     39\n",
              "38  사업명 : 신재생에너지핵심기술개발, 과제명 : 해상풍력발전단지 해저전력망 설치 및 ...      8\n",
              "39  사업명 : 용구 수법 환경산업선진화기술개발사업(R&D), 과제명 : 자동차 공장에서...     45\n",
              "40  사업명 : 이공학개인기초연구지원, 과제명 : BiFeO3 기반 친환경 비납계 강유전...     19\n",
              "41  사업명 : 토양지하수오염방지기술개발, 과제명 : 매몰지 사후관리 평가기술 및 안전성...     40\n",
              "42  사업명 : 개인기초(교육부)(R&D), 명 : 신경괴사증바이러스()감염 위와 중화항...     34\n",
              "43  산업명 : 이공학학술연구기반구축(R&D), 과제명 : 광펄스를 이용한 신선편이 농수...     37\n",
              "44  사업명 : 산학연협력기술개발, 과제명 : 액정폴리머 기반 신경전극 제조기술, 키워드...      0\n",
              "45  사업명 : 제품·공정개선기술향상, 과제명 : 냄새 제거 및 자동 소화형 재떨이, 키...     19\n",
              "46  사업명 : 개인기초연구(과기정통부)(R&D), 문초 과제명 : 끄트머리 거대규모 공...     30\n",
              "47  사업명 : 연구개발혁신지원(R& ), 과제명 :D대량 수소 운송을 위한 액체 유기 ...     15\n",
              "48  사업명 : 신재생에너지핵심기술개발, 과제명 : 상용(섬) 지역 , 공급을 파력발전한...      9\n",
              "49  사업명 : 개인기초연구(미래부), 과제명 : 새로운 biotransformation...      0"
            ]
          },
          "metadata": {
            "tags": []
          },
          "execution_count": 40
        }
      ]
    },
    {
      "cell_type": "markdown",
      "metadata": {
        "id": "yamO3eIV_0ne"
      },
      "source": [
        "#### [텍스트 전처리]"
      ],
      "id": "yamO3eIV_0ne"
    },
    {
      "cell_type": "markdown",
      "metadata": {
        "id": "OioobrLKAF5E"
      },
      "source": [
        "- 데이터 분리"
      ],
      "id": "OioobrLKAF5E"
    },
    {
      "cell_type": "code",
      "metadata": {
        "id": "_EoqXv2hQPDH"
      },
      "source": [
        "x_train = df_train[\"data\"]\n",
        "y_train = df_train[\"label\"]\n",
        "x_test = test[\"data\"]"
      ],
      "id": "_EoqXv2hQPDH",
      "execution_count": null,
      "outputs": []
    },
    {
      "cell_type": "code",
      "metadata": {
        "colab": {
          "base_uri": "https://localhost:8080/"
        },
        "id": "ILhVQWjU8lht",
        "outputId": "ebe7d6ed-4d25-4eb5-e0e7-6ecc29966238"
      },
      "source": [
        "# Shape of dataset.\n",
        "print(f'x_train shape: { x_train.shape }')\n",
        "print(f'y_train shape: { y_train.shape }')\n",
        "print(f'x_test shape:  { x_test.shape }' )"
      ],
      "id": "ILhVQWjU8lht",
      "execution_count": null,
      "outputs": [
        {
          "output_type": "stream",
          "text": [
            "x_train shape: (1199845,)\n",
            "y_train shape: (1199845,)\n",
            "x_test shape:  (43576,)\n"
          ],
          "name": "stdout"
        }
      ]
    },
    {
      "cell_type": "markdown",
      "metadata": {
        "id": "VCPYcdP4AIWV"
      },
      "source": [
        "- 텍스트 정제"
      ],
      "id": "VCPYcdP4AIWV"
    },
    {
      "cell_type": "code",
      "metadata": {
        "colab": {
          "background_save": true,
          "base_uri": "https://localhost:8080/"
        },
        "id": "8da87332",
        "outputId": "5d175a51-03ce-45e1-8e26-c7176aff5dfd"
      },
      "source": [
        "# text 정제 함수 생성 : 한글 이외의 문자는 전부 제거함.\n",
        "def Preprocessing(text, tagger, remove_stopwords=False, stop_words=[]) :\n",
        "    # 한글 정규식 정의(띄어쓰기, ㄱ ~ ㅣ, 가 ~ 힣)\n",
        "    text = re.sub('[^ ㄱ-ㅣ가-힣:]+','',text)\n",
        "    \n",
        "    # 텍스트를 형태소로 분리후 각 단어로부터 어간을 추출.(stem=True)\n",
        "    word_text = tagger.morphs(text)\n",
        "    \n",
        "    # 불용어 처리.\n",
        "    if remove_stopwords :\n",
        "        word_text = [ t for t in word_text if not t in stop_words ]\n",
        "        \n",
        "    return word_text\n",
        "\n",
        "# 한글 불용어 사전 파일 이용.\n",
        "with open('/content/gdrive/My Drive/Colab Notebooks/data/korean_stopwords.txt', encoding='utf-8') as fp :\n",
        "    stop_words = fp.readlines()\n",
        "    \n",
        "# \\n 제거.\n",
        "stop_words = [ x.strip() for x in stop_words ]\n",
        "# print(stop_words)\n",
        "# print('-'*135)\n",
        "# print()\n",
        "\n",
        "# Mecab 이용.\n",
        "tagger = Mecab()\n",
        "\n",
        "# train, test 데이터를 정제한 텍스트를 담을 리스트 생성.\n",
        "Clean_train_data = []\n",
        "Clean_test_data  = []\n",
        "\n",
        "# train dataset 정제 작업 시작.\n",
        "for text in tqdm.tqdm(x_train) :\n",
        "    try :\n",
        "        Clean_train_data.append(Preprocessing(text, tagger, remove_stopwords=True, stop_words=stop_words))\n",
        "    except :\n",
        "        Clean_train_data.append([])\n",
        "\n",
        "# test dataset 정제 작업 시작.\n",
        "for text in tqdm.tqdm(x_test) :\n",
        "    if type(text) == str :\n",
        "        Clean_test_data.append(Preprocessing(text, tagger, remove_stopwords=True, stop_words=stop_words))\n",
        "    else :\n",
        "        Clean_test_data.append([])   \n",
        "        \n",
        "# 정제된 데이터의 수.\n",
        "print(f'Train data : {len(Clean_train_data)}')\n",
        "print(f'Test data  : {len(Clean_test_data)}')"
      ],
      "id": "8da87332",
      "execution_count": null,
      "outputs": [
        {
          "output_type": "stream",
          "text": [
            "100%|██████████| 1199845/1199845 [13:07<00:00, 1523.47it/s]\n",
            "100%|██████████| 43576/43576 [00:26<00:00, 1616.87it/s]"
          ],
          "name": "stderr"
        },
        {
          "output_type": "stream",
          "text": [
            "Train data : 1199845\n",
            "Test data  : 43576\n"
          ],
          "name": "stdout"
        },
        {
          "output_type": "stream",
          "text": [
            "\n"
          ],
          "name": "stderr"
        }
      ]
    },
    {
      "cell_type": "markdown",
      "metadata": {
        "id": "QZCl93zXAlUh"
      },
      "source": [
        "- 인데스 벡터 전환 및 패딩 처리"
      ],
      "id": "QZCl93zXAlUh"
    },
    {
      "cell_type": "code",
      "metadata": {
        "colab": {
          "background_save": true
        },
        "id": "ee8ec047",
        "outputId": "08369674-7fe1-437a-cb98-efc7092f4b7f"
      },
      "source": [
        "# 우선 특별한 옵션을 지정하지 않고 진행.\n",
        "token = Tokenizer()\n",
        "\n",
        "# fit_on_texts() : 입력으로 들어온 텍스트에서 단어의 빈도수가 높은 순으로 낮은 숫자부터 인덱스 부여, 단어 집합 생성.\n",
        "token.fit_on_texts(Clean_train_data)\n",
        "\n",
        "# 단어 사전을 통해 문장의 각 단어를 숫자(시퀀스 형태)로 변환. : 인덱스로만 채워진 새로운 배열을 생성한다는 의미.\n",
        "Train_squences = token.texts_to_sequences(Clean_train_data)\n",
        "Test_squences  = token.texts_to_sequences(Clean_test_data)\n",
        "\n",
        "# 한 문장의 최대 단어 수를 가져옴.\n",
        "max_cnt = 0\n",
        "for c in Train_squences :\n",
        "    # 현재 문장의 글자수.\n",
        "    cnt = len(c)\n",
        "    # 현재 문장의 글자수가 이전 최대 수치보다 많으면 덮어쓰기.\n",
        "    if max_cnt < cnt :\n",
        "        max_cnt = cnt\n",
        "print(f'최대 단어의 개수 : {max_cnt}')\n",
        "\n",
        "# Padding 처리 : 서로 길이가 다른 리스트의 개수를 max_cnt로 맞춰줌.\n",
        "# 끝 부분으로 적용. ==> 즉 max_cnt 길이의 리스트로 동일하게 맞춰주기 위해 부족한 부분으로 뒤에서 부터 0으로 채우는 작업을 의미.\n",
        "padded_train = pad_sequences(Train_squences, max_cnt, padding='post')\n",
        "padded_test  = pad_sequences(Test_squences, max_cnt, padding='post')\n",
        "\n",
        "# One-hot-encoding.\n",
        "# 주의 : 맨 앞에 0이 추가됨.\n",
        "voca_size = len(token.word_index) + 1\n",
        "# train_x = to_categorical(Train_squences, num_classes = voca_size)\n",
        "# test_x  = to_categorical(Test_squences, num_classes = voca_size)\n",
        "print(\"voca_size :\", voca_size)"
      ],
      "id": "ee8ec047",
      "execution_count": null,
      "outputs": [
        {
          "output_type": "stream",
          "text": [
            "최대 단어의 개수 : 112\n",
            "voca_size : 66810\n"
          ],
          "name": "stdout"
        }
      ]
    },
    {
      "cell_type": "markdown",
      "metadata": {
        "id": "ADojxaZAAru1"
      },
      "source": [
        "- 추후 재사용 가능하도록 npy로 전환 및 저장"
      ],
      "id": "ADojxaZAAru1"
    },
    {
      "cell_type": "code",
      "metadata": {
        "id": "JPRN4Nc7Tua2"
      },
      "source": [
        "import json\n",
        "\n",
        "DATA_IN_PATH='/content/gdrive/My Drive/Colab Notebooks/train_data/eda_{112}-{66810}/'  # eda_{max_cnt}-{voca_size}\n",
        "TRAIN_INPUT_DATA = 'train_inputs.npy'\n",
        "LABEL_INPUT_DATA = 'label_inputs.npy'\n",
        "TEST_INPUT_DATA = 'test_input.npy'\n",
        "\n",
        "import os\n",
        "if not os.path.exists(DATA_IN_PATH):\n",
        "    os.makedirs(DATA_IN_PATH)\n",
        "    \n",
        "np.save(open(DATA_IN_PATH+TRAIN_INPUT_DATA, 'wb'), padded_train)\n",
        "np.save(open(DATA_IN_PATH+LABEL_INPUT_DATA, 'wb'), y_train)\n",
        "np.save(open(DATA_IN_PATH+TEST_INPUT_DATA, 'wb'), padded_test)\n",
        "\n",
        "data_configs={}\n",
        "data_configs['vocab']=token.word_index\n",
        "data_configs['vocab_size'] = voca_size\n",
        "json.dump(data_configs, open(DATA_IN_PATH+'data_configs.json', 'w'), ensure_ascii=False)"
      ],
      "id": "JPRN4Nc7Tua2",
      "execution_count": null,
      "outputs": []
    },
    {
      "cell_type": "code",
      "metadata": {
        "id": "CDL2-3sm_0KL"
      },
      "source": [
        "# # eda2\n",
        "# max_cnt = 59\n",
        "# voca_size = 47613\n",
        "\n",
        "# # eda5\n",
        "# max_cnt = 58\n",
        "# voca_size = 41130\n",
        "\n",
        "# # eda10\n",
        "# max_cnt = 58\n",
        "# voca_size = 37352\n",
        "\n",
        "# base\n",
        "max_cnt = 55\n",
        "voca_size = 27533"
      ],
      "id": "CDL2-3sm_0KL",
      "execution_count": null,
      "outputs": []
    },
    {
      "cell_type": "markdown",
      "metadata": {
        "id": "wZVtk67EA6gT"
      },
      "source": [
        "# **4. 모델링**"
      ],
      "id": "wZVtk67EA6gT"
    },
    {
      "cell_type": "markdown",
      "metadata": {
        "id": "rEJ6QLmSIx__"
      },
      "source": [
        "- 전처리된 데이터 불러오기"
      ],
      "id": "rEJ6QLmSIx__"
    },
    {
      "cell_type": "code",
      "metadata": {
        "id": "n1H6pmOvo2wM"
      },
      "source": [
        "padded_train = np.load('/content/gdrive/My Drive/Colab Notebooks/train_data/base_weight/train_inputs.npy')\n",
        "y_train = np.load('/content/gdrive/My Drive/Colab Notebooks/train_data/base_weight/label_inputs.npy')\n",
        "padded_test = np.load('/content/gdrive/My Drive/Colab Notebooks/train_data/base_weight/test_input.npy')"
      ],
      "id": "n1H6pmOvo2wM",
      "execution_count": null,
      "outputs": []
    },
    {
      "cell_type": "markdown",
      "metadata": {
        "id": "ERQvcWy2nKgj"
      },
      "source": [
        "- weight 구하기"
      ],
      "id": "ERQvcWy2nKgj"
    },
    {
      "cell_type": "code",
      "metadata": {
        "colab": {
          "base_uri": "https://localhost:8080/"
        },
        "id": "mqHm55bx_Zag",
        "outputId": "0bcd055c-ff67-4cb1-b772-dbf81919fcb4"
      },
      "source": [
        "from sklearn.utils.class_weight import compute_class_weight\n",
        "weight = compute_class_weight(class_weight = \"balanced\", classes=np.unique(y_train), y = y_train)\n",
        "class_weight = {}\n",
        "for i in set(y_train):\n",
        "  class_weight[i] = weight[i]\n",
        "class_weight"
      ],
      "id": "mqHm55bx_Zag",
      "execution_count": null,
      "outputs": [
        {
          "output_type": "execute_result",
          "data": {
            "text/plain": [
              "{0: 0.026577756986374143,\n",
              " 1: 3.0049305244285076,\n",
              " 2: 13.77897233201581,\n",
              " 3: 26.49802371541502,\n",
              " 4: 66.47749809305873,\n",
              " 5: 2.2315767911097453,\n",
              " 6: 48.57971014492754,\n",
              " 7: 33.53289726818007,\n",
              " 8: 11.17763242272669,\n",
              " 9: 35.7473338802297,\n",
              " 10: 5.758689044535483,\n",
              " 11: 18.94608695652174,\n",
              " 12: 14.138870863075924,\n",
              " 13: 6.589943289224952,\n",
              " 14: 2.266278344081548,\n",
              " 15: 22.964953886693017,\n",
              " 16: 7.48857191957381,\n",
              " 17: 24.605307735742517,\n",
              " 18: 2.444656381486676,\n",
              " 19: 0.7673587264690862,\n",
              " 20: 3.578108962515909,\n",
              " 21: 7.639551192145863,\n",
              " 22: 25.602820211515862,\n",
              " 23: 2.0593572778827975,\n",
              " 24: 1.076482213438735,\n",
              " 25: 4.678046162104133,\n",
              " 26: 11.991194276279582,\n",
              " 27: 6.11164095371669,\n",
              " 28: 8.439236951680062,\n",
              " 29: 3.686009135510066,\n",
              " 30: 16.193236714975846,\n",
              " 31: 4.109780250872395,\n",
              " 32: 14.57391304347826,\n",
              " 33: 7.109225874867445,\n",
              " 34: 7.2451575359547755,\n",
              " 35: 13.021365605856865,\n",
              " 36: 3.5747333880229695,\n",
              " 37: 14.2451781627983,\n",
              " 38: 14.462661798871556,\n",
              " 39: 18.758501937150236,\n",
              " 40: 8.592329685497388,\n",
              " 41: 56.5554834523037,\n",
              " 42: 74.29838022165387,\n",
              " 43: 10.79549114331723,\n",
              " 44: 41.63975155279503,\n",
              " 45: 3.3326450231348708}"
            ]
          },
          "metadata": {
            "tags": []
          },
          "execution_count": 5
        }
      ]
    },
    {
      "cell_type": "markdown",
      "metadata": {
        "id": "XEiR99r5brwv"
      },
      "source": [
        "#### [기본 모델링]"
      ],
      "id": "XEiR99r5brwv"
    },
    {
      "cell_type": "markdown",
      "metadata": {
        "id": "WkIsaRnOpTtX"
      },
      "source": [
        "- SparseCategoricalCroossentropy : y_train값이 label 값(클래스) 그대로인 경우\n",
        "- CategoricalCrossentropy : y_train값은 원-핫-인코딩 시킨 경우\n",
        "  > label_smoothing을 적용하므로 CategoricalCrossentropy 사용"
      ],
      "id": "WkIsaRnOpTtX"
    },
    {
      "cell_type": "code",
      "metadata": {
        "id": "2TnDSsNpEnx3"
      },
      "source": [
        "from keras.losses import SparseCategoricalCrossentropy, CategoricalCrossentropy"
      ],
      "id": "2TnDSsNpEnx3",
      "execution_count": null,
      "outputs": []
    },
    {
      "cell_type": "code",
      "metadata": {
        "id": "4pQOLa2fHciw"
      },
      "source": [
        "y_train = to_categorical(y_train, num_classes=46)"
      ],
      "id": "4pQOLa2fHciw",
      "execution_count": null,
      "outputs": []
    },
    {
      "cell_type": "code",
      "metadata": {
        "colab": {
          "base_uri": "https://localhost:8080/"
        },
        "id": "IRt1sLF1buCo",
        "outputId": "83abb906-20a0-4aae-d0e2-0df02fcbc8fb"
      },
      "source": [
        "model = tf.keras.Sequential([\n",
        "    tf.keras.layers.Embedding(voca_size, 32, input_length=max_cnt),\n",
        "    tf.keras.layers.GlobalAveragePooling1D(),\n",
        "    tf.keras.layers.Dense(128, activation='relu'),\n",
        "    tf.keras.layers.Dropout(rate=0.5),\n",
        "    tf.keras.layers.Dense(46, activation='softmax')\n",
        "])\n",
        "\n",
        "# compile model\n",
        "model.compile(loss=CategoricalCrossentropy(label_smoothing=0.3),\n",
        "              optimizer='adam',\n",
        "              metrics=['accuracy'])\n",
        "\n",
        "num_epochs = 20\n",
        "history = model.fit(padded_train, y_train, epochs=num_epochs, verbose=2, validation_split=0.2, class_weight=class_weight)"
      ],
      "id": "IRt1sLF1buCo",
      "execution_count": null,
      "outputs": [
        {
          "output_type": "stream",
          "text": [
            "WARNING:tensorflow:From /usr/local/lib/python3.7/dist-packages/tensorflow/python/ops/array_ops.py:5049: calling gather (from tensorflow.python.ops.array_ops) with validate_indices is deprecated and will be removed in a future version.\n",
            "Instructions for updating:\n",
            "The `validate_indices` argument has no effect. Indices are always validated on CPU and never validated on GPU.\n",
            "Epoch 1/20\n",
            "4358/4358 - 55s - loss: 2.2624 - accuracy: 0.8252 - val_loss: 2.1213 - val_accuracy: 0.8368\n",
            "Epoch 2/20\n",
            "4358/4358 - 58s - loss: 2.1347 - accuracy: 0.8443 - val_loss: 2.0690 - val_accuracy: 0.8496\n",
            "Epoch 3/20\n",
            "4358/4358 - 56s - loss: 2.0782 - accuracy: 0.8609 - val_loss: 2.0315 - val_accuracy: 0.8638\n",
            "Epoch 4/20\n",
            "4358/4358 - 56s - loss: 2.0378 - accuracy: 0.8731 - val_loss: 2.0089 - val_accuracy: 0.8698\n",
            "Epoch 5/20\n",
            "4358/4358 - 56s - loss: 2.0099 - accuracy: 0.8833 - val_loss: 1.9888 - val_accuracy: 0.8763\n",
            "Epoch 6/20\n",
            "4358/4358 - 58s - loss: 1.9863 - accuracy: 0.8909 - val_loss: 1.9758 - val_accuracy: 0.8828\n",
            "Epoch 7/20\n",
            "4358/4358 - 60s - loss: 1.9637 - accuracy: 0.8986 - val_loss: 1.9692 - val_accuracy: 0.8849\n",
            "Epoch 8/20\n",
            "4358/4358 - 57s - loss: 1.9499 - accuracy: 0.9046 - val_loss: 1.9632 - val_accuracy: 0.8946\n",
            "Epoch 9/20\n",
            "4358/4358 - 59s - loss: 1.9362 - accuracy: 0.9087 - val_loss: 1.9567 - val_accuracy: 0.8928\n",
            "Epoch 10/20\n",
            "4358/4358 - 52s - loss: 1.9273 - accuracy: 0.9138 - val_loss: 1.9533 - val_accuracy: 0.8967\n",
            "Epoch 11/20\n",
            "4358/4358 - 46s - loss: 1.9164 - accuracy: 0.9180 - val_loss: 1.9554 - val_accuracy: 0.8959\n",
            "Epoch 12/20\n",
            "4358/4358 - 50s - loss: 1.9104 - accuracy: 0.9205 - val_loss: 1.9495 - val_accuracy: 0.8982\n",
            "Epoch 13/20\n",
            "4358/4358 - 46s - loss: 1.9043 - accuracy: 0.9233 - val_loss: 1.9524 - val_accuracy: 0.9024\n",
            "Epoch 14/20\n",
            "4358/4358 - 51s - loss: 1.9013 - accuracy: 0.9254 - val_loss: 1.9486 - val_accuracy: 0.9024\n",
            "Epoch 15/20\n",
            "4358/4358 - 54s - loss: 1.8940 - accuracy: 0.9279 - val_loss: 1.9489 - val_accuracy: 0.9036\n",
            "Epoch 16/20\n",
            "4358/4358 - 55s - loss: 1.8907 - accuracy: 0.9301 - val_loss: 1.9453 - val_accuracy: 0.9023\n",
            "Epoch 17/20\n",
            "4358/4358 - 43s - loss: 1.8870 - accuracy: 0.9313 - val_loss: 1.9417 - val_accuracy: 0.9035\n",
            "Epoch 18/20\n",
            "4358/4358 - 47s - loss: 1.8849 - accuracy: 0.9327 - val_loss: 1.9437 - val_accuracy: 0.9038\n",
            "Epoch 19/20\n",
            "4358/4358 - 42s - loss: 1.8805 - accuracy: 0.9339 - val_loss: 1.9431 - val_accuracy: 0.9043\n",
            "Epoch 20/20\n",
            "4358/4358 - 44s - loss: 1.8788 - accuracy: 0.9355 - val_loss: 1.9433 - val_accuracy: 0.9062\n"
          ],
          "name": "stdout"
        }
      ]
    },
    {
      "cell_type": "code",
      "metadata": {
        "colab": {
          "base_uri": "https://localhost:8080/"
        },
        "id": "NyZB-xpg205q",
        "outputId": "ab16d07a-b55f-4f31-ad14-686e2f8a15f1"
      },
      "source": [
        "# 모델 평가\n",
        "model.evaluate(padded_train, y_train)[1] # 0.9529270529747009-40"
      ],
      "id": "NyZB-xpg205q",
      "execution_count": null,
      "outputs": [
        {
          "output_type": "stream",
          "text": [
            "5447/5447 [==============================] - 9s 2ms/step - loss: 1.8341 - accuracy: 0.9552\n"
          ],
          "name": "stdout"
        },
        {
          "output_type": "execute_result",
          "data": {
            "text/plain": [
              "0.9551989436149597"
            ]
          },
          "metadata": {
            "tags": []
          },
          "execution_count": 40
        }
      ]
    },
    {
      "cell_type": "code",
      "metadata": {
        "id": "pPMC82XmhaOw"
      },
      "source": [
        "# 모델 저장\n",
        "model.save('/content/gdrive/My Drive/Colab Notebooks/models/base/base_weight_label_smoothing_45epochs_model.h5')"
      ],
      "id": "pPMC82XmhaOw",
      "execution_count": null,
      "outputs": []
    },
    {
      "cell_type": "markdown",
      "metadata": {
        "id": "IZKkLoYTJGC5"
      },
      "source": [
        "#### [모델링 - earlystop]"
      ],
      "id": "IZKkLoYTJGC5"
    },
    {
      "cell_type": "code",
      "metadata": {
        "colab": {
          "base_uri": "https://localhost:8080/"
        },
        "id": "9a2d1c7f",
        "outputId": "912bfe62-234a-4b5f-8b96-5de88a9f72c7"
      },
      "source": [
        "# Modeling.\n",
        "\n",
        "# 학습 모델을 구성.\n",
        "model = Sequential()\n",
        "\n",
        "# word embedding : 데이터 공간의 효율성을 위해 주어진 배열을 정해진 길이로 압축하는 작업.\n",
        "# keras의 Embedding 함수는 오차역전파 방식으로 각 단어 간의 최적의 유사도를 계산.\n",
        "model.add(Embedding(voca_size, 32, input_length = max_cnt))\n",
        "\n",
        "# 임시 데이터에 대한 글로벌 평균 풀링 작업.?\n",
        "model.add(GlobalAveragePooling1D())\n",
        "model.add(Dense(128, activation = 'relu'))\n",
        "\n",
        "# 다변량 라베링에 대한 결과이므로 Softmax 통과. 0, 1(0이 아닌)에 대한 이진 결과로 보고자할 시 Sigmoid로 통과.\n",
        "model.add(Dense(46, activation = 'softmax'))\n",
        "# model.summary()\n",
        "\n",
        "# 컴파일.\n",
        "model.compile(loss = 'sparse_categorical_crossentropy', optimizer = 'adam', metrics = ['accuracy'])\n",
        "\n",
        "# 모델 저장 폴더 설정.\n",
        "model_dir = '/content/gdrive/My Drive/Colab Notebooks/models/eda_f1_f4/'\n",
        "\n",
        "# 해당 폴더가 존재하지 않으면 생성.\n",
        "if not os.path.isdir(model_dir) :                                                           \n",
        "    os.mkdir(model_dir)\n",
        "    \n",
        "# Callback 조건 설정.\n",
        "model_path = model_dir+'{epoch}-{val_loss}.hdf5'\n",
        "\n",
        "# Validation Loss를 기준으로 조건 판단.\n",
        "callback1 = ModelCheckpoint(filepath = model_path, monitor = 'val_loss', verbose = 1, save_best_only = True)\n",
        "\n",
        "# 이전 가장 좋은 결과 대비 10회 이상 후에도 향상 되는 결과가 나오지 않을시 학습 중단.\n",
        "callback2 = EarlyStopping(monitor = 'val_loss', patience=10)\n",
        "\n",
        "# 모델 학습.\n",
        "history = model.fit(padded_train, y_train, validation_split = 0.2, epochs = 30, verbose = 2, callbacks = [callback1, callback2])\n",
        "\n",
        "# 모델 학습(+ class_weight)\n",
        "#history = model.fit(padded_train, y_train, validation_split = 0.2, epochs = 30, verbose = 0, callbacks = [callback1, callback2], class_weight=class_weight)"
      ],
      "id": "9a2d1c7f",
      "execution_count": null,
      "outputs": [
        {
          "output_type": "stream",
          "text": [
            "Epoch 1/30\n",
            "28460/28460 - 431s - loss: 0.6874 - accuracy: 0.8159 - val_loss: 0.2842 - val_accuracy: 0.9184\n",
            "\n",
            "Epoch 00001: val_loss improved from inf to 0.28420, saving model to /content/gdrive/My Drive/Colab Notebooks/models/eda_f1_f4/1-0.284201979637146.hdf5\n",
            "Epoch 2/30\n",
            "28460/28460 - 406s - loss: 0.2223 - accuracy: 0.9340 - val_loss: 0.1990 - val_accuracy: 0.9404\n",
            "\n",
            "Epoch 00002: val_loss improved from 0.28420 to 0.19900, saving model to /content/gdrive/My Drive/Colab Notebooks/models/eda_f1_f4/2-0.19899918138980865.hdf5\n",
            "Epoch 3/30\n",
            "28460/28460 - 395s - loss: 0.1656 - accuracy: 0.9492 - val_loss: 0.1693 - val_accuracy: 0.9480\n",
            "\n",
            "Epoch 00003: val_loss improved from 0.19900 to 0.16932, saving model to /content/gdrive/My Drive/Colab Notebooks/models/eda_f1_f4/3-0.16931679844856262.hdf5\n",
            "Epoch 4/30\n",
            "28460/28460 - 381s - loss: 0.1364 - accuracy: 0.9573 - val_loss: 0.1530 - val_accuracy: 0.9521\n",
            "\n",
            "Epoch 00004: val_loss improved from 0.16932 to 0.15304, saving model to /content/gdrive/My Drive/Colab Notebooks/models/eda_f1_f4/4-0.15303754806518555.hdf5\n",
            "Epoch 5/30\n",
            "28460/28460 - 388s - loss: 0.1177 - accuracy: 0.9629 - val_loss: 0.1433 - val_accuracy: 0.9559\n",
            "\n",
            "Epoch 00005: val_loss improved from 0.15304 to 0.14330, saving model to /content/gdrive/My Drive/Colab Notebooks/models/eda_f1_f4/5-0.1433035433292389.hdf5\n",
            "Epoch 6/30\n",
            "28460/28460 - 394s - loss: 0.1041 - accuracy: 0.9668 - val_loss: 0.1365 - val_accuracy: 0.9574\n",
            "\n",
            "Epoch 00006: val_loss improved from 0.14330 to 0.13653, saving model to /content/gdrive/My Drive/Colab Notebooks/models/eda_f1_f4/6-0.13652701675891876.hdf5\n",
            "Epoch 7/30\n",
            "28460/28460 - 385s - loss: 0.0940 - accuracy: 0.9699 - val_loss: 0.1296 - val_accuracy: 0.9599\n",
            "\n",
            "Epoch 00007: val_loss improved from 0.13653 to 0.12962, saving model to /content/gdrive/My Drive/Colab Notebooks/models/eda_f1_f4/7-0.12962347269058228.hdf5\n",
            "Epoch 8/30\n",
            "28460/28460 - 389s - loss: 0.0860 - accuracy: 0.9724 - val_loss: 0.1245 - val_accuracy: 0.9624\n",
            "\n",
            "Epoch 00008: val_loss improved from 0.12962 to 0.12451, saving model to /content/gdrive/My Drive/Colab Notebooks/models/eda_f1_f4/8-0.12451126426458359.hdf5\n",
            "Epoch 9/30\n",
            "28460/28460 - 370s - loss: 0.0795 - accuracy: 0.9743 - val_loss: 0.1209 - val_accuracy: 0.9632\n",
            "\n",
            "Epoch 00009: val_loss improved from 0.12451 to 0.12095, saving model to /content/gdrive/My Drive/Colab Notebooks/models/eda_f1_f4/9-0.12094780802726746.hdf5\n",
            "Epoch 10/30\n",
            "28460/28460 - 373s - loss: 0.0741 - accuracy: 0.9760 - val_loss: 0.1220 - val_accuracy: 0.9627\n",
            "\n",
            "Epoch 00010: val_loss did not improve from 0.12095\n",
            "Epoch 11/30\n",
            "28460/28460 - 379s - loss: 0.0693 - accuracy: 0.9774 - val_loss: 0.1188 - val_accuracy: 0.9649\n",
            "\n",
            "Epoch 00011: val_loss improved from 0.12095 to 0.11876, saving model to /content/gdrive/My Drive/Colab Notebooks/models/eda_f1_f4/11-0.11876066774129868.hdf5\n",
            "Epoch 12/30\n",
            "28460/28460 - 376s - loss: 0.0651 - accuracy: 0.9787 - val_loss: 0.1183 - val_accuracy: 0.9645\n",
            "\n",
            "Epoch 00012: val_loss improved from 0.11876 to 0.11827, saving model to /content/gdrive/My Drive/Colab Notebooks/models/eda_f1_f4/12-0.11826921999454498.hdf5\n",
            "Epoch 13/30\n",
            "28460/28460 - 395s - loss: 0.0617 - accuracy: 0.9797 - val_loss: 0.1250 - val_accuracy: 0.9638\n",
            "\n",
            "Epoch 00013: val_loss did not improve from 0.11827\n",
            "Epoch 14/30\n",
            "28460/28460 - 389s - loss: 0.0586 - accuracy: 0.9807 - val_loss: 0.1150 - val_accuracy: 0.9664\n",
            "\n",
            "Epoch 00014: val_loss improved from 0.11827 to 0.11498, saving model to /content/gdrive/My Drive/Colab Notebooks/models/eda_f1_f4/14-0.11498484760522842.hdf5\n",
            "Epoch 15/30\n",
            "28460/28460 - 387s - loss: 0.0560 - accuracy: 0.9815 - val_loss: 0.1148 - val_accuracy: 0.9673\n",
            "\n",
            "Epoch 00015: val_loss improved from 0.11498 to 0.11479, saving model to /content/gdrive/My Drive/Colab Notebooks/models/eda_f1_f4/15-0.11478900164365768.hdf5\n",
            "Epoch 16/30\n",
            "28460/28460 - 376s - loss: 0.0534 - accuracy: 0.9823 - val_loss: 0.1171 - val_accuracy: 0.9673\n",
            "\n",
            "Epoch 00016: val_loss did not improve from 0.11479\n",
            "Epoch 17/30\n",
            "28460/28460 - 380s - loss: 0.0515 - accuracy: 0.9829 - val_loss: 0.1159 - val_accuracy: 0.9673\n",
            "\n",
            "Epoch 00017: val_loss did not improve from 0.11479\n",
            "Epoch 18/30\n",
            "28460/28460 - 370s - loss: 0.0495 - accuracy: 0.9836 - val_loss: 0.1179 - val_accuracy: 0.9672\n",
            "\n",
            "Epoch 00018: val_loss did not improve from 0.11479\n",
            "Epoch 19/30\n",
            "28460/28460 - 362s - loss: 0.0480 - accuracy: 0.9840 - val_loss: 0.1218 - val_accuracy: 0.9664\n",
            "\n",
            "Epoch 00019: val_loss did not improve from 0.11479\n",
            "Epoch 20/30\n",
            "28460/28460 - 371s - loss: 0.0465 - accuracy: 0.9844 - val_loss: 0.1184 - val_accuracy: 0.9675\n",
            "\n",
            "Epoch 00020: val_loss did not improve from 0.11479\n",
            "Epoch 21/30\n",
            "28460/28460 - 360s - loss: 0.0449 - accuracy: 0.9849 - val_loss: 0.1211 - val_accuracy: 0.9667\n",
            "\n",
            "Epoch 00021: val_loss did not improve from 0.11479\n",
            "Epoch 22/30\n",
            "28460/28460 - 363s - loss: 0.0435 - accuracy: 0.9853 - val_loss: 0.1210 - val_accuracy: 0.9674\n",
            "\n",
            "Epoch 00022: val_loss did not improve from 0.11479\n",
            "Epoch 23/30\n",
            "28460/28460 - 365s - loss: 0.0426 - accuracy: 0.9857 - val_loss: 0.1289 - val_accuracy: 0.9653\n",
            "\n",
            "Epoch 00023: val_loss did not improve from 0.11479\n",
            "Epoch 24/30\n",
            "28460/28460 - 372s - loss: 0.0414 - accuracy: 0.9861 - val_loss: 0.1256 - val_accuracy: 0.9678\n",
            "\n",
            "Epoch 00024: val_loss did not improve from 0.11479\n",
            "Epoch 25/30\n",
            "28460/28460 - 356s - loss: 0.0407 - accuracy: 0.9862 - val_loss: 0.1253 - val_accuracy: 0.9672\n",
            "\n",
            "Epoch 00025: val_loss did not improve from 0.11479\n"
          ],
          "name": "stdout"
        }
      ]
    },
    {
      "cell_type": "markdown",
      "metadata": {
        "id": "W2qBxPDACHiu"
      },
      "source": [
        "#### [모델링 - LSTM]"
      ],
      "id": "W2qBxPDACHiu"
    },
    {
      "cell_type": "code",
      "metadata": {
        "id": "uwtYVjDfKC4Y"
      },
      "source": [
        "from tensorflow.keras.layers import LSTM, Dropout\n",
        "from tensorflow.keras.layers import Bidirectional"
      ],
      "id": "uwtYVjDfKC4Y",
      "execution_count": null,
      "outputs": []
    },
    {
      "cell_type": "code",
      "metadata": {
        "colab": {
          "base_uri": "https://localhost:8080/"
        },
        "id": "snf9NEhyj6hN",
        "outputId": "8d9a1f2e-e8d8-4c79-e4d0-ddfac07f056a"
      },
      "source": [
        "model = tf.keras.Sequential([\n",
        "    tf.keras.layers.Embedding(voca_size, 32, input_length=max_cnt),\n",
        "    tf.keras.layers.Bidirectional(LSTM(20, return_sequences = False)),\n",
        "    tf.keras.layers.Dense(256, activation='relu'),\n",
        "    tf.keras.layers.Dropout(rate=0.5),\n",
        "    tf.keras.layers.Dense(128, activation='relu'),\n",
        "    tf.keras.layers.Dropout(rate=0.5),\n",
        "    tf.keras.layers.Dense(46, activation='softmax')\n",
        "])\n",
        "\n",
        "# compile model\n",
        "model.compile(loss='sparse_categorical_crossentropy',\n",
        "              optimizer='adam',\n",
        "              metrics=['accuracy'])\n",
        "\n",
        "num_epochs = 30\n",
        "history = model.fit(padded_train, y_train, epochs=num_epochs, verbose=2, validation_split=0.2)"
      ],
      "id": "snf9NEhyj6hN",
      "execution_count": null,
      "outputs": [
        {
          "output_type": "stream",
          "text": [
            "Epoch 1/30\n",
            "28460/28460 - 529s - loss: 0.8067 - accuracy: 0.7810 - val_loss: 0.3396 - val_accuracy: 0.9068\n",
            "Epoch 2/30\n",
            "28460/28460 - 530s - loss: 0.3471 - accuracy: 0.9097 - val_loss: 0.2495 - val_accuracy: 0.9299\n",
            "Epoch 3/30\n",
            "28460/28460 - 524s - loss: 0.2654 - accuracy: 0.9305 - val_loss: 0.2103 - val_accuracy: 0.9413\n",
            "Epoch 4/30\n",
            "28460/28460 - 521s - loss: 0.2256 - accuracy: 0.9408 - val_loss: 0.1940 - val_accuracy: 0.9457\n",
            "Epoch 5/30\n",
            "28460/28460 - 522s - loss: 0.2017 - accuracy: 0.9473 - val_loss: 0.1887 - val_accuracy: 0.9478\n",
            "Epoch 6/30\n",
            "28460/28460 - 521s - loss: 0.1868 - accuracy: 0.9511 - val_loss: 0.1885 - val_accuracy: 0.9499\n",
            "Epoch 7/30\n",
            "28460/28460 - 524s - loss: 0.1761 - accuracy: 0.9539 - val_loss: 0.1935 - val_accuracy: 0.9494\n",
            "Epoch 8/30\n",
            "28460/28460 - 517s - loss: 0.1678 - accuracy: 0.9559 - val_loss: 0.1817 - val_accuracy: 0.9516\n",
            "Epoch 9/30\n",
            "28460/28460 - 522s - loss: 0.1629 - accuracy: 0.9571 - val_loss: 0.1759 - val_accuracy: 0.9529\n",
            "Epoch 10/30\n"
          ],
          "name": "stdout"
        }
      ]
    },
    {
      "cell_type": "code",
      "metadata": {
        "colab": {
          "base_uri": "https://localhost:8080/"
        },
        "id": "I2MENVO25G1S",
        "outputId": "b5387619-ac11-4cdb-dce4-d89a62e623b1"
      },
      "source": [
        "# 모델 평가\n",
        "model.evaluate(padded_train, y_train)[1]"
      ],
      "id": "I2MENVO25G1S",
      "execution_count": null,
      "outputs": [
        {
          "output_type": "stream",
          "text": [
            "5447/5447 [==============================] - 11s 2ms/step - loss: 0.7687 - accuracy: 0.9032\n"
          ],
          "name": "stdout"
        },
        {
          "output_type": "execute_result",
          "data": {
            "text/plain": [
              "0.9031519889831543"
            ]
          },
          "metadata": {
            "tags": []
          },
          "execution_count": 55
        }
      ]
    },
    {
      "cell_type": "code",
      "metadata": {
        "id": "kO5mSAvjqbXp"
      },
      "source": [
        "# 모델 저장\n",
        "model.save('/content/gdrive/My Drive/Colab Notebooks/models/base/base_weight_lstm_200epochs_model.h5')"
      ],
      "id": "kO5mSAvjqbXp",
      "execution_count": null,
      "outputs": []
    },
    {
      "cell_type": "markdown",
      "metadata": {
        "id": "I4Dj454RCEsV"
      },
      "source": [
        "# **5. 예측 후 제출하기**"
      ],
      "id": "I4Dj454RCEsV"
    },
    {
      "cell_type": "code",
      "metadata": {
        "colab": {
          "base_uri": "https://localhost:8080/"
        },
        "id": "YS1jp3h0VXny",
        "outputId": "6d5de4a5-4f74-4420-fa04-128c4665921e"
      },
      "source": [
        "# 성능 최적의 모델 로딩. \n",
        "# 모델 폴더의 가장 마지막에 위치한 파일명 입력.\n",
        "best_model = load_model('/content/gdrive/My Drive/Colab Notebooks/models/base/eda5_f1_f4_label_smoothing_45epochs_model.h5')\n",
        "best_model.evaluate(padded_train, y_train)[1]"
      ],
      "id": "YS1jp3h0VXny",
      "execution_count": null,
      "outputs": [
        {
          "output_type": "stream",
          "text": [
            "35575/35575 [==============================] - 121s 3ms/step - loss: 1.8731 - accuracy: 0.9566\n"
          ],
          "name": "stdout"
        },
        {
          "output_type": "execute_result",
          "data": {
            "text/plain": [
              "0.9565738439559937"
            ]
          },
          "metadata": {
            "tags": []
          },
          "execution_count": 35
        }
      ]
    },
    {
      "cell_type": "code",
      "metadata": {
        "colab": {
          "base_uri": "https://localhost:8080/",
          "height": 374
        },
        "id": "cd96ac58",
        "outputId": "52af6274-b843-4a21-9ad3-026faf0f879a"
      },
      "source": [
        "# Train Loss\n",
        "y_loss = history.history['loss']\n",
        "# Validation Loss\n",
        "y_vloss = history.history['val_loss']\n",
        "\n",
        "plt.figure(figsize=(8,6))\n",
        "x_len = np.arange(len(y_loss))\n",
        "plt.plot(x_len, y_loss,  label='Train Loss', c='coral', alpha=.8)\n",
        "plt.plot(x_len, y_vloss,  label='Validation Loss', c='cornflowerblue', alpha=.8)\n",
        "plt.legend()\n",
        "plt.show()"
      ],
      "id": "cd96ac58",
      "execution_count": null,
      "outputs": [
        {
          "output_type": "display_data",
          "data": {
            "image/png": "[encoded data removed]",
            "text/plain": [
              "<Figure size 576x432 with 1 Axes>"
            ]
          },
          "metadata": {
            "tags": []
          }
        }
      ]
    },
    {
      "cell_type": "code",
      "metadata": {
        "id": "69340dae"
      },
      "source": [
        "pred = best_model.predict(padded_test)\n",
        "pred = tf.argmax(pred, axis = 1)\n",
        "\n",
        "df = pd.read_csv('/content/gdrive/My Drive/Colab Notebooks/data/sample_submission.csv')\n",
        "df['label'] = pred\n",
        "df.to_csv('/content/gdrive/My Drive/Colab Notebooks/data/base_label_smoothing_45epochs_model.csv', index=False)"
      ],
      "id": "69340dae",
      "execution_count": null,
      "outputs": []
    },
    {
      "cell_type": "code",
      "metadata": {
        "colab": {
          "base_uri": "https://localhost:8080/",
          "height": 419
        },
        "id": "cSLq748IRv3p",
        "outputId": "9bfd0636-97a6-4d64-b975-18aa76359e3b"
      },
      "source": [
        "pd.read_csv('/content/gdrive/My Drive/Colab Notebooks/data/base_label_smoothing_45epochs_model.csv')"
      ],
      "id": "cSLq748IRv3p",
      "execution_count": null,
      "outputs": [
        {
          "output_type": "execute_result",
          "data": {
            "text/html": [
              "<div>\n",
              "<style scoped>\n",
              "    .dataframe tbody tr th:only-of-type {\n",
              "        vertical-align: middle;\n",
              "    }\n",
              "\n",
              "    .dataframe tbody tr th {\n",
              "        vertical-align: top;\n",
              "    }\n",
              "\n",
              "    .dataframe thead th {\n",
              "        text-align: right;\n",
              "    }\n",
              "</style>\n",
              "<table border=\"1\" class=\"dataframe\">\n",
              "  <thead>\n",
              "    <tr style=\"text-align: right;\">\n",
              "      <th></th>\n",
              "      <th>index</th>\n",
              "      <th>label</th>\n",
              "    </tr>\n",
              "  </thead>\n",
              "  <tbody>\n",
              "    <tr>\n",
              "      <th>0</th>\n",
              "      <td>174304</td>\n",
              "      <td>0</td>\n",
              "    </tr>\n",
              "    <tr>\n",
              "      <th>1</th>\n",
              "      <td>174305</td>\n",
              "      <td>0</td>\n",
              "    </tr>\n",
              "    <tr>\n",
              "      <th>2</th>\n",
              "      <td>174306</td>\n",
              "      <td>0</td>\n",
              "    </tr>\n",
              "    <tr>\n",
              "      <th>3</th>\n",
              "      <td>174307</td>\n",
              "      <td>0</td>\n",
              "    </tr>\n",
              "    <tr>\n",
              "      <th>4</th>\n",
              "      <td>174308</td>\n",
              "      <td>0</td>\n",
              "    </tr>\n",
              "    <tr>\n",
              "      <th>...</th>\n",
              "      <td>...</td>\n",
              "      <td>...</td>\n",
              "    </tr>\n",
              "    <tr>\n",
              "      <th>43571</th>\n",
              "      <td>217875</td>\n",
              "      <td>0</td>\n",
              "    </tr>\n",
              "    <tr>\n",
              "      <th>43572</th>\n",
              "      <td>217876</td>\n",
              "      <td>0</td>\n",
              "    </tr>\n",
              "    <tr>\n",
              "      <th>43573</th>\n",
              "      <td>217877</td>\n",
              "      <td>2</td>\n",
              "    </tr>\n",
              "    <tr>\n",
              "      <th>43574</th>\n",
              "      <td>217878</td>\n",
              "      <td>0</td>\n",
              "    </tr>\n",
              "    <tr>\n",
              "      <th>43575</th>\n",
              "      <td>217879</td>\n",
              "      <td>0</td>\n",
              "    </tr>\n",
              "  </tbody>\n",
              "</table>\n",
              "<p>43576 rows × 2 columns</p>\n",
              "</div>"
            ],
            "text/plain": [
              "        index  label\n",
              "0      174304      0\n",
              "1      174305      0\n",
              "2      174306      0\n",
              "3      174307      0\n",
              "4      174308      0\n",
              "...       ...    ...\n",
              "43571  217875      0\n",
              "43572  217876      0\n",
              "43573  217877      2\n",
              "43574  217878      0\n",
              "43575  217879      0\n",
              "\n",
              "[43576 rows x 2 columns]"
            ]
          },
          "metadata": {
            "tags": []
          },
          "execution_count": 48
        }
      ]
    }
  ]
}